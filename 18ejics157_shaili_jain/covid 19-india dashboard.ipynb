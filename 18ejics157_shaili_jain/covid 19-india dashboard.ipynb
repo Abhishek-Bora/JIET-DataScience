{
 "cells": [
  {
   "cell_type": "markdown",
   "metadata": {},
   "source": [
    "# COVID-19 pandemic in India\n",
    "### The COVID-19 pandemic in India is part of the worldwide pandemic of coronavirus disease 2019 (COVID-19) caused by severe acute respiratory syndrome coronavirus 2 (SARS-CoV-2).On 22 March, India observed a 14-hour voluntary public curfew at the instance of the prime minister Narendra Modi. It was followed by mandatory lockdowns in COVID-19 hotspots and all major cities. Further, on 24 March, the Prime Minister ordered a nationwide lockdown for 21 days, affecting the entire 1.3 billion population of India. On 14 April, the PM extended the nationwide lockdown till 3 May which was followed by two-week extensions starting 3 and 17 May with substantial relaxations. Beginning 1 June the Government has started unlocking the country (barring containment zones) in three unlock phases.\n",
    "\n",
    "##### Source: https://en.wikipedia.org/wiki/COVID-19_pandemic_in_India"
   ]
  },
  {
   "cell_type": "code",
   "execution_count": 50,
   "metadata": {},
   "outputs": [],
   "source": [
    "import plotly.graph_objects as go\n",
    "from plotly.subplots import make_subplots\n",
    "import pandas as pd\n",
    "import requests\n",
    "from datetime import datetime\n",
    "import numpy as np"
   ]
  },
  {
   "cell_type": "code",
   "execution_count": 51,
   "metadata": {},
   "outputs": [
    {
     "name": "stdout",
     "output_type": "stream",
     "text": [
      "dict_keys(['cases_time_series', 'statewise', 'tested'])\n"
     ]
    },
    {
     "data": {
      "text/html": [
       "<div>\n",
       "<style scoped>\n",
       "    .dataframe tbody tr th:only-of-type {\n",
       "        vertical-align: middle;\n",
       "    }\n",
       "\n",
       "    .dataframe tbody tr th {\n",
       "        vertical-align: top;\n",
       "    }\n",
       "\n",
       "    .dataframe thead th {\n",
       "        text-align: right;\n",
       "    }\n",
       "</style>\n",
       "<table border=\"1\" class=\"dataframe\">\n",
       "  <thead>\n",
       "    <tr style=\"text-align: right;\">\n",
       "      <th></th>\n",
       "      <th>active</th>\n",
       "      <th>confirmed</th>\n",
       "      <th>deaths</th>\n",
       "      <th>deltaconfirmed</th>\n",
       "      <th>deltadeaths</th>\n",
       "      <th>deltarecovered</th>\n",
       "      <th>lastupdatedtime</th>\n",
       "      <th>migratedother</th>\n",
       "      <th>recovered</th>\n",
       "      <th>state</th>\n",
       "      <th>statecode</th>\n",
       "      <th>statenotes</th>\n",
       "    </tr>\n",
       "  </thead>\n",
       "  <tbody>\n",
       "    <tr>\n",
       "      <th>0</th>\n",
       "      <td>161423</td>\n",
       "      <td>369314</td>\n",
       "      <td>12304</td>\n",
       "      <td>2050</td>\n",
       "      <td>41</td>\n",
       "      <td>1104</td>\n",
       "      <td>18/06/2020 18:52:46</td>\n",
       "      <td>45</td>\n",
       "      <td>195542</td>\n",
       "      <td>Total</td>\n",
       "      <td>TT</td>\n",
       "      <td></td>\n",
       "    </tr>\n",
       "    <tr>\n",
       "      <th>1</th>\n",
       "      <td>51922</td>\n",
       "      <td>116752</td>\n",
       "      <td>5651</td>\n",
       "      <td>0</td>\n",
       "      <td>0</td>\n",
       "      <td>0</td>\n",
       "      <td>17/06/2020 23:34:48</td>\n",
       "      <td>13</td>\n",
       "      <td>59166</td>\n",
       "      <td>Maharashtra</td>\n",
       "      <td>MH</td>\n",
       "      <td>13 cases were marked as non-covid deaths in MH...</td>\n",
       "    </tr>\n",
       "    <tr>\n",
       "      <th>2</th>\n",
       "      <td>21993</td>\n",
       "      <td>50193</td>\n",
       "      <td>576</td>\n",
       "      <td>0</td>\n",
       "      <td>0</td>\n",
       "      <td>0</td>\n",
       "      <td>17/06/2020 18:45:48</td>\n",
       "      <td>0</td>\n",
       "      <td>27624</td>\n",
       "      <td>Tamil Nadu</td>\n",
       "      <td>TN</td>\n",
       "      <td>2 deaths cross notified to other states from C...</td>\n",
       "    </tr>\n",
       "    <tr>\n",
       "      <th>3</th>\n",
       "      <td>27741</td>\n",
       "      <td>47102</td>\n",
       "      <td>1904</td>\n",
       "      <td>0</td>\n",
       "      <td>0</td>\n",
       "      <td>0</td>\n",
       "      <td>17/06/2020 23:26:52</td>\n",
       "      <td>0</td>\n",
       "      <td>17457</td>\n",
       "      <td>Delhi</td>\n",
       "      <td>DL</td>\n",
       "      <td>Delhi bulletins in the morning, containing dat...</td>\n",
       "    </tr>\n",
       "    <tr>\n",
       "      <th>4</th>\n",
       "      <td>6149</td>\n",
       "      <td>25148</td>\n",
       "      <td>1561</td>\n",
       "      <td>0</td>\n",
       "      <td>0</td>\n",
       "      <td>0</td>\n",
       "      <td>17/06/2020 21:05:49</td>\n",
       "      <td>0</td>\n",
       "      <td>17438</td>\n",
       "      <td>Gujarat</td>\n",
       "      <td>GJ</td>\n",
       "      <td></td>\n",
       "    </tr>\n",
       "  </tbody>\n",
       "</table>\n",
       "</div>"
      ],
      "text/plain": [
       "   active confirmed deaths deltaconfirmed deltadeaths deltarecovered  \\\n",
       "0  161423    369314  12304           2050          41           1104   \n",
       "1   51922    116752   5651              0           0              0   \n",
       "2   21993     50193    576              0           0              0   \n",
       "3   27741     47102   1904              0           0              0   \n",
       "4    6149     25148   1561              0           0              0   \n",
       "\n",
       "       lastupdatedtime migratedother recovered        state statecode  \\\n",
       "0  18/06/2020 18:52:46            45    195542        Total        TT   \n",
       "1  17/06/2020 23:34:48            13     59166  Maharashtra        MH   \n",
       "2  17/06/2020 18:45:48             0     27624   Tamil Nadu        TN   \n",
       "3  17/06/2020 23:26:52             0     17457        Delhi        DL   \n",
       "4  17/06/2020 21:05:49             0     17438      Gujarat        GJ   \n",
       "\n",
       "                                          statenotes  \n",
       "0                                                     \n",
       "1  13 cases were marked as non-covid deaths in MH...  \n",
       "2  2 deaths cross notified to other states from C...  \n",
       "3  Delhi bulletins in the morning, containing dat...  \n",
       "4                                                     "
      ]
     },
     "execution_count": 51,
     "metadata": {},
     "output_type": "execute_result"
    }
   ],
   "source": [
    "raw_data=requests.get(\"https://api.covid19india.org/data.json\")\n",
    "data_json=raw_data.json()\n",
    "print(data_json.keys())\n",
    "covid=pd.DataFrame(data_json['statewise'])\n",
    "covid.head()"
   ]
  },
  {
   "cell_type": "code",
   "execution_count": 52,
   "metadata": {
    "scrolled": true
   },
   "outputs": [
    {
     "name": "stdout",
     "output_type": "stream",
     "text": [
      "<class 'pandas.core.frame.DataFrame'>\n",
      "RangeIndex: 38 entries, 0 to 37\n",
      "Data columns (total 12 columns):\n",
      " #   Column           Non-Null Count  Dtype \n",
      "---  ------           --------------  ----- \n",
      " 0   active           38 non-null     object\n",
      " 1   confirmed        38 non-null     object\n",
      " 2   deaths           38 non-null     object\n",
      " 3   deltaconfirmed   38 non-null     object\n",
      " 4   deltadeaths      38 non-null     object\n",
      " 5   deltarecovered   38 non-null     object\n",
      " 6   lastupdatedtime  38 non-null     object\n",
      " 7   migratedother    38 non-null     object\n",
      " 8   recovered        38 non-null     object\n",
      " 9   state            38 non-null     object\n",
      " 10  statecode        38 non-null     object\n",
      " 11  statenotes       38 non-null     object\n",
      "dtypes: object(12)\n",
      "memory usage: 3.7+ KB\n"
     ]
    }
   ],
   "source": [
    "covid.info()"
   ]
  },
  {
   "cell_type": "code",
   "execution_count": 53,
   "metadata": {},
   "outputs": [
    {
     "data": {
      "text/plain": [
       "(38, 12)"
      ]
     },
     "execution_count": 53,
     "metadata": {},
     "output_type": "execute_result"
    }
   ],
   "source": [
    "#getting the information of rows and columns\n",
    "covid.shape"
   ]
  },
  {
   "cell_type": "code",
   "execution_count": 54,
   "metadata": {},
   "outputs": [
    {
     "data": {
      "text/plain": [
       "Index(['active', 'confirmed', 'deaths', 'deltaconfirmed', 'deltadeaths',\n",
       "       'deltarecovered', 'lastupdatedtime', 'migratedother', 'recovered',\n",
       "       'state', 'statecode', 'statenotes'],\n",
       "      dtype='object')"
      ]
     },
     "execution_count": 54,
     "metadata": {},
     "output_type": "execute_result"
    }
   ],
   "source": [
    "covid.columns"
   ]
  },
  {
   "cell_type": "code",
   "execution_count": 55,
   "metadata": {},
   "outputs": [
    {
     "name": "stdout",
     "output_type": "stream",
     "text": [
      "<class 'pandas.core.frame.DataFrame'>\n",
      "RangeIndex: 38 entries, 0 to 37\n",
      "Data columns (total 12 columns):\n",
      " #   Column           Non-Null Count  Dtype \n",
      "---  ------           --------------  ----- \n",
      " 0   active           38 non-null     int64 \n",
      " 1   confirmed        38 non-null     int64 \n",
      " 2   deaths           38 non-null     int64 \n",
      " 3   deltaconfirmed   38 non-null     int64 \n",
      " 4   deltadeaths      38 non-null     int64 \n",
      " 5   deltarecovered   38 non-null     int64 \n",
      " 6   lastupdatedtime  38 non-null     object\n",
      " 7   migratedother    38 non-null     int64 \n",
      " 8   recovered        38 non-null     int64 \n",
      " 9   state            38 non-null     object\n",
      " 10  statecode        38 non-null     object\n",
      " 11  statenotes       38 non-null     object\n",
      "dtypes: int64(8), object(4)\n",
      "memory usage: 3.7+ KB\n"
     ]
    }
   ],
   "source": [
    "#converting the object datatype into numeric data type\n",
    "\n",
    "covid.active=pd.to_numeric(covid.active,errors=\"coerce\")\n",
    "covid.confirmed=pd.to_numeric(covid.confirmed,errors=\"coerce\")\n",
    "covid.deaths=pd.to_numeric(covid.deaths,errors=\"coerce\")\n",
    "covid.deltaconfirmed=pd.to_numeric(covid.deltaconfirmed,errors=\"coerce\")\n",
    "covid.deltadeaths=pd.to_numeric(covid.deltadeaths,errors=\"coerce\")\n",
    "covid.deltarecovered=pd.to_numeric(covid.deltarecovered,errors=\"coerce\")\n",
    "covid.migratedother=pd.to_numeric(covid.migratedother,errors=\"coerce\")\n",
    "covid.recovered=pd.to_numeric(covid.recovered,errors=\"coerce\")\n",
    "covid.info()"
   ]
  },
  {
   "cell_type": "code",
   "execution_count": 56,
   "metadata": {},
   "outputs": [
    {
     "data": {
      "text/html": [
       "<div>\n",
       "<style scoped>\n",
       "    .dataframe tbody tr th:only-of-type {\n",
       "        vertical-align: middle;\n",
       "    }\n",
       "\n",
       "    .dataframe tbody tr th {\n",
       "        vertical-align: top;\n",
       "    }\n",
       "\n",
       "    .dataframe thead th {\n",
       "        text-align: right;\n",
       "    }\n",
       "</style>\n",
       "<table border=\"1\" class=\"dataframe\">\n",
       "  <thead>\n",
       "    <tr style=\"text-align: right;\">\n",
       "      <th></th>\n",
       "      <th>active</th>\n",
       "      <th>confirmed</th>\n",
       "      <th>deaths</th>\n",
       "      <th>deltaconfirmed</th>\n",
       "      <th>deltadeaths</th>\n",
       "      <th>deltarecovered</th>\n",
       "      <th>lastupdatedtime</th>\n",
       "      <th>migratedother</th>\n",
       "      <th>recovered</th>\n",
       "      <th>state</th>\n",
       "      <th>statecode</th>\n",
       "      <th>statenotes</th>\n",
       "    </tr>\n",
       "  </thead>\n",
       "  <tbody>\n",
       "    <tr>\n",
       "      <th>0</th>\n",
       "      <td>161423</td>\n",
       "      <td>369314</td>\n",
       "      <td>12304</td>\n",
       "      <td>2050</td>\n",
       "      <td>41</td>\n",
       "      <td>1104</td>\n",
       "      <td>18/06/2020 18:52:46</td>\n",
       "      <td>45</td>\n",
       "      <td>195542</td>\n",
       "      <td>Total</td>\n",
       "      <td>TT</td>\n",
       "      <td></td>\n",
       "    </tr>\n",
       "  </tbody>\n",
       "</table>\n",
       "</div>"
      ],
      "text/plain": [
       "   active  confirmed  deaths  deltaconfirmed  deltadeaths  deltarecovered  \\\n",
       "0  161423     369314   12304            2050           41            1104   \n",
       "\n",
       "       lastupdatedtime  migratedother  recovered  state statecode statenotes  \n",
       "0  18/06/2020 18:52:46             45     195542  Total        TT             "
      ]
     },
     "execution_count": 56,
     "metadata": {},
     "output_type": "execute_result"
    }
   ],
   "source": [
    "#show the whole table\n",
    "covid.head(1)"
   ]
  },
  {
   "cell_type": "code",
   "execution_count": 57,
   "metadata": {},
   "outputs": [
    {
     "name": "stdout",
     "output_type": "stream",
     "text": [
      "total active cases in india are:  161423\n",
      "total confirmed cases in india are:  369314\n",
      "total deaths in india are:  12304\n",
      "total recovered cases in india are:  195542\n"
     ]
    }
   ],
   "source": [
    "# now i will calculate the total cases in india\n",
    "#The sum method will total up all the values in each of the four columns and assigned the final sum to their respective variables total_active, total_confirmed, total_recovered, and total_deaths.\n",
    "total_active=covid['active'].sum()-covid['active'][0]\n",
    "total_confirmed=covid['confirmed'].sum()-covid['confirmed'][0]\n",
    "total_deaths=covid['deaths'].sum()-covid['deaths'][0]\n",
    "total_recovered=covid['recovered'].sum()-covid['recovered'][0]\n",
    "print(\"total active cases in india are: \",total_active)\n",
    "print(\"total confirmed cases in india are: \",total_confirmed)\n",
    "print(\"total deaths in india are: \",total_deaths)\n",
    "print(\"total recovered cases in india are: \",total_recovered)"
   ]
  },
  {
   "cell_type": "code",
   "execution_count": 58,
   "metadata": {},
   "outputs": [],
   "source": [
    "# now we will list the top 10 states for confirmed, deaths, recovered,active cases\n",
    "\n",
    "#for confirmed cases\n",
    "top10_covid=covid.nlargest(11,'confirmed')\n",
    "top10_states_confirm=top10_covid['state'].tolist()\n",
    "top10_confirmed=top10_covid['confirmed'].tolist()\n",
    "top10_states_confirm.remove('Total')\n",
    "top10_confirmed.remove(max(top10_confirmed))\n",
    "\n",
    "#for active cases\n",
    "top10_covid=covid.nlargest(10,'active')\n",
    "top10_states_active=top10_covid['state'].tolist()\n",
    "top10_active=top10_covid['active'].tolist()\n",
    "top10_states_active.remove('Total')\n",
    "top10_active.remove(max(top10_active))\n",
    "\n",
    "\n",
    "#for recovered cases\n",
    "top10_covid=covid.nlargest(10,'recovered')\n",
    "top10_states_recovered=top10_covid['state'].tolist()\n",
    "top10_recovered=top10_covid['recovered'].tolist()\n",
    "top10_states_recovered.remove('Total')\n",
    "top10_recovered.remove(max(top10_recovered))\n",
    "\n",
    "\n",
    "#for death\n",
    "top10_covid=covid.nlargest(10,'deaths')\n",
    "top10_states_deaths=top10_covid['state'].tolist()\n",
    "top10_death=top10_covid['deaths'].tolist()\n",
    "top10_states_deaths.remove('Total')\n",
    "top10_death.remove(max(top10_death))"
   ]
  },
  {
   "cell_type": "code",
   "execution_count": 59,
   "metadata": {},
   "outputs": [
    {
     "data": {
      "text/plain": [
       "['Maharashtra',\n",
       " 'Tamil Nadu',\n",
       " 'Delhi',\n",
       " 'Gujarat',\n",
       " 'Uttar Pradesh',\n",
       " 'Rajasthan',\n",
       " 'West Bengal',\n",
       " 'Madhya Pradesh',\n",
       " 'Haryana',\n",
       " 'State Unassigned']"
      ]
     },
     "execution_count": 59,
     "metadata": {},
     "output_type": "execute_result"
    }
   ],
   "source": [
    "top10_states_confirm\n"
   ]
  },
  {
   "cell_type": "code",
   "execution_count": 60,
   "metadata": {},
   "outputs": [
    {
     "data": {
      "text/html": [
       "<div>\n",
       "<style scoped>\n",
       "    .dataframe tbody tr th:only-of-type {\n",
       "        vertical-align: middle;\n",
       "    }\n",
       "\n",
       "    .dataframe tbody tr th {\n",
       "        vertical-align: top;\n",
       "    }\n",
       "\n",
       "    .dataframe thead th {\n",
       "        text-align: right;\n",
       "    }\n",
       "</style>\n",
       "<table border=\"1\" class=\"dataframe\">\n",
       "  <thead>\n",
       "    <tr style=\"text-align: right;\">\n",
       "      <th></th>\n",
       "      <th>active</th>\n",
       "      <th>confirmed</th>\n",
       "      <th>deaths</th>\n",
       "      <th>deltaconfirmed</th>\n",
       "      <th>deltadeaths</th>\n",
       "      <th>deltarecovered</th>\n",
       "      <th>lastupdatedtime</th>\n",
       "      <th>migratedother</th>\n",
       "      <th>recovered</th>\n",
       "      <th>state</th>\n",
       "      <th>statecode</th>\n",
       "      <th>statenotes</th>\n",
       "    </tr>\n",
       "  </thead>\n",
       "  <tbody>\n",
       "    <tr>\n",
       "      <th>0</th>\n",
       "      <td>161423</td>\n",
       "      <td>369314</td>\n",
       "      <td>12304</td>\n",
       "      <td>2050</td>\n",
       "      <td>41</td>\n",
       "      <td>1104</td>\n",
       "      <td>18/06/2020 18:52:46</td>\n",
       "      <td>45</td>\n",
       "      <td>195542</td>\n",
       "      <td>Total</td>\n",
       "      <td>TT</td>\n",
       "      <td></td>\n",
       "    </tr>\n",
       "    <tr>\n",
       "      <th>1</th>\n",
       "      <td>51922</td>\n",
       "      <td>116752</td>\n",
       "      <td>5651</td>\n",
       "      <td>0</td>\n",
       "      <td>0</td>\n",
       "      <td>0</td>\n",
       "      <td>17/06/2020 23:34:48</td>\n",
       "      <td>13</td>\n",
       "      <td>59166</td>\n",
       "      <td>Maharashtra</td>\n",
       "      <td>MH</td>\n",
       "      <td>13 cases were marked as non-covid deaths in MH...</td>\n",
       "    </tr>\n",
       "    <tr>\n",
       "      <th>2</th>\n",
       "      <td>21993</td>\n",
       "      <td>50193</td>\n",
       "      <td>576</td>\n",
       "      <td>0</td>\n",
       "      <td>0</td>\n",
       "      <td>0</td>\n",
       "      <td>17/06/2020 18:45:48</td>\n",
       "      <td>0</td>\n",
       "      <td>27624</td>\n",
       "      <td>Tamil Nadu</td>\n",
       "      <td>TN</td>\n",
       "      <td>2 deaths cross notified to other states from C...</td>\n",
       "    </tr>\n",
       "    <tr>\n",
       "      <th>3</th>\n",
       "      <td>27741</td>\n",
       "      <td>47102</td>\n",
       "      <td>1904</td>\n",
       "      <td>0</td>\n",
       "      <td>0</td>\n",
       "      <td>0</td>\n",
       "      <td>17/06/2020 23:26:52</td>\n",
       "      <td>0</td>\n",
       "      <td>17457</td>\n",
       "      <td>Delhi</td>\n",
       "      <td>DL</td>\n",
       "      <td>Delhi bulletins in the morning, containing dat...</td>\n",
       "    </tr>\n",
       "    <tr>\n",
       "      <th>4</th>\n",
       "      <td>6149</td>\n",
       "      <td>25148</td>\n",
       "      <td>1561</td>\n",
       "      <td>0</td>\n",
       "      <td>0</td>\n",
       "      <td>0</td>\n",
       "      <td>17/06/2020 21:05:49</td>\n",
       "      <td>0</td>\n",
       "      <td>17438</td>\n",
       "      <td>Gujarat</td>\n",
       "      <td>GJ</td>\n",
       "      <td></td>\n",
       "    </tr>\n",
       "    <tr>\n",
       "      <th>5</th>\n",
       "      <td>5659</td>\n",
       "      <td>15785</td>\n",
       "      <td>488</td>\n",
       "      <td>604</td>\n",
       "      <td>23</td>\n",
       "      <td>399</td>\n",
       "      <td>18/06/2020 18:45:48</td>\n",
       "      <td>0</td>\n",
       "      <td>9638</td>\n",
       "      <td>Uttar Pradesh</td>\n",
       "      <td>UP</td>\n",
       "      <td></td>\n",
       "    </tr>\n",
       "    <tr>\n",
       "      <th>6</th>\n",
       "      <td>2721</td>\n",
       "      <td>13626</td>\n",
       "      <td>323</td>\n",
       "      <td>84</td>\n",
       "      <td>10</td>\n",
       "      <td>115</td>\n",
       "      <td>18/06/2020 11:11:47</td>\n",
       "      <td>0</td>\n",
       "      <td>10582</td>\n",
       "      <td>Rajasthan</td>\n",
       "      <td>RJ</td>\n",
       "      <td></td>\n",
       "    </tr>\n",
       "    <tr>\n",
       "      <th>7</th>\n",
       "      <td>5262</td>\n",
       "      <td>12300</td>\n",
       "      <td>506</td>\n",
       "      <td>0</td>\n",
       "      <td>0</td>\n",
       "      <td>0</td>\n",
       "      <td>17/06/2020 19:45:50</td>\n",
       "      <td>0</td>\n",
       "      <td>6532</td>\n",
       "      <td>West Bengal</td>\n",
       "      <td>WB</td>\n",
       "      <td></td>\n",
       "    </tr>\n",
       "    <tr>\n",
       "      <th>8</th>\n",
       "      <td>2374</td>\n",
       "      <td>11244</td>\n",
       "      <td>482</td>\n",
       "      <td>0</td>\n",
       "      <td>0</td>\n",
       "      <td>0</td>\n",
       "      <td>17/06/2020 22:25:48</td>\n",
       "      <td>0</td>\n",
       "      <td>8388</td>\n",
       "      <td>Madhya Pradesh</td>\n",
       "      <td>MP</td>\n",
       "      <td></td>\n",
       "    </tr>\n",
       "    <tr>\n",
       "      <th>9</th>\n",
       "      <td>4718</td>\n",
       "      <td>8946</td>\n",
       "      <td>130</td>\n",
       "      <td>114</td>\n",
       "      <td>0</td>\n",
       "      <td>146</td>\n",
       "      <td>18/06/2020 14:31:48</td>\n",
       "      <td>0</td>\n",
       "      <td>4098</td>\n",
       "      <td>Haryana</td>\n",
       "      <td>HR</td>\n",
       "      <td></td>\n",
       "    </tr>\n",
       "    <tr>\n",
       "      <th>10</th>\n",
       "      <td>8703</td>\n",
       "      <td>8703</td>\n",
       "      <td>0</td>\n",
       "      <td>430</td>\n",
       "      <td>0</td>\n",
       "      <td>0</td>\n",
       "      <td>18/06/2020 09:45:47</td>\n",
       "      <td>0</td>\n",
       "      <td>0</td>\n",
       "      <td>State Unassigned</td>\n",
       "      <td>UN</td>\n",
       "      <td>MoHFW website reports that these are the 'case...</td>\n",
       "    </tr>\n",
       "    <tr>\n",
       "      <th>11</th>\n",
       "      <td>2823</td>\n",
       "      <td>7734</td>\n",
       "      <td>103</td>\n",
       "      <td>0</td>\n",
       "      <td>0</td>\n",
       "      <td>0</td>\n",
       "      <td>17/06/2020 19:02:48</td>\n",
       "      <td>4</td>\n",
       "      <td>4804</td>\n",
       "      <td>Karnataka</td>\n",
       "      <td>KA</td>\n",
       "      <td>4 cases are classified as non-covid related de...</td>\n",
       "    </tr>\n",
       "    <tr>\n",
       "      <th>12</th>\n",
       "      <td>3632</td>\n",
       "      <td>7496</td>\n",
       "      <td>92</td>\n",
       "      <td>425</td>\n",
       "      <td>2</td>\n",
       "      <td>131</td>\n",
       "      <td>18/06/2020 13:38:49</td>\n",
       "      <td>0</td>\n",
       "      <td>3772</td>\n",
       "      <td>Andhra Pradesh</td>\n",
       "      <td>AP</td>\n",
       "      <td>Total includes patients from other states and ...</td>\n",
       "    </tr>\n",
       "    <tr>\n",
       "      <th>13</th>\n",
       "      <td>1988</td>\n",
       "      <td>6993</td>\n",
       "      <td>44</td>\n",
       "      <td>53</td>\n",
       "      <td>5</td>\n",
       "      <td>185</td>\n",
       "      <td>18/06/2020 17:00:49</td>\n",
       "      <td>0</td>\n",
       "      <td>4961</td>\n",
       "      <td>Bihar</td>\n",
       "      <td>BR</td>\n",
       "      <td></td>\n",
       "    </tr>\n",
       "    <tr>\n",
       "      <th>14</th>\n",
       "      <td>2412</td>\n",
       "      <td>5675</td>\n",
       "      <td>192</td>\n",
       "      <td>0</td>\n",
       "      <td>0</td>\n",
       "      <td>0</td>\n",
       "      <td>17/06/2020 22:35:48</td>\n",
       "      <td>0</td>\n",
       "      <td>3071</td>\n",
       "      <td>Telangana</td>\n",
       "      <td>TG</td>\n",
       "      <td></td>\n",
       "    </tr>\n",
       "    <tr>\n",
       "      <th>15</th>\n",
       "      <td>2428</td>\n",
       "      <td>5406</td>\n",
       "      <td>64</td>\n",
       "      <td>0</td>\n",
       "      <td>0</td>\n",
       "      <td>0</td>\n",
       "      <td>17/06/2020 20:42:52</td>\n",
       "      <td>0</td>\n",
       "      <td>2914</td>\n",
       "      <td>Jammu and Kashmir</td>\n",
       "      <td>JK</td>\n",
       "      <td></td>\n",
       "    </tr>\n",
       "    <tr>\n",
       "      <th>16</th>\n",
       "      <td>2110</td>\n",
       "      <td>4777</td>\n",
       "      <td>9</td>\n",
       "      <td>82</td>\n",
       "      <td>1</td>\n",
       "      <td>12</td>\n",
       "      <td>18/06/2020 15:24:50</td>\n",
       "      <td>3</td>\n",
       "      <td>2655</td>\n",
       "      <td>Assam</td>\n",
       "      <td>AS</td>\n",
       "      <td>Includes one case from Nagaland.\\nTotal of 3 p...</td>\n",
       "    </tr>\n",
       "    <tr>\n",
       "      <th>17</th>\n",
       "      <td>1354</td>\n",
       "      <td>4512</td>\n",
       "      <td>14</td>\n",
       "      <td>174</td>\n",
       "      <td>0</td>\n",
       "      <td>97</td>\n",
       "      <td>18/06/2020 16:53:51</td>\n",
       "      <td>0</td>\n",
       "      <td>3144</td>\n",
       "      <td>Odisha</td>\n",
       "      <td>OR</td>\n",
       "      <td>Three non-covid deaths reported in state dashb...</td>\n",
       "    </tr>\n",
       "    <tr>\n",
       "      <th>18</th>\n",
       "      <td>881</td>\n",
       "      <td>3497</td>\n",
       "      <td>78</td>\n",
       "      <td>0</td>\n",
       "      <td>0</td>\n",
       "      <td>0</td>\n",
       "      <td>17/06/2020 19:35:50</td>\n",
       "      <td>0</td>\n",
       "      <td>2538</td>\n",
       "      <td>Punjab</td>\n",
       "      <td>PB</td>\n",
       "      <td></td>\n",
       "    </tr>\n",
       "    <tr>\n",
       "      <th>19</th>\n",
       "      <td>1352</td>\n",
       "      <td>2698</td>\n",
       "      <td>21</td>\n",
       "      <td>0</td>\n",
       "      <td>0</td>\n",
       "      <td>0</td>\n",
       "      <td>17/06/2020 19:35:52</td>\n",
       "      <td>1</td>\n",
       "      <td>1324</td>\n",
       "      <td>Kerala</td>\n",
       "      <td>KL</td>\n",
       "      <td>Mahe native who expired in Kannur included in ...</td>\n",
       "    </tr>\n",
       "    <tr>\n",
       "      <th>20</th>\n",
       "      <td>779</td>\n",
       "      <td>2080</td>\n",
       "      <td>26</td>\n",
       "      <td>57</td>\n",
       "      <td>0</td>\n",
       "      <td>8</td>\n",
       "      <td>18/06/2020 16:35:49</td>\n",
       "      <td>13</td>\n",
       "      <td>1262</td>\n",
       "      <td>Uttarakhand</td>\n",
       "      <td>UT</td>\n",
       "      <td>13 Migrated cases reduced from Active count</td>\n",
       "    </tr>\n",
       "    <tr>\n",
       "      <th>21</th>\n",
       "      <td>756</td>\n",
       "      <td>1864</td>\n",
       "      <td>9</td>\n",
       "      <td>0</td>\n",
       "      <td>0</td>\n",
       "      <td>0</td>\n",
       "      <td>17/06/2020 22:15:54</td>\n",
       "      <td>0</td>\n",
       "      <td>1099</td>\n",
       "      <td>Chhattisgarh</td>\n",
       "      <td>CT</td>\n",
       "      <td></td>\n",
       "    </tr>\n",
       "    <tr>\n",
       "      <th>22</th>\n",
       "      <td>734</td>\n",
       "      <td>1895</td>\n",
       "      <td>10</td>\n",
       "      <td>0</td>\n",
       "      <td>0</td>\n",
       "      <td>0</td>\n",
       "      <td>17/06/2020 22:55:49</td>\n",
       "      <td>0</td>\n",
       "      <td>1151</td>\n",
       "      <td>Jharkhand</td>\n",
       "      <td>JH</td>\n",
       "      <td></td>\n",
       "    </tr>\n",
       "    <tr>\n",
       "      <th>23</th>\n",
       "      <td>585</td>\n",
       "      <td>1142</td>\n",
       "      <td>1</td>\n",
       "      <td>9</td>\n",
       "      <td>0</td>\n",
       "      <td>0</td>\n",
       "      <td>18/06/2020 15:14:55</td>\n",
       "      <td>0</td>\n",
       "      <td>556</td>\n",
       "      <td>Tripura</td>\n",
       "      <td>TR</td>\n",
       "      <td></td>\n",
       "    </tr>\n",
       "    <tr>\n",
       "      <th>24</th>\n",
       "      <td>591</td>\n",
       "      <td>687</td>\n",
       "      <td>1</td>\n",
       "      <td>0</td>\n",
       "      <td>0</td>\n",
       "      <td>3</td>\n",
       "      <td>18/06/2020 17:35:51</td>\n",
       "      <td>0</td>\n",
       "      <td>95</td>\n",
       "      <td>Ladakh</td>\n",
       "      <td>LA</td>\n",
       "      <td></td>\n",
       "    </tr>\n",
       "    <tr>\n",
       "      <th>25</th>\n",
       "      <td>560</td>\n",
       "      <td>656</td>\n",
       "      <td>0</td>\n",
       "      <td>0</td>\n",
       "      <td>0</td>\n",
       "      <td>0</td>\n",
       "      <td>17/06/2020 19:35:54</td>\n",
       "      <td>0</td>\n",
       "      <td>96</td>\n",
       "      <td>Goa</td>\n",
       "      <td>GA</td>\n",
       "      <td></td>\n",
       "    </tr>\n",
       "    <tr>\n",
       "      <th>26</th>\n",
       "      <td>202</td>\n",
       "      <td>589</td>\n",
       "      <td>7</td>\n",
       "      <td>4</td>\n",
       "      <td>0</td>\n",
       "      <td>1</td>\n",
       "      <td>18/06/2020 18:52:49</td>\n",
       "      <td>11</td>\n",
       "      <td>369</td>\n",
       "      <td>Himachal Pradesh</td>\n",
       "      <td>HP</td>\n",
       "      <td>HP has 12 Migrated cases which are reduced fro...</td>\n",
       "    </tr>\n",
       "    <tr>\n",
       "      <th>27</th>\n",
       "      <td>360</td>\n",
       "      <td>552</td>\n",
       "      <td>0</td>\n",
       "      <td>0</td>\n",
       "      <td>0</td>\n",
       "      <td>0</td>\n",
       "      <td>17/06/2020 22:42:51</td>\n",
       "      <td>0</td>\n",
       "      <td>192</td>\n",
       "      <td>Manipur</td>\n",
       "      <td>MN</td>\n",
       "      <td></td>\n",
       "    </tr>\n",
       "    <tr>\n",
       "      <th>28</th>\n",
       "      <td>61</td>\n",
       "      <td>373</td>\n",
       "      <td>6</td>\n",
       "      <td>3</td>\n",
       "      <td>0</td>\n",
       "      <td>0</td>\n",
       "      <td>18/06/2020 18:45:53</td>\n",
       "      <td>0</td>\n",
       "      <td>306</td>\n",
       "      <td>Chandigarh</td>\n",
       "      <td>CH</td>\n",
       "      <td></td>\n",
       "    </tr>\n",
       "    <tr>\n",
       "      <th>29</th>\n",
       "      <td>131</td>\n",
       "      <td>245</td>\n",
       "      <td>5</td>\n",
       "      <td>0</td>\n",
       "      <td>0</td>\n",
       "      <td>0</td>\n",
       "      <td>17/06/2020 19:26:10</td>\n",
       "      <td>0</td>\n",
       "      <td>109</td>\n",
       "      <td>Puducherry</td>\n",
       "      <td>PY</td>\n",
       "      <td></td>\n",
       "    </tr>\n",
       "    <tr>\n",
       "      <th>30</th>\n",
       "      <td>84</td>\n",
       "      <td>193</td>\n",
       "      <td>0</td>\n",
       "      <td>0</td>\n",
       "      <td>0</td>\n",
       "      <td>6</td>\n",
       "      <td>18/06/2020 16:53:54</td>\n",
       "      <td>0</td>\n",
       "      <td>109</td>\n",
       "      <td>Nagaland</td>\n",
       "      <td>NL</td>\n",
       "      <td></td>\n",
       "    </tr>\n",
       "    <tr>\n",
       "      <th>31</th>\n",
       "      <td>129</td>\n",
       "      <td>130</td>\n",
       "      <td>0</td>\n",
       "      <td>9</td>\n",
       "      <td>0</td>\n",
       "      <td>0</td>\n",
       "      <td>18/06/2020 09:05:49</td>\n",
       "      <td>0</td>\n",
       "      <td>1</td>\n",
       "      <td>Mizoram</td>\n",
       "      <td>MZ</td>\n",
       "      <td></td>\n",
       "    </tr>\n",
       "    <tr>\n",
       "      <th>32</th>\n",
       "      <td>93</td>\n",
       "      <td>103</td>\n",
       "      <td>0</td>\n",
       "      <td>0</td>\n",
       "      <td>0</td>\n",
       "      <td>0</td>\n",
       "      <td>17/06/2020 23:34:51</td>\n",
       "      <td>0</td>\n",
       "      <td>10</td>\n",
       "      <td>Arunachal Pradesh</td>\n",
       "      <td>AR</td>\n",
       "      <td></td>\n",
       "    </tr>\n",
       "    <tr>\n",
       "      <th>33</th>\n",
       "      <td>66</td>\n",
       "      <td>70</td>\n",
       "      <td>0</td>\n",
       "      <td>0</td>\n",
       "      <td>0</td>\n",
       "      <td>0</td>\n",
       "      <td>17/06/2020 22:25:57</td>\n",
       "      <td>0</td>\n",
       "      <td>4</td>\n",
       "      <td>Sikkim</td>\n",
       "      <td>SK</td>\n",
       "      <td></td>\n",
       "    </tr>\n",
       "    <tr>\n",
       "      <th>34</th>\n",
       "      <td>48</td>\n",
       "      <td>60</td>\n",
       "      <td>0</td>\n",
       "      <td>1</td>\n",
       "      <td>0</td>\n",
       "      <td>0</td>\n",
       "      <td>18/06/2020 13:00:49</td>\n",
       "      <td>0</td>\n",
       "      <td>12</td>\n",
       "      <td>Dadra and Nagar Haveli and Daman and Diu</td>\n",
       "      <td>DN</td>\n",
       "      <td></td>\n",
       "    </tr>\n",
       "    <tr>\n",
       "      <th>35</th>\n",
       "      <td>12</td>\n",
       "      <td>45</td>\n",
       "      <td>0</td>\n",
       "      <td>1</td>\n",
       "      <td>0</td>\n",
       "      <td>0</td>\n",
       "      <td>18/06/2020 09:05:51</td>\n",
       "      <td>0</td>\n",
       "      <td>33</td>\n",
       "      <td>Andaman and Nicobar Islands</td>\n",
       "      <td>AN</td>\n",
       "      <td></td>\n",
       "    </tr>\n",
       "    <tr>\n",
       "      <th>36</th>\n",
       "      <td>10</td>\n",
       "      <td>43</td>\n",
       "      <td>1</td>\n",
       "      <td>0</td>\n",
       "      <td>0</td>\n",
       "      <td>1</td>\n",
       "      <td>18/06/2020 14:12:54</td>\n",
       "      <td>0</td>\n",
       "      <td>32</td>\n",
       "      <td>Meghalaya</td>\n",
       "      <td>ML</td>\n",
       "      <td>[June 17]:\\nOne case was identified to be fals...</td>\n",
       "    </tr>\n",
       "    <tr>\n",
       "      <th>37</th>\n",
       "      <td>0</td>\n",
       "      <td>0</td>\n",
       "      <td>0</td>\n",
       "      <td>0</td>\n",
       "      <td>0</td>\n",
       "      <td>0</td>\n",
       "      <td>26/03/2020 07:19:29</td>\n",
       "      <td>0</td>\n",
       "      <td>0</td>\n",
       "      <td>Lakshadweep</td>\n",
       "      <td>LD</td>\n",
       "      <td></td>\n",
       "    </tr>\n",
       "  </tbody>\n",
       "</table>\n",
       "</div>"
      ],
      "text/plain": [
       "    active  confirmed  deaths  deltaconfirmed  deltadeaths  deltarecovered  \\\n",
       "0   161423     369314   12304            2050           41            1104   \n",
       "1    51922     116752    5651               0            0               0   \n",
       "2    21993      50193     576               0            0               0   \n",
       "3    27741      47102    1904               0            0               0   \n",
       "4     6149      25148    1561               0            0               0   \n",
       "5     5659      15785     488             604           23             399   \n",
       "6     2721      13626     323              84           10             115   \n",
       "7     5262      12300     506               0            0               0   \n",
       "8     2374      11244     482               0            0               0   \n",
       "9     4718       8946     130             114            0             146   \n",
       "10    8703       8703       0             430            0               0   \n",
       "11    2823       7734     103               0            0               0   \n",
       "12    3632       7496      92             425            2             131   \n",
       "13    1988       6993      44              53            5             185   \n",
       "14    2412       5675     192               0            0               0   \n",
       "15    2428       5406      64               0            0               0   \n",
       "16    2110       4777       9              82            1              12   \n",
       "17    1354       4512      14             174            0              97   \n",
       "18     881       3497      78               0            0               0   \n",
       "19    1352       2698      21               0            0               0   \n",
       "20     779       2080      26              57            0               8   \n",
       "21     756       1864       9               0            0               0   \n",
       "22     734       1895      10               0            0               0   \n",
       "23     585       1142       1               9            0               0   \n",
       "24     591        687       1               0            0               3   \n",
       "25     560        656       0               0            0               0   \n",
       "26     202        589       7               4            0               1   \n",
       "27     360        552       0               0            0               0   \n",
       "28      61        373       6               3            0               0   \n",
       "29     131        245       5               0            0               0   \n",
       "30      84        193       0               0            0               6   \n",
       "31     129        130       0               9            0               0   \n",
       "32      93        103       0               0            0               0   \n",
       "33      66         70       0               0            0               0   \n",
       "34      48         60       0               1            0               0   \n",
       "35      12         45       0               1            0               0   \n",
       "36      10         43       1               0            0               1   \n",
       "37       0          0       0               0            0               0   \n",
       "\n",
       "        lastupdatedtime  migratedother  recovered  \\\n",
       "0   18/06/2020 18:52:46             45     195542   \n",
       "1   17/06/2020 23:34:48             13      59166   \n",
       "2   17/06/2020 18:45:48              0      27624   \n",
       "3   17/06/2020 23:26:52              0      17457   \n",
       "4   17/06/2020 21:05:49              0      17438   \n",
       "5   18/06/2020 18:45:48              0       9638   \n",
       "6   18/06/2020 11:11:47              0      10582   \n",
       "7   17/06/2020 19:45:50              0       6532   \n",
       "8   17/06/2020 22:25:48              0       8388   \n",
       "9   18/06/2020 14:31:48              0       4098   \n",
       "10  18/06/2020 09:45:47              0          0   \n",
       "11  17/06/2020 19:02:48              4       4804   \n",
       "12  18/06/2020 13:38:49              0       3772   \n",
       "13  18/06/2020 17:00:49              0       4961   \n",
       "14  17/06/2020 22:35:48              0       3071   \n",
       "15  17/06/2020 20:42:52              0       2914   \n",
       "16  18/06/2020 15:24:50              3       2655   \n",
       "17  18/06/2020 16:53:51              0       3144   \n",
       "18  17/06/2020 19:35:50              0       2538   \n",
       "19  17/06/2020 19:35:52              1       1324   \n",
       "20  18/06/2020 16:35:49             13       1262   \n",
       "21  17/06/2020 22:15:54              0       1099   \n",
       "22  17/06/2020 22:55:49              0       1151   \n",
       "23  18/06/2020 15:14:55              0        556   \n",
       "24  18/06/2020 17:35:51              0         95   \n",
       "25  17/06/2020 19:35:54              0         96   \n",
       "26  18/06/2020 18:52:49             11        369   \n",
       "27  17/06/2020 22:42:51              0        192   \n",
       "28  18/06/2020 18:45:53              0        306   \n",
       "29  17/06/2020 19:26:10              0        109   \n",
       "30  18/06/2020 16:53:54              0        109   \n",
       "31  18/06/2020 09:05:49              0          1   \n",
       "32  17/06/2020 23:34:51              0         10   \n",
       "33  17/06/2020 22:25:57              0          4   \n",
       "34  18/06/2020 13:00:49              0         12   \n",
       "35  18/06/2020 09:05:51              0         33   \n",
       "36  18/06/2020 14:12:54              0         32   \n",
       "37  26/03/2020 07:19:29              0          0   \n",
       "\n",
       "                                       state statecode  \\\n",
       "0                                      Total        TT   \n",
       "1                                Maharashtra        MH   \n",
       "2                                 Tamil Nadu        TN   \n",
       "3                                      Delhi        DL   \n",
       "4                                    Gujarat        GJ   \n",
       "5                              Uttar Pradesh        UP   \n",
       "6                                  Rajasthan        RJ   \n",
       "7                                West Bengal        WB   \n",
       "8                             Madhya Pradesh        MP   \n",
       "9                                    Haryana        HR   \n",
       "10                          State Unassigned        UN   \n",
       "11                                 Karnataka        KA   \n",
       "12                            Andhra Pradesh        AP   \n",
       "13                                     Bihar        BR   \n",
       "14                                 Telangana        TG   \n",
       "15                         Jammu and Kashmir        JK   \n",
       "16                                     Assam        AS   \n",
       "17                                    Odisha        OR   \n",
       "18                                    Punjab        PB   \n",
       "19                                    Kerala        KL   \n",
       "20                               Uttarakhand        UT   \n",
       "21                              Chhattisgarh        CT   \n",
       "22                                 Jharkhand        JH   \n",
       "23                                   Tripura        TR   \n",
       "24                                    Ladakh        LA   \n",
       "25                                       Goa        GA   \n",
       "26                          Himachal Pradesh        HP   \n",
       "27                                   Manipur        MN   \n",
       "28                                Chandigarh        CH   \n",
       "29                                Puducherry        PY   \n",
       "30                                  Nagaland        NL   \n",
       "31                                   Mizoram        MZ   \n",
       "32                         Arunachal Pradesh        AR   \n",
       "33                                    Sikkim        SK   \n",
       "34  Dadra and Nagar Haveli and Daman and Diu        DN   \n",
       "35               Andaman and Nicobar Islands        AN   \n",
       "36                                 Meghalaya        ML   \n",
       "37                               Lakshadweep        LD   \n",
       "\n",
       "                                           statenotes  \n",
       "0                                                      \n",
       "1   13 cases were marked as non-covid deaths in MH...  \n",
       "2   2 deaths cross notified to other states from C...  \n",
       "3   Delhi bulletins in the morning, containing dat...  \n",
       "4                                                      \n",
       "5                                                      \n",
       "6                                                      \n",
       "7                                                      \n",
       "8                                                      \n",
       "9                                                      \n",
       "10  MoHFW website reports that these are the 'case...  \n",
       "11  4 cases are classified as non-covid related de...  \n",
       "12  Total includes patients from other states and ...  \n",
       "13                                                     \n",
       "14                                                     \n",
       "15                                                     \n",
       "16  Includes one case from Nagaland.\\nTotal of 3 p...  \n",
       "17  Three non-covid deaths reported in state dashb...  \n",
       "18                                                     \n",
       "19  Mahe native who expired in Kannur included in ...  \n",
       "20        13 Migrated cases reduced from Active count  \n",
       "21                                                     \n",
       "22                                                     \n",
       "23                                                     \n",
       "24                                                     \n",
       "25                                                     \n",
       "26  HP has 12 Migrated cases which are reduced fro...  \n",
       "27                                                     \n",
       "28                                                     \n",
       "29                                                     \n",
       "30                                                     \n",
       "31                                                     \n",
       "32                                                     \n",
       "33                                                     \n",
       "34                                                     \n",
       "35                                                     \n",
       "36  [June 17]:\\nOne case was identified to be fals...  \n",
       "37                                                     "
      ]
     },
     "execution_count": 60,
     "metadata": {},
     "output_type": "execute_result"
    }
   ],
   "source": [
    "covid.head(38)"
   ]
  },
  {
   "cell_type": "code",
   "execution_count": 61,
   "metadata": {},
   "outputs": [
    {
     "data": {
      "text/plain": [
       "38"
      ]
     },
     "execution_count": 61,
     "metadata": {},
     "output_type": "execute_result"
    }
   ],
   "source": [
    "longitu={\n",
    "    \n",
    "    78.9629:\"TT\",\n",
    "    73.16017493:\"MH\",\n",
    "    79.15004187:\"TN\",\n",
    "    77.23000403:\"DL\",\n",
    "    71.1924:\"GJ\",\n",
    "    78.05000565:\"UP\",\n",
    "    74.63998124:\"RJ\",\n",
    "    76.13001949:\"MP\",\n",
    "    88.32994665:\"WB\",\n",
    "    80.9629:\"UN\",\n",
    "    76.91999711:\"KA\",\n",
    "    77.01999101:\"HR\",\n",
    "    87.4799727:\"BR\",\n",
    "    78.57002559:\"AP\",\n",
    "    74.46665849:\"JK\",\n",
    "    79.0194:\"TG\",\n",
    "    85.90001746:\"OR\",\n",
    "    94.21666744:\"AS\",\n",
    "    75.98000281:\"PB\",\n",
    "    76.56999263:\"KL\",\n",
    "    79.0193:\"UT\",\n",
    "    86.41998572:\"JH\",\n",
    "    82.15998734:\"CT\",\n",
    "    91.27999914:\"TR\",\n",
    "    77.16659704:\"HP\",\n",
    "    73.81800065:\"GA\",\n",
    "    93.95001705:\"MN\",\n",
    "    76.78000565:\"CH\",\n",
    "    79.83000037:\"PY\",\n",
    "    77.577049:\"LA\",\n",
    "    94.11657019:\"NL\",\n",
    "    92.72001461:\"MZ\",\n",
    "    93.61660071:\"AR\",\n",
    "    91.8800142:\"ML\",\n",
    "    92.73598262:\"AN\",\n",
    "    73.0166178:\"DN\",\n",
    "    88.6166475:\"SK\",\n",
    "    72.63686717:\"LD\"\n",
    "}\n",
    "len(longitu)"
   ]
  },
  {
   "cell_type": "code",
   "execution_count": 62,
   "metadata": {
    "scrolled": true
   },
   "outputs": [
    {
     "data": {
      "text/html": [
       "<div>\n",
       "<style scoped>\n",
       "    .dataframe tbody tr th:only-of-type {\n",
       "        vertical-align: middle;\n",
       "    }\n",
       "\n",
       "    .dataframe tbody tr th {\n",
       "        vertical-align: top;\n",
       "    }\n",
       "\n",
       "    .dataframe thead th {\n",
       "        text-align: right;\n",
       "    }\n",
       "</style>\n",
       "<table border=\"1\" class=\"dataframe\">\n",
       "  <thead>\n",
       "    <tr style=\"text-align: right;\">\n",
       "      <th></th>\n",
       "      <th>active</th>\n",
       "      <th>confirmed</th>\n",
       "      <th>deaths</th>\n",
       "      <th>deltaconfirmed</th>\n",
       "      <th>deltadeaths</th>\n",
       "      <th>deltarecovered</th>\n",
       "      <th>lastupdatedtime</th>\n",
       "      <th>migratedother</th>\n",
       "      <th>recovered</th>\n",
       "      <th>state</th>\n",
       "      <th>statenotes</th>\n",
       "    </tr>\n",
       "    <tr>\n",
       "      <th>statecode</th>\n",
       "      <th></th>\n",
       "      <th></th>\n",
       "      <th></th>\n",
       "      <th></th>\n",
       "      <th></th>\n",
       "      <th></th>\n",
       "      <th></th>\n",
       "      <th></th>\n",
       "      <th></th>\n",
       "      <th></th>\n",
       "      <th></th>\n",
       "    </tr>\n",
       "  </thead>\n",
       "  <tbody>\n",
       "    <tr>\n",
       "      <th>TT</th>\n",
       "      <td>161423</td>\n",
       "      <td>369314</td>\n",
       "      <td>12304</td>\n",
       "      <td>2050</td>\n",
       "      <td>41</td>\n",
       "      <td>1104</td>\n",
       "      <td>18/06/2020 18:52:46</td>\n",
       "      <td>45</td>\n",
       "      <td>195542</td>\n",
       "      <td>Total</td>\n",
       "      <td></td>\n",
       "    </tr>\n",
       "    <tr>\n",
       "      <th>MH</th>\n",
       "      <td>51922</td>\n",
       "      <td>116752</td>\n",
       "      <td>5651</td>\n",
       "      <td>0</td>\n",
       "      <td>0</td>\n",
       "      <td>0</td>\n",
       "      <td>17/06/2020 23:34:48</td>\n",
       "      <td>13</td>\n",
       "      <td>59166</td>\n",
       "      <td>Maharashtra</td>\n",
       "      <td>13 cases were marked as non-covid deaths in MH...</td>\n",
       "    </tr>\n",
       "    <tr>\n",
       "      <th>TN</th>\n",
       "      <td>21993</td>\n",
       "      <td>50193</td>\n",
       "      <td>576</td>\n",
       "      <td>0</td>\n",
       "      <td>0</td>\n",
       "      <td>0</td>\n",
       "      <td>17/06/2020 18:45:48</td>\n",
       "      <td>0</td>\n",
       "      <td>27624</td>\n",
       "      <td>Tamil Nadu</td>\n",
       "      <td>2 deaths cross notified to other states from C...</td>\n",
       "    </tr>\n",
       "    <tr>\n",
       "      <th>DL</th>\n",
       "      <td>27741</td>\n",
       "      <td>47102</td>\n",
       "      <td>1904</td>\n",
       "      <td>0</td>\n",
       "      <td>0</td>\n",
       "      <td>0</td>\n",
       "      <td>17/06/2020 23:26:52</td>\n",
       "      <td>0</td>\n",
       "      <td>17457</td>\n",
       "      <td>Delhi</td>\n",
       "      <td>Delhi bulletins in the morning, containing dat...</td>\n",
       "    </tr>\n",
       "    <tr>\n",
       "      <th>GJ</th>\n",
       "      <td>6149</td>\n",
       "      <td>25148</td>\n",
       "      <td>1561</td>\n",
       "      <td>0</td>\n",
       "      <td>0</td>\n",
       "      <td>0</td>\n",
       "      <td>17/06/2020 21:05:49</td>\n",
       "      <td>0</td>\n",
       "      <td>17438</td>\n",
       "      <td>Gujarat</td>\n",
       "      <td></td>\n",
       "    </tr>\n",
       "    <tr>\n",
       "      <th>UP</th>\n",
       "      <td>5659</td>\n",
       "      <td>15785</td>\n",
       "      <td>488</td>\n",
       "      <td>604</td>\n",
       "      <td>23</td>\n",
       "      <td>399</td>\n",
       "      <td>18/06/2020 18:45:48</td>\n",
       "      <td>0</td>\n",
       "      <td>9638</td>\n",
       "      <td>Uttar Pradesh</td>\n",
       "      <td></td>\n",
       "    </tr>\n",
       "    <tr>\n",
       "      <th>RJ</th>\n",
       "      <td>2721</td>\n",
       "      <td>13626</td>\n",
       "      <td>323</td>\n",
       "      <td>84</td>\n",
       "      <td>10</td>\n",
       "      <td>115</td>\n",
       "      <td>18/06/2020 11:11:47</td>\n",
       "      <td>0</td>\n",
       "      <td>10582</td>\n",
       "      <td>Rajasthan</td>\n",
       "      <td></td>\n",
       "    </tr>\n",
       "    <tr>\n",
       "      <th>WB</th>\n",
       "      <td>5262</td>\n",
       "      <td>12300</td>\n",
       "      <td>506</td>\n",
       "      <td>0</td>\n",
       "      <td>0</td>\n",
       "      <td>0</td>\n",
       "      <td>17/06/2020 19:45:50</td>\n",
       "      <td>0</td>\n",
       "      <td>6532</td>\n",
       "      <td>West Bengal</td>\n",
       "      <td></td>\n",
       "    </tr>\n",
       "    <tr>\n",
       "      <th>MP</th>\n",
       "      <td>2374</td>\n",
       "      <td>11244</td>\n",
       "      <td>482</td>\n",
       "      <td>0</td>\n",
       "      <td>0</td>\n",
       "      <td>0</td>\n",
       "      <td>17/06/2020 22:25:48</td>\n",
       "      <td>0</td>\n",
       "      <td>8388</td>\n",
       "      <td>Madhya Pradesh</td>\n",
       "      <td></td>\n",
       "    </tr>\n",
       "    <tr>\n",
       "      <th>HR</th>\n",
       "      <td>4718</td>\n",
       "      <td>8946</td>\n",
       "      <td>130</td>\n",
       "      <td>114</td>\n",
       "      <td>0</td>\n",
       "      <td>146</td>\n",
       "      <td>18/06/2020 14:31:48</td>\n",
       "      <td>0</td>\n",
       "      <td>4098</td>\n",
       "      <td>Haryana</td>\n",
       "      <td></td>\n",
       "    </tr>\n",
       "    <tr>\n",
       "      <th>UN</th>\n",
       "      <td>8703</td>\n",
       "      <td>8703</td>\n",
       "      <td>0</td>\n",
       "      <td>430</td>\n",
       "      <td>0</td>\n",
       "      <td>0</td>\n",
       "      <td>18/06/2020 09:45:47</td>\n",
       "      <td>0</td>\n",
       "      <td>0</td>\n",
       "      <td>State Unassigned</td>\n",
       "      <td>MoHFW website reports that these are the 'case...</td>\n",
       "    </tr>\n",
       "    <tr>\n",
       "      <th>KA</th>\n",
       "      <td>2823</td>\n",
       "      <td>7734</td>\n",
       "      <td>103</td>\n",
       "      <td>0</td>\n",
       "      <td>0</td>\n",
       "      <td>0</td>\n",
       "      <td>17/06/2020 19:02:48</td>\n",
       "      <td>4</td>\n",
       "      <td>4804</td>\n",
       "      <td>Karnataka</td>\n",
       "      <td>4 cases are classified as non-covid related de...</td>\n",
       "    </tr>\n",
       "    <tr>\n",
       "      <th>AP</th>\n",
       "      <td>3632</td>\n",
       "      <td>7496</td>\n",
       "      <td>92</td>\n",
       "      <td>425</td>\n",
       "      <td>2</td>\n",
       "      <td>131</td>\n",
       "      <td>18/06/2020 13:38:49</td>\n",
       "      <td>0</td>\n",
       "      <td>3772</td>\n",
       "      <td>Andhra Pradesh</td>\n",
       "      <td>Total includes patients from other states and ...</td>\n",
       "    </tr>\n",
       "    <tr>\n",
       "      <th>BR</th>\n",
       "      <td>1988</td>\n",
       "      <td>6993</td>\n",
       "      <td>44</td>\n",
       "      <td>53</td>\n",
       "      <td>5</td>\n",
       "      <td>185</td>\n",
       "      <td>18/06/2020 17:00:49</td>\n",
       "      <td>0</td>\n",
       "      <td>4961</td>\n",
       "      <td>Bihar</td>\n",
       "      <td></td>\n",
       "    </tr>\n",
       "    <tr>\n",
       "      <th>TG</th>\n",
       "      <td>2412</td>\n",
       "      <td>5675</td>\n",
       "      <td>192</td>\n",
       "      <td>0</td>\n",
       "      <td>0</td>\n",
       "      <td>0</td>\n",
       "      <td>17/06/2020 22:35:48</td>\n",
       "      <td>0</td>\n",
       "      <td>3071</td>\n",
       "      <td>Telangana</td>\n",
       "      <td></td>\n",
       "    </tr>\n",
       "    <tr>\n",
       "      <th>JK</th>\n",
       "      <td>2428</td>\n",
       "      <td>5406</td>\n",
       "      <td>64</td>\n",
       "      <td>0</td>\n",
       "      <td>0</td>\n",
       "      <td>0</td>\n",
       "      <td>17/06/2020 20:42:52</td>\n",
       "      <td>0</td>\n",
       "      <td>2914</td>\n",
       "      <td>Jammu and Kashmir</td>\n",
       "      <td></td>\n",
       "    </tr>\n",
       "    <tr>\n",
       "      <th>AS</th>\n",
       "      <td>2110</td>\n",
       "      <td>4777</td>\n",
       "      <td>9</td>\n",
       "      <td>82</td>\n",
       "      <td>1</td>\n",
       "      <td>12</td>\n",
       "      <td>18/06/2020 15:24:50</td>\n",
       "      <td>3</td>\n",
       "      <td>2655</td>\n",
       "      <td>Assam</td>\n",
       "      <td>Includes one case from Nagaland.\\nTotal of 3 p...</td>\n",
       "    </tr>\n",
       "    <tr>\n",
       "      <th>OR</th>\n",
       "      <td>1354</td>\n",
       "      <td>4512</td>\n",
       "      <td>14</td>\n",
       "      <td>174</td>\n",
       "      <td>0</td>\n",
       "      <td>97</td>\n",
       "      <td>18/06/2020 16:53:51</td>\n",
       "      <td>0</td>\n",
       "      <td>3144</td>\n",
       "      <td>Odisha</td>\n",
       "      <td>Three non-covid deaths reported in state dashb...</td>\n",
       "    </tr>\n",
       "    <tr>\n",
       "      <th>PB</th>\n",
       "      <td>881</td>\n",
       "      <td>3497</td>\n",
       "      <td>78</td>\n",
       "      <td>0</td>\n",
       "      <td>0</td>\n",
       "      <td>0</td>\n",
       "      <td>17/06/2020 19:35:50</td>\n",
       "      <td>0</td>\n",
       "      <td>2538</td>\n",
       "      <td>Punjab</td>\n",
       "      <td></td>\n",
       "    </tr>\n",
       "    <tr>\n",
       "      <th>KL</th>\n",
       "      <td>1352</td>\n",
       "      <td>2698</td>\n",
       "      <td>21</td>\n",
       "      <td>0</td>\n",
       "      <td>0</td>\n",
       "      <td>0</td>\n",
       "      <td>17/06/2020 19:35:52</td>\n",
       "      <td>1</td>\n",
       "      <td>1324</td>\n",
       "      <td>Kerala</td>\n",
       "      <td>Mahe native who expired in Kannur included in ...</td>\n",
       "    </tr>\n",
       "    <tr>\n",
       "      <th>UT</th>\n",
       "      <td>779</td>\n",
       "      <td>2080</td>\n",
       "      <td>26</td>\n",
       "      <td>57</td>\n",
       "      <td>0</td>\n",
       "      <td>8</td>\n",
       "      <td>18/06/2020 16:35:49</td>\n",
       "      <td>13</td>\n",
       "      <td>1262</td>\n",
       "      <td>Uttarakhand</td>\n",
       "      <td>13 Migrated cases reduced from Active count</td>\n",
       "    </tr>\n",
       "    <tr>\n",
       "      <th>CT</th>\n",
       "      <td>756</td>\n",
       "      <td>1864</td>\n",
       "      <td>9</td>\n",
       "      <td>0</td>\n",
       "      <td>0</td>\n",
       "      <td>0</td>\n",
       "      <td>17/06/2020 22:15:54</td>\n",
       "      <td>0</td>\n",
       "      <td>1099</td>\n",
       "      <td>Chhattisgarh</td>\n",
       "      <td></td>\n",
       "    </tr>\n",
       "    <tr>\n",
       "      <th>JH</th>\n",
       "      <td>734</td>\n",
       "      <td>1895</td>\n",
       "      <td>10</td>\n",
       "      <td>0</td>\n",
       "      <td>0</td>\n",
       "      <td>0</td>\n",
       "      <td>17/06/2020 22:55:49</td>\n",
       "      <td>0</td>\n",
       "      <td>1151</td>\n",
       "      <td>Jharkhand</td>\n",
       "      <td></td>\n",
       "    </tr>\n",
       "    <tr>\n",
       "      <th>TR</th>\n",
       "      <td>585</td>\n",
       "      <td>1142</td>\n",
       "      <td>1</td>\n",
       "      <td>9</td>\n",
       "      <td>0</td>\n",
       "      <td>0</td>\n",
       "      <td>18/06/2020 15:14:55</td>\n",
       "      <td>0</td>\n",
       "      <td>556</td>\n",
       "      <td>Tripura</td>\n",
       "      <td></td>\n",
       "    </tr>\n",
       "    <tr>\n",
       "      <th>LA</th>\n",
       "      <td>591</td>\n",
       "      <td>687</td>\n",
       "      <td>1</td>\n",
       "      <td>0</td>\n",
       "      <td>0</td>\n",
       "      <td>3</td>\n",
       "      <td>18/06/2020 17:35:51</td>\n",
       "      <td>0</td>\n",
       "      <td>95</td>\n",
       "      <td>Ladakh</td>\n",
       "      <td></td>\n",
       "    </tr>\n",
       "    <tr>\n",
       "      <th>GA</th>\n",
       "      <td>560</td>\n",
       "      <td>656</td>\n",
       "      <td>0</td>\n",
       "      <td>0</td>\n",
       "      <td>0</td>\n",
       "      <td>0</td>\n",
       "      <td>17/06/2020 19:35:54</td>\n",
       "      <td>0</td>\n",
       "      <td>96</td>\n",
       "      <td>Goa</td>\n",
       "      <td></td>\n",
       "    </tr>\n",
       "    <tr>\n",
       "      <th>HP</th>\n",
       "      <td>202</td>\n",
       "      <td>589</td>\n",
       "      <td>7</td>\n",
       "      <td>4</td>\n",
       "      <td>0</td>\n",
       "      <td>1</td>\n",
       "      <td>18/06/2020 18:52:49</td>\n",
       "      <td>11</td>\n",
       "      <td>369</td>\n",
       "      <td>Himachal Pradesh</td>\n",
       "      <td>HP has 12 Migrated cases which are reduced fro...</td>\n",
       "    </tr>\n",
       "    <tr>\n",
       "      <th>MN</th>\n",
       "      <td>360</td>\n",
       "      <td>552</td>\n",
       "      <td>0</td>\n",
       "      <td>0</td>\n",
       "      <td>0</td>\n",
       "      <td>0</td>\n",
       "      <td>17/06/2020 22:42:51</td>\n",
       "      <td>0</td>\n",
       "      <td>192</td>\n",
       "      <td>Manipur</td>\n",
       "      <td></td>\n",
       "    </tr>\n",
       "    <tr>\n",
       "      <th>CH</th>\n",
       "      <td>61</td>\n",
       "      <td>373</td>\n",
       "      <td>6</td>\n",
       "      <td>3</td>\n",
       "      <td>0</td>\n",
       "      <td>0</td>\n",
       "      <td>18/06/2020 18:45:53</td>\n",
       "      <td>0</td>\n",
       "      <td>306</td>\n",
       "      <td>Chandigarh</td>\n",
       "      <td></td>\n",
       "    </tr>\n",
       "    <tr>\n",
       "      <th>PY</th>\n",
       "      <td>131</td>\n",
       "      <td>245</td>\n",
       "      <td>5</td>\n",
       "      <td>0</td>\n",
       "      <td>0</td>\n",
       "      <td>0</td>\n",
       "      <td>17/06/2020 19:26:10</td>\n",
       "      <td>0</td>\n",
       "      <td>109</td>\n",
       "      <td>Puducherry</td>\n",
       "      <td></td>\n",
       "    </tr>\n",
       "    <tr>\n",
       "      <th>NL</th>\n",
       "      <td>84</td>\n",
       "      <td>193</td>\n",
       "      <td>0</td>\n",
       "      <td>0</td>\n",
       "      <td>0</td>\n",
       "      <td>6</td>\n",
       "      <td>18/06/2020 16:53:54</td>\n",
       "      <td>0</td>\n",
       "      <td>109</td>\n",
       "      <td>Nagaland</td>\n",
       "      <td></td>\n",
       "    </tr>\n",
       "    <tr>\n",
       "      <th>MZ</th>\n",
       "      <td>129</td>\n",
       "      <td>130</td>\n",
       "      <td>0</td>\n",
       "      <td>9</td>\n",
       "      <td>0</td>\n",
       "      <td>0</td>\n",
       "      <td>18/06/2020 09:05:49</td>\n",
       "      <td>0</td>\n",
       "      <td>1</td>\n",
       "      <td>Mizoram</td>\n",
       "      <td></td>\n",
       "    </tr>\n",
       "    <tr>\n",
       "      <th>AR</th>\n",
       "      <td>93</td>\n",
       "      <td>103</td>\n",
       "      <td>0</td>\n",
       "      <td>0</td>\n",
       "      <td>0</td>\n",
       "      <td>0</td>\n",
       "      <td>17/06/2020 23:34:51</td>\n",
       "      <td>0</td>\n",
       "      <td>10</td>\n",
       "      <td>Arunachal Pradesh</td>\n",
       "      <td></td>\n",
       "    </tr>\n",
       "    <tr>\n",
       "      <th>SK</th>\n",
       "      <td>66</td>\n",
       "      <td>70</td>\n",
       "      <td>0</td>\n",
       "      <td>0</td>\n",
       "      <td>0</td>\n",
       "      <td>0</td>\n",
       "      <td>17/06/2020 22:25:57</td>\n",
       "      <td>0</td>\n",
       "      <td>4</td>\n",
       "      <td>Sikkim</td>\n",
       "      <td></td>\n",
       "    </tr>\n",
       "    <tr>\n",
       "      <th>DN</th>\n",
       "      <td>48</td>\n",
       "      <td>60</td>\n",
       "      <td>0</td>\n",
       "      <td>1</td>\n",
       "      <td>0</td>\n",
       "      <td>0</td>\n",
       "      <td>18/06/2020 13:00:49</td>\n",
       "      <td>0</td>\n",
       "      <td>12</td>\n",
       "      <td>Dadra and Nagar Haveli and Daman and Diu</td>\n",
       "      <td></td>\n",
       "    </tr>\n",
       "    <tr>\n",
       "      <th>AN</th>\n",
       "      <td>12</td>\n",
       "      <td>45</td>\n",
       "      <td>0</td>\n",
       "      <td>1</td>\n",
       "      <td>0</td>\n",
       "      <td>0</td>\n",
       "      <td>18/06/2020 09:05:51</td>\n",
       "      <td>0</td>\n",
       "      <td>33</td>\n",
       "      <td>Andaman and Nicobar Islands</td>\n",
       "      <td></td>\n",
       "    </tr>\n",
       "    <tr>\n",
       "      <th>ML</th>\n",
       "      <td>10</td>\n",
       "      <td>43</td>\n",
       "      <td>1</td>\n",
       "      <td>0</td>\n",
       "      <td>0</td>\n",
       "      <td>1</td>\n",
       "      <td>18/06/2020 14:12:54</td>\n",
       "      <td>0</td>\n",
       "      <td>32</td>\n",
       "      <td>Meghalaya</td>\n",
       "      <td>[June 17]:\\nOne case was identified to be fals...</td>\n",
       "    </tr>\n",
       "    <tr>\n",
       "      <th>LD</th>\n",
       "      <td>0</td>\n",
       "      <td>0</td>\n",
       "      <td>0</td>\n",
       "      <td>0</td>\n",
       "      <td>0</td>\n",
       "      <td>0</td>\n",
       "      <td>26/03/2020 07:19:29</td>\n",
       "      <td>0</td>\n",
       "      <td>0</td>\n",
       "      <td>Lakshadweep</td>\n",
       "      <td></td>\n",
       "    </tr>\n",
       "  </tbody>\n",
       "</table>\n",
       "</div>"
      ],
      "text/plain": [
       "           active  confirmed  deaths  deltaconfirmed  deltadeaths  \\\n",
       "statecode                                                           \n",
       "TT         161423     369314   12304            2050           41   \n",
       "MH          51922     116752    5651               0            0   \n",
       "TN          21993      50193     576               0            0   \n",
       "DL          27741      47102    1904               0            0   \n",
       "GJ           6149      25148    1561               0            0   \n",
       "UP           5659      15785     488             604           23   \n",
       "RJ           2721      13626     323              84           10   \n",
       "WB           5262      12300     506               0            0   \n",
       "MP           2374      11244     482               0            0   \n",
       "HR           4718       8946     130             114            0   \n",
       "UN           8703       8703       0             430            0   \n",
       "KA           2823       7734     103               0            0   \n",
       "AP           3632       7496      92             425            2   \n",
       "BR           1988       6993      44              53            5   \n",
       "TG           2412       5675     192               0            0   \n",
       "JK           2428       5406      64               0            0   \n",
       "AS           2110       4777       9              82            1   \n",
       "OR           1354       4512      14             174            0   \n",
       "PB            881       3497      78               0            0   \n",
       "KL           1352       2698      21               0            0   \n",
       "UT            779       2080      26              57            0   \n",
       "CT            756       1864       9               0            0   \n",
       "JH            734       1895      10               0            0   \n",
       "TR            585       1142       1               9            0   \n",
       "LA            591        687       1               0            0   \n",
       "GA            560        656       0               0            0   \n",
       "HP            202        589       7               4            0   \n",
       "MN            360        552       0               0            0   \n",
       "CH             61        373       6               3            0   \n",
       "PY            131        245       5               0            0   \n",
       "NL             84        193       0               0            0   \n",
       "MZ            129        130       0               9            0   \n",
       "AR             93        103       0               0            0   \n",
       "SK             66         70       0               0            0   \n",
       "DN             48         60       0               1            0   \n",
       "AN             12         45       0               1            0   \n",
       "ML             10         43       1               0            0   \n",
       "LD              0          0       0               0            0   \n",
       "\n",
       "           deltarecovered      lastupdatedtime  migratedother  recovered  \\\n",
       "statecode                                                                  \n",
       "TT                   1104  18/06/2020 18:52:46             45     195542   \n",
       "MH                      0  17/06/2020 23:34:48             13      59166   \n",
       "TN                      0  17/06/2020 18:45:48              0      27624   \n",
       "DL                      0  17/06/2020 23:26:52              0      17457   \n",
       "GJ                      0  17/06/2020 21:05:49              0      17438   \n",
       "UP                    399  18/06/2020 18:45:48              0       9638   \n",
       "RJ                    115  18/06/2020 11:11:47              0      10582   \n",
       "WB                      0  17/06/2020 19:45:50              0       6532   \n",
       "MP                      0  17/06/2020 22:25:48              0       8388   \n",
       "HR                    146  18/06/2020 14:31:48              0       4098   \n",
       "UN                      0  18/06/2020 09:45:47              0          0   \n",
       "KA                      0  17/06/2020 19:02:48              4       4804   \n",
       "AP                    131  18/06/2020 13:38:49              0       3772   \n",
       "BR                    185  18/06/2020 17:00:49              0       4961   \n",
       "TG                      0  17/06/2020 22:35:48              0       3071   \n",
       "JK                      0  17/06/2020 20:42:52              0       2914   \n",
       "AS                     12  18/06/2020 15:24:50              3       2655   \n",
       "OR                     97  18/06/2020 16:53:51              0       3144   \n",
       "PB                      0  17/06/2020 19:35:50              0       2538   \n",
       "KL                      0  17/06/2020 19:35:52              1       1324   \n",
       "UT                      8  18/06/2020 16:35:49             13       1262   \n",
       "CT                      0  17/06/2020 22:15:54              0       1099   \n",
       "JH                      0  17/06/2020 22:55:49              0       1151   \n",
       "TR                      0  18/06/2020 15:14:55              0        556   \n",
       "LA                      3  18/06/2020 17:35:51              0         95   \n",
       "GA                      0  17/06/2020 19:35:54              0         96   \n",
       "HP                      1  18/06/2020 18:52:49             11        369   \n",
       "MN                      0  17/06/2020 22:42:51              0        192   \n",
       "CH                      0  18/06/2020 18:45:53              0        306   \n",
       "PY                      0  17/06/2020 19:26:10              0        109   \n",
       "NL                      6  18/06/2020 16:53:54              0        109   \n",
       "MZ                      0  18/06/2020 09:05:49              0          1   \n",
       "AR                      0  17/06/2020 23:34:51              0         10   \n",
       "SK                      0  17/06/2020 22:25:57              0          4   \n",
       "DN                      0  18/06/2020 13:00:49              0         12   \n",
       "AN                      0  18/06/2020 09:05:51              0         33   \n",
       "ML                      1  18/06/2020 14:12:54              0         32   \n",
       "LD                      0  26/03/2020 07:19:29              0          0   \n",
       "\n",
       "                                              state  \\\n",
       "statecode                                             \n",
       "TT                                            Total   \n",
       "MH                                      Maharashtra   \n",
       "TN                                       Tamil Nadu   \n",
       "DL                                            Delhi   \n",
       "GJ                                          Gujarat   \n",
       "UP                                    Uttar Pradesh   \n",
       "RJ                                        Rajasthan   \n",
       "WB                                      West Bengal   \n",
       "MP                                   Madhya Pradesh   \n",
       "HR                                          Haryana   \n",
       "UN                                 State Unassigned   \n",
       "KA                                        Karnataka   \n",
       "AP                                   Andhra Pradesh   \n",
       "BR                                            Bihar   \n",
       "TG                                        Telangana   \n",
       "JK                                Jammu and Kashmir   \n",
       "AS                                            Assam   \n",
       "OR                                           Odisha   \n",
       "PB                                           Punjab   \n",
       "KL                                           Kerala   \n",
       "UT                                      Uttarakhand   \n",
       "CT                                     Chhattisgarh   \n",
       "JH                                        Jharkhand   \n",
       "TR                                          Tripura   \n",
       "LA                                           Ladakh   \n",
       "GA                                              Goa   \n",
       "HP                                 Himachal Pradesh   \n",
       "MN                                          Manipur   \n",
       "CH                                       Chandigarh   \n",
       "PY                                       Puducherry   \n",
       "NL                                         Nagaland   \n",
       "MZ                                          Mizoram   \n",
       "AR                                Arunachal Pradesh   \n",
       "SK                                           Sikkim   \n",
       "DN         Dadra and Nagar Haveli and Daman and Diu   \n",
       "AN                      Andaman and Nicobar Islands   \n",
       "ML                                        Meghalaya   \n",
       "LD                                      Lakshadweep   \n",
       "\n",
       "                                                  statenotes  \n",
       "statecode                                                     \n",
       "TT                                                            \n",
       "MH         13 cases were marked as non-covid deaths in MH...  \n",
       "TN         2 deaths cross notified to other states from C...  \n",
       "DL         Delhi bulletins in the morning, containing dat...  \n",
       "GJ                                                            \n",
       "UP                                                            \n",
       "RJ                                                            \n",
       "WB                                                            \n",
       "MP                                                            \n",
       "HR                                                            \n",
       "UN         MoHFW website reports that these are the 'case...  \n",
       "KA         4 cases are classified as non-covid related de...  \n",
       "AP         Total includes patients from other states and ...  \n",
       "BR                                                            \n",
       "TG                                                            \n",
       "JK                                                            \n",
       "AS         Includes one case from Nagaland.\\nTotal of 3 p...  \n",
       "OR         Three non-covid deaths reported in state dashb...  \n",
       "PB                                                            \n",
       "KL         Mahe native who expired in Kannur included in ...  \n",
       "UT               13 Migrated cases reduced from Active count  \n",
       "CT                                                            \n",
       "JH                                                            \n",
       "TR                                                            \n",
       "LA                                                            \n",
       "GA                                                            \n",
       "HP         HP has 12 Migrated cases which are reduced fro...  \n",
       "MN                                                            \n",
       "CH                                                            \n",
       "PY                                                            \n",
       "NL                                                            \n",
       "MZ                                                            \n",
       "AR                                                            \n",
       "SK                                                            \n",
       "DN                                                            \n",
       "AN                                                            \n",
       "ML         [June 17]:\\nOne case was identified to be fals...  \n",
       "LD                                                            "
      ]
     },
     "execution_count": 62,
     "metadata": {},
     "output_type": "execute_result"
    }
   ],
   "source": [
    "covid.set_index('statecode')\n"
   ]
  },
  {
   "cell_type": "code",
   "execution_count": 63,
   "metadata": {
    "scrolled": true
   },
   "outputs": [],
   "source": [
    "covid[\"long\"]=longitu"
   ]
  },
  {
   "cell_type": "code",
   "execution_count": 64,
   "metadata": {
    "scrolled": true
   },
   "outputs": [
    {
     "data": {
      "text/html": [
       "<div>\n",
       "<style scoped>\n",
       "    .dataframe tbody tr th:only-of-type {\n",
       "        vertical-align: middle;\n",
       "    }\n",
       "\n",
       "    .dataframe tbody tr th {\n",
       "        vertical-align: top;\n",
       "    }\n",
       "\n",
       "    .dataframe thead th {\n",
       "        text-align: right;\n",
       "    }\n",
       "</style>\n",
       "<table border=\"1\" class=\"dataframe\">\n",
       "  <thead>\n",
       "    <tr style=\"text-align: right;\">\n",
       "      <th></th>\n",
       "      <th>active</th>\n",
       "      <th>confirmed</th>\n",
       "      <th>deaths</th>\n",
       "      <th>deltaconfirmed</th>\n",
       "      <th>deltadeaths</th>\n",
       "      <th>deltarecovered</th>\n",
       "      <th>lastupdatedtime</th>\n",
       "      <th>migratedother</th>\n",
       "      <th>recovered</th>\n",
       "      <th>state</th>\n",
       "      <th>statecode</th>\n",
       "      <th>statenotes</th>\n",
       "      <th>long</th>\n",
       "    </tr>\n",
       "  </thead>\n",
       "  <tbody>\n",
       "    <tr>\n",
       "      <th>0</th>\n",
       "      <td>161423</td>\n",
       "      <td>369314</td>\n",
       "      <td>12304</td>\n",
       "      <td>2050</td>\n",
       "      <td>41</td>\n",
       "      <td>1104</td>\n",
       "      <td>18/06/2020 18:52:46</td>\n",
       "      <td>45</td>\n",
       "      <td>195542</td>\n",
       "      <td>Total</td>\n",
       "      <td>TT</td>\n",
       "      <td></td>\n",
       "      <td>78.962900</td>\n",
       "    </tr>\n",
       "    <tr>\n",
       "      <th>1</th>\n",
       "      <td>51922</td>\n",
       "      <td>116752</td>\n",
       "      <td>5651</td>\n",
       "      <td>0</td>\n",
       "      <td>0</td>\n",
       "      <td>0</td>\n",
       "      <td>17/06/2020 23:34:48</td>\n",
       "      <td>13</td>\n",
       "      <td>59166</td>\n",
       "      <td>Maharashtra</td>\n",
       "      <td>MH</td>\n",
       "      <td>13 cases were marked as non-covid deaths in MH...</td>\n",
       "      <td>73.160175</td>\n",
       "    </tr>\n",
       "    <tr>\n",
       "      <th>2</th>\n",
       "      <td>21993</td>\n",
       "      <td>50193</td>\n",
       "      <td>576</td>\n",
       "      <td>0</td>\n",
       "      <td>0</td>\n",
       "      <td>0</td>\n",
       "      <td>17/06/2020 18:45:48</td>\n",
       "      <td>0</td>\n",
       "      <td>27624</td>\n",
       "      <td>Tamil Nadu</td>\n",
       "      <td>TN</td>\n",
       "      <td>2 deaths cross notified to other states from C...</td>\n",
       "      <td>79.150042</td>\n",
       "    </tr>\n",
       "    <tr>\n",
       "      <th>3</th>\n",
       "      <td>27741</td>\n",
       "      <td>47102</td>\n",
       "      <td>1904</td>\n",
       "      <td>0</td>\n",
       "      <td>0</td>\n",
       "      <td>0</td>\n",
       "      <td>17/06/2020 23:26:52</td>\n",
       "      <td>0</td>\n",
       "      <td>17457</td>\n",
       "      <td>Delhi</td>\n",
       "      <td>DL</td>\n",
       "      <td>Delhi bulletins in the morning, containing dat...</td>\n",
       "      <td>77.230004</td>\n",
       "    </tr>\n",
       "    <tr>\n",
       "      <th>4</th>\n",
       "      <td>6149</td>\n",
       "      <td>25148</td>\n",
       "      <td>1561</td>\n",
       "      <td>0</td>\n",
       "      <td>0</td>\n",
       "      <td>0</td>\n",
       "      <td>17/06/2020 21:05:49</td>\n",
       "      <td>0</td>\n",
       "      <td>17438</td>\n",
       "      <td>Gujarat</td>\n",
       "      <td>GJ</td>\n",
       "      <td></td>\n",
       "      <td>71.192400</td>\n",
       "    </tr>\n",
       "  </tbody>\n",
       "</table>\n",
       "</div>"
      ],
      "text/plain": [
       "   active  confirmed  deaths  deltaconfirmed  deltadeaths  deltarecovered  \\\n",
       "0  161423     369314   12304            2050           41            1104   \n",
       "1   51922     116752    5651               0            0               0   \n",
       "2   21993      50193     576               0            0               0   \n",
       "3   27741      47102    1904               0            0               0   \n",
       "4    6149      25148    1561               0            0               0   \n",
       "\n",
       "       lastupdatedtime  migratedother  recovered        state statecode  \\\n",
       "0  18/06/2020 18:52:46             45     195542        Total        TT   \n",
       "1  17/06/2020 23:34:48             13      59166  Maharashtra        MH   \n",
       "2  17/06/2020 18:45:48              0      27624   Tamil Nadu        TN   \n",
       "3  17/06/2020 23:26:52              0      17457        Delhi        DL   \n",
       "4  17/06/2020 21:05:49              0      17438      Gujarat        GJ   \n",
       "\n",
       "                                          statenotes       long  \n",
       "0                                                     78.962900  \n",
       "1  13 cases were marked as non-covid deaths in MH...  73.160175  \n",
       "2  2 deaths cross notified to other states from C...  79.150042  \n",
       "3  Delhi bulletins in the morning, containing dat...  77.230004  \n",
       "4                                                     71.192400  "
      ]
     },
     "execution_count": 64,
     "metadata": {},
     "output_type": "execute_result"
    }
   ],
   "source": [
    "covid.head()"
   ]
  },
  {
   "cell_type": "code",
   "execution_count": 65,
   "metadata": {},
   "outputs": [
    {
     "data": {
      "text/plain": [
       "38"
      ]
     },
     "execution_count": 65,
     "metadata": {},
     "output_type": "execute_result"
    }
   ],
   "source": [
    "lat={\n",
    "    20.5937:\"TT\",\n",
    "    19.25023195:\"MH\",\n",
    "    12.92038576:\"TN\",\n",
    "    28.6699929:\"DL\",\n",
    "    22.2587:\"GJ\",\n",
    "    27.59998069:\"UP\",\n",
    "    26.44999921:\"RJ\",\n",
    "    21.30039105:\"MP\",\n",
    "    22.58039044:\"WB\",\n",
    "    22.58753:\"UN\",\n",
    "    12.57038129:\"KA\",\n",
    "    28.45000633:\"HR\",\n",
    "    25.78541445:\"BR\",\n",
    "    14.7504291:\"AP\",\n",
    "    34.29995933:\"JK\",\n",
    "    18.1124:\"TG\",\n",
    "    19.82042971:\"OR\",\n",
    "    26.7499809:\"AS\",\n",
    "    31.51997398:\"PB\",\n",
    "    8.900372741:\"KL\",\n",
    "    30.32040895:\"UT\",\n",
    "    23.80039349:\"JH\",\n",
    "    22.09042035:\"CT\",\n",
    "    23.83540428:\"TR\",\n",
    "    31.10002545:\"HP\",\n",
    "    15.491997:\"GA\",\n",
    "    24.79997072:\"MN\",\n",
    "    30.71999697:\"CH\",\n",
    "    11.93499371:\"PY\",\n",
    "    34.209515:\"LA\",\n",
    "    25.6669979:\"NL\",\n",
    "    23.71039899:\"MZ\",\n",
    "    27.10039878:\"AR\",\n",
    "    25.57049217:\"ML\",\n",
    "    11.66702557:\"AN\",\n",
    "    20.26657819:\"DN\",\n",
    "    27.3333303:\"SK\",\n",
    "    10.56257331:\"LD\"\n",
    "}\n",
    "len(lat)"
   ]
  },
  {
   "cell_type": "code",
   "execution_count": 66,
   "metadata": {},
   "outputs": [],
   "source": [
    "covid[\"lat\"]=lat"
   ]
  },
  {
   "cell_type": "code",
   "execution_count": 67,
   "metadata": {},
   "outputs": [
    {
     "data": {
      "text/html": [
       "<div>\n",
       "<style scoped>\n",
       "    .dataframe tbody tr th:only-of-type {\n",
       "        vertical-align: middle;\n",
       "    }\n",
       "\n",
       "    .dataframe tbody tr th {\n",
       "        vertical-align: top;\n",
       "    }\n",
       "\n",
       "    .dataframe thead th {\n",
       "        text-align: right;\n",
       "    }\n",
       "</style>\n",
       "<table border=\"1\" class=\"dataframe\">\n",
       "  <thead>\n",
       "    <tr style=\"text-align: right;\">\n",
       "      <th></th>\n",
       "      <th>active</th>\n",
       "      <th>confirmed</th>\n",
       "      <th>deaths</th>\n",
       "      <th>deltaconfirmed</th>\n",
       "      <th>deltadeaths</th>\n",
       "      <th>deltarecovered</th>\n",
       "      <th>lastupdatedtime</th>\n",
       "      <th>migratedother</th>\n",
       "      <th>recovered</th>\n",
       "      <th>state</th>\n",
       "      <th>statecode</th>\n",
       "      <th>statenotes</th>\n",
       "      <th>long</th>\n",
       "      <th>lat</th>\n",
       "    </tr>\n",
       "  </thead>\n",
       "  <tbody>\n",
       "    <tr>\n",
       "      <th>0</th>\n",
       "      <td>161423</td>\n",
       "      <td>369314</td>\n",
       "      <td>12304</td>\n",
       "      <td>2050</td>\n",
       "      <td>41</td>\n",
       "      <td>1104</td>\n",
       "      <td>18/06/2020 18:52:46</td>\n",
       "      <td>45</td>\n",
       "      <td>195542</td>\n",
       "      <td>Total</td>\n",
       "      <td>TT</td>\n",
       "      <td></td>\n",
       "      <td>78.962900</td>\n",
       "      <td>20.593700</td>\n",
       "    </tr>\n",
       "    <tr>\n",
       "      <th>1</th>\n",
       "      <td>51922</td>\n",
       "      <td>116752</td>\n",
       "      <td>5651</td>\n",
       "      <td>0</td>\n",
       "      <td>0</td>\n",
       "      <td>0</td>\n",
       "      <td>17/06/2020 23:34:48</td>\n",
       "      <td>13</td>\n",
       "      <td>59166</td>\n",
       "      <td>Maharashtra</td>\n",
       "      <td>MH</td>\n",
       "      <td>13 cases were marked as non-covid deaths in MH...</td>\n",
       "      <td>73.160175</td>\n",
       "      <td>19.250232</td>\n",
       "    </tr>\n",
       "    <tr>\n",
       "      <th>2</th>\n",
       "      <td>21993</td>\n",
       "      <td>50193</td>\n",
       "      <td>576</td>\n",
       "      <td>0</td>\n",
       "      <td>0</td>\n",
       "      <td>0</td>\n",
       "      <td>17/06/2020 18:45:48</td>\n",
       "      <td>0</td>\n",
       "      <td>27624</td>\n",
       "      <td>Tamil Nadu</td>\n",
       "      <td>TN</td>\n",
       "      <td>2 deaths cross notified to other states from C...</td>\n",
       "      <td>79.150042</td>\n",
       "      <td>12.920386</td>\n",
       "    </tr>\n",
       "    <tr>\n",
       "      <th>3</th>\n",
       "      <td>27741</td>\n",
       "      <td>47102</td>\n",
       "      <td>1904</td>\n",
       "      <td>0</td>\n",
       "      <td>0</td>\n",
       "      <td>0</td>\n",
       "      <td>17/06/2020 23:26:52</td>\n",
       "      <td>0</td>\n",
       "      <td>17457</td>\n",
       "      <td>Delhi</td>\n",
       "      <td>DL</td>\n",
       "      <td>Delhi bulletins in the morning, containing dat...</td>\n",
       "      <td>77.230004</td>\n",
       "      <td>28.669993</td>\n",
       "    </tr>\n",
       "    <tr>\n",
       "      <th>4</th>\n",
       "      <td>6149</td>\n",
       "      <td>25148</td>\n",
       "      <td>1561</td>\n",
       "      <td>0</td>\n",
       "      <td>0</td>\n",
       "      <td>0</td>\n",
       "      <td>17/06/2020 21:05:49</td>\n",
       "      <td>0</td>\n",
       "      <td>17438</td>\n",
       "      <td>Gujarat</td>\n",
       "      <td>GJ</td>\n",
       "      <td></td>\n",
       "      <td>71.192400</td>\n",
       "      <td>22.258700</td>\n",
       "    </tr>\n",
       "    <tr>\n",
       "      <th>5</th>\n",
       "      <td>5659</td>\n",
       "      <td>15785</td>\n",
       "      <td>488</td>\n",
       "      <td>604</td>\n",
       "      <td>23</td>\n",
       "      <td>399</td>\n",
       "      <td>18/06/2020 18:45:48</td>\n",
       "      <td>0</td>\n",
       "      <td>9638</td>\n",
       "      <td>Uttar Pradesh</td>\n",
       "      <td>UP</td>\n",
       "      <td></td>\n",
       "      <td>78.050006</td>\n",
       "      <td>27.599981</td>\n",
       "    </tr>\n",
       "    <tr>\n",
       "      <th>6</th>\n",
       "      <td>2721</td>\n",
       "      <td>13626</td>\n",
       "      <td>323</td>\n",
       "      <td>84</td>\n",
       "      <td>10</td>\n",
       "      <td>115</td>\n",
       "      <td>18/06/2020 11:11:47</td>\n",
       "      <td>0</td>\n",
       "      <td>10582</td>\n",
       "      <td>Rajasthan</td>\n",
       "      <td>RJ</td>\n",
       "      <td></td>\n",
       "      <td>74.639981</td>\n",
       "      <td>26.449999</td>\n",
       "    </tr>\n",
       "    <tr>\n",
       "      <th>7</th>\n",
       "      <td>5262</td>\n",
       "      <td>12300</td>\n",
       "      <td>506</td>\n",
       "      <td>0</td>\n",
       "      <td>0</td>\n",
       "      <td>0</td>\n",
       "      <td>17/06/2020 19:45:50</td>\n",
       "      <td>0</td>\n",
       "      <td>6532</td>\n",
       "      <td>West Bengal</td>\n",
       "      <td>WB</td>\n",
       "      <td></td>\n",
       "      <td>76.130019</td>\n",
       "      <td>21.300391</td>\n",
       "    </tr>\n",
       "    <tr>\n",
       "      <th>8</th>\n",
       "      <td>2374</td>\n",
       "      <td>11244</td>\n",
       "      <td>482</td>\n",
       "      <td>0</td>\n",
       "      <td>0</td>\n",
       "      <td>0</td>\n",
       "      <td>17/06/2020 22:25:48</td>\n",
       "      <td>0</td>\n",
       "      <td>8388</td>\n",
       "      <td>Madhya Pradesh</td>\n",
       "      <td>MP</td>\n",
       "      <td></td>\n",
       "      <td>88.329947</td>\n",
       "      <td>22.580390</td>\n",
       "    </tr>\n",
       "    <tr>\n",
       "      <th>9</th>\n",
       "      <td>4718</td>\n",
       "      <td>8946</td>\n",
       "      <td>130</td>\n",
       "      <td>114</td>\n",
       "      <td>0</td>\n",
       "      <td>146</td>\n",
       "      <td>18/06/2020 14:31:48</td>\n",
       "      <td>0</td>\n",
       "      <td>4098</td>\n",
       "      <td>Haryana</td>\n",
       "      <td>HR</td>\n",
       "      <td></td>\n",
       "      <td>80.962900</td>\n",
       "      <td>22.587530</td>\n",
       "    </tr>\n",
       "    <tr>\n",
       "      <th>10</th>\n",
       "      <td>8703</td>\n",
       "      <td>8703</td>\n",
       "      <td>0</td>\n",
       "      <td>430</td>\n",
       "      <td>0</td>\n",
       "      <td>0</td>\n",
       "      <td>18/06/2020 09:45:47</td>\n",
       "      <td>0</td>\n",
       "      <td>0</td>\n",
       "      <td>State Unassigned</td>\n",
       "      <td>UN</td>\n",
       "      <td>MoHFW website reports that these are the 'case...</td>\n",
       "      <td>76.919997</td>\n",
       "      <td>12.570381</td>\n",
       "    </tr>\n",
       "    <tr>\n",
       "      <th>11</th>\n",
       "      <td>2823</td>\n",
       "      <td>7734</td>\n",
       "      <td>103</td>\n",
       "      <td>0</td>\n",
       "      <td>0</td>\n",
       "      <td>0</td>\n",
       "      <td>17/06/2020 19:02:48</td>\n",
       "      <td>4</td>\n",
       "      <td>4804</td>\n",
       "      <td>Karnataka</td>\n",
       "      <td>KA</td>\n",
       "      <td>4 cases are classified as non-covid related de...</td>\n",
       "      <td>77.019991</td>\n",
       "      <td>28.450006</td>\n",
       "    </tr>\n",
       "    <tr>\n",
       "      <th>12</th>\n",
       "      <td>3632</td>\n",
       "      <td>7496</td>\n",
       "      <td>92</td>\n",
       "      <td>425</td>\n",
       "      <td>2</td>\n",
       "      <td>131</td>\n",
       "      <td>18/06/2020 13:38:49</td>\n",
       "      <td>0</td>\n",
       "      <td>3772</td>\n",
       "      <td>Andhra Pradesh</td>\n",
       "      <td>AP</td>\n",
       "      <td>Total includes patients from other states and ...</td>\n",
       "      <td>87.479973</td>\n",
       "      <td>25.785414</td>\n",
       "    </tr>\n",
       "    <tr>\n",
       "      <th>13</th>\n",
       "      <td>1988</td>\n",
       "      <td>6993</td>\n",
       "      <td>44</td>\n",
       "      <td>53</td>\n",
       "      <td>5</td>\n",
       "      <td>185</td>\n",
       "      <td>18/06/2020 17:00:49</td>\n",
       "      <td>0</td>\n",
       "      <td>4961</td>\n",
       "      <td>Bihar</td>\n",
       "      <td>BR</td>\n",
       "      <td></td>\n",
       "      <td>78.570026</td>\n",
       "      <td>14.750429</td>\n",
       "    </tr>\n",
       "    <tr>\n",
       "      <th>14</th>\n",
       "      <td>2412</td>\n",
       "      <td>5675</td>\n",
       "      <td>192</td>\n",
       "      <td>0</td>\n",
       "      <td>0</td>\n",
       "      <td>0</td>\n",
       "      <td>17/06/2020 22:35:48</td>\n",
       "      <td>0</td>\n",
       "      <td>3071</td>\n",
       "      <td>Telangana</td>\n",
       "      <td>TG</td>\n",
       "      <td></td>\n",
       "      <td>74.466658</td>\n",
       "      <td>34.299959</td>\n",
       "    </tr>\n",
       "    <tr>\n",
       "      <th>15</th>\n",
       "      <td>2428</td>\n",
       "      <td>5406</td>\n",
       "      <td>64</td>\n",
       "      <td>0</td>\n",
       "      <td>0</td>\n",
       "      <td>0</td>\n",
       "      <td>17/06/2020 20:42:52</td>\n",
       "      <td>0</td>\n",
       "      <td>2914</td>\n",
       "      <td>Jammu and Kashmir</td>\n",
       "      <td>JK</td>\n",
       "      <td></td>\n",
       "      <td>79.019400</td>\n",
       "      <td>18.112400</td>\n",
       "    </tr>\n",
       "    <tr>\n",
       "      <th>16</th>\n",
       "      <td>2110</td>\n",
       "      <td>4777</td>\n",
       "      <td>9</td>\n",
       "      <td>82</td>\n",
       "      <td>1</td>\n",
       "      <td>12</td>\n",
       "      <td>18/06/2020 15:24:50</td>\n",
       "      <td>3</td>\n",
       "      <td>2655</td>\n",
       "      <td>Assam</td>\n",
       "      <td>AS</td>\n",
       "      <td>Includes one case from Nagaland.\\nTotal of 3 p...</td>\n",
       "      <td>85.900017</td>\n",
       "      <td>19.820430</td>\n",
       "    </tr>\n",
       "    <tr>\n",
       "      <th>17</th>\n",
       "      <td>1354</td>\n",
       "      <td>4512</td>\n",
       "      <td>14</td>\n",
       "      <td>174</td>\n",
       "      <td>0</td>\n",
       "      <td>97</td>\n",
       "      <td>18/06/2020 16:53:51</td>\n",
       "      <td>0</td>\n",
       "      <td>3144</td>\n",
       "      <td>Odisha</td>\n",
       "      <td>OR</td>\n",
       "      <td>Three non-covid deaths reported in state dashb...</td>\n",
       "      <td>94.216667</td>\n",
       "      <td>26.749981</td>\n",
       "    </tr>\n",
       "    <tr>\n",
       "      <th>18</th>\n",
       "      <td>881</td>\n",
       "      <td>3497</td>\n",
       "      <td>78</td>\n",
       "      <td>0</td>\n",
       "      <td>0</td>\n",
       "      <td>0</td>\n",
       "      <td>17/06/2020 19:35:50</td>\n",
       "      <td>0</td>\n",
       "      <td>2538</td>\n",
       "      <td>Punjab</td>\n",
       "      <td>PB</td>\n",
       "      <td></td>\n",
       "      <td>75.980003</td>\n",
       "      <td>31.519974</td>\n",
       "    </tr>\n",
       "    <tr>\n",
       "      <th>19</th>\n",
       "      <td>1352</td>\n",
       "      <td>2698</td>\n",
       "      <td>21</td>\n",
       "      <td>0</td>\n",
       "      <td>0</td>\n",
       "      <td>0</td>\n",
       "      <td>17/06/2020 19:35:52</td>\n",
       "      <td>1</td>\n",
       "      <td>1324</td>\n",
       "      <td>Kerala</td>\n",
       "      <td>KL</td>\n",
       "      <td>Mahe native who expired in Kannur included in ...</td>\n",
       "      <td>76.569993</td>\n",
       "      <td>8.900373</td>\n",
       "    </tr>\n",
       "    <tr>\n",
       "      <th>20</th>\n",
       "      <td>779</td>\n",
       "      <td>2080</td>\n",
       "      <td>26</td>\n",
       "      <td>57</td>\n",
       "      <td>0</td>\n",
       "      <td>8</td>\n",
       "      <td>18/06/2020 16:35:49</td>\n",
       "      <td>13</td>\n",
       "      <td>1262</td>\n",
       "      <td>Uttarakhand</td>\n",
       "      <td>UT</td>\n",
       "      <td>13 Migrated cases reduced from Active count</td>\n",
       "      <td>79.019300</td>\n",
       "      <td>30.320409</td>\n",
       "    </tr>\n",
       "    <tr>\n",
       "      <th>21</th>\n",
       "      <td>756</td>\n",
       "      <td>1864</td>\n",
       "      <td>9</td>\n",
       "      <td>0</td>\n",
       "      <td>0</td>\n",
       "      <td>0</td>\n",
       "      <td>17/06/2020 22:15:54</td>\n",
       "      <td>0</td>\n",
       "      <td>1099</td>\n",
       "      <td>Chhattisgarh</td>\n",
       "      <td>CT</td>\n",
       "      <td></td>\n",
       "      <td>86.419986</td>\n",
       "      <td>23.800393</td>\n",
       "    </tr>\n",
       "    <tr>\n",
       "      <th>22</th>\n",
       "      <td>734</td>\n",
       "      <td>1895</td>\n",
       "      <td>10</td>\n",
       "      <td>0</td>\n",
       "      <td>0</td>\n",
       "      <td>0</td>\n",
       "      <td>17/06/2020 22:55:49</td>\n",
       "      <td>0</td>\n",
       "      <td>1151</td>\n",
       "      <td>Jharkhand</td>\n",
       "      <td>JH</td>\n",
       "      <td></td>\n",
       "      <td>82.159987</td>\n",
       "      <td>22.090420</td>\n",
       "    </tr>\n",
       "    <tr>\n",
       "      <th>23</th>\n",
       "      <td>585</td>\n",
       "      <td>1142</td>\n",
       "      <td>1</td>\n",
       "      <td>9</td>\n",
       "      <td>0</td>\n",
       "      <td>0</td>\n",
       "      <td>18/06/2020 15:14:55</td>\n",
       "      <td>0</td>\n",
       "      <td>556</td>\n",
       "      <td>Tripura</td>\n",
       "      <td>TR</td>\n",
       "      <td></td>\n",
       "      <td>91.279999</td>\n",
       "      <td>23.835404</td>\n",
       "    </tr>\n",
       "    <tr>\n",
       "      <th>24</th>\n",
       "      <td>591</td>\n",
       "      <td>687</td>\n",
       "      <td>1</td>\n",
       "      <td>0</td>\n",
       "      <td>0</td>\n",
       "      <td>3</td>\n",
       "      <td>18/06/2020 17:35:51</td>\n",
       "      <td>0</td>\n",
       "      <td>95</td>\n",
       "      <td>Ladakh</td>\n",
       "      <td>LA</td>\n",
       "      <td></td>\n",
       "      <td>77.166597</td>\n",
       "      <td>31.100025</td>\n",
       "    </tr>\n",
       "    <tr>\n",
       "      <th>25</th>\n",
       "      <td>560</td>\n",
       "      <td>656</td>\n",
       "      <td>0</td>\n",
       "      <td>0</td>\n",
       "      <td>0</td>\n",
       "      <td>0</td>\n",
       "      <td>17/06/2020 19:35:54</td>\n",
       "      <td>0</td>\n",
       "      <td>96</td>\n",
       "      <td>Goa</td>\n",
       "      <td>GA</td>\n",
       "      <td></td>\n",
       "      <td>73.818001</td>\n",
       "      <td>15.491997</td>\n",
       "    </tr>\n",
       "    <tr>\n",
       "      <th>26</th>\n",
       "      <td>202</td>\n",
       "      <td>589</td>\n",
       "      <td>7</td>\n",
       "      <td>4</td>\n",
       "      <td>0</td>\n",
       "      <td>1</td>\n",
       "      <td>18/06/2020 18:52:49</td>\n",
       "      <td>11</td>\n",
       "      <td>369</td>\n",
       "      <td>Himachal Pradesh</td>\n",
       "      <td>HP</td>\n",
       "      <td>HP has 12 Migrated cases which are reduced fro...</td>\n",
       "      <td>93.950017</td>\n",
       "      <td>24.799971</td>\n",
       "    </tr>\n",
       "    <tr>\n",
       "      <th>27</th>\n",
       "      <td>360</td>\n",
       "      <td>552</td>\n",
       "      <td>0</td>\n",
       "      <td>0</td>\n",
       "      <td>0</td>\n",
       "      <td>0</td>\n",
       "      <td>17/06/2020 22:42:51</td>\n",
       "      <td>0</td>\n",
       "      <td>192</td>\n",
       "      <td>Manipur</td>\n",
       "      <td>MN</td>\n",
       "      <td></td>\n",
       "      <td>76.780006</td>\n",
       "      <td>30.719997</td>\n",
       "    </tr>\n",
       "    <tr>\n",
       "      <th>28</th>\n",
       "      <td>61</td>\n",
       "      <td>373</td>\n",
       "      <td>6</td>\n",
       "      <td>3</td>\n",
       "      <td>0</td>\n",
       "      <td>0</td>\n",
       "      <td>18/06/2020 18:45:53</td>\n",
       "      <td>0</td>\n",
       "      <td>306</td>\n",
       "      <td>Chandigarh</td>\n",
       "      <td>CH</td>\n",
       "      <td></td>\n",
       "      <td>79.830000</td>\n",
       "      <td>11.934994</td>\n",
       "    </tr>\n",
       "    <tr>\n",
       "      <th>29</th>\n",
       "      <td>131</td>\n",
       "      <td>245</td>\n",
       "      <td>5</td>\n",
       "      <td>0</td>\n",
       "      <td>0</td>\n",
       "      <td>0</td>\n",
       "      <td>17/06/2020 19:26:10</td>\n",
       "      <td>0</td>\n",
       "      <td>109</td>\n",
       "      <td>Puducherry</td>\n",
       "      <td>PY</td>\n",
       "      <td></td>\n",
       "      <td>77.577049</td>\n",
       "      <td>34.209515</td>\n",
       "    </tr>\n",
       "    <tr>\n",
       "      <th>30</th>\n",
       "      <td>84</td>\n",
       "      <td>193</td>\n",
       "      <td>0</td>\n",
       "      <td>0</td>\n",
       "      <td>0</td>\n",
       "      <td>6</td>\n",
       "      <td>18/06/2020 16:53:54</td>\n",
       "      <td>0</td>\n",
       "      <td>109</td>\n",
       "      <td>Nagaland</td>\n",
       "      <td>NL</td>\n",
       "      <td></td>\n",
       "      <td>94.116570</td>\n",
       "      <td>25.666998</td>\n",
       "    </tr>\n",
       "    <tr>\n",
       "      <th>31</th>\n",
       "      <td>129</td>\n",
       "      <td>130</td>\n",
       "      <td>0</td>\n",
       "      <td>9</td>\n",
       "      <td>0</td>\n",
       "      <td>0</td>\n",
       "      <td>18/06/2020 09:05:49</td>\n",
       "      <td>0</td>\n",
       "      <td>1</td>\n",
       "      <td>Mizoram</td>\n",
       "      <td>MZ</td>\n",
       "      <td></td>\n",
       "      <td>92.720015</td>\n",
       "      <td>23.710399</td>\n",
       "    </tr>\n",
       "    <tr>\n",
       "      <th>32</th>\n",
       "      <td>93</td>\n",
       "      <td>103</td>\n",
       "      <td>0</td>\n",
       "      <td>0</td>\n",
       "      <td>0</td>\n",
       "      <td>0</td>\n",
       "      <td>17/06/2020 23:34:51</td>\n",
       "      <td>0</td>\n",
       "      <td>10</td>\n",
       "      <td>Arunachal Pradesh</td>\n",
       "      <td>AR</td>\n",
       "      <td></td>\n",
       "      <td>93.616601</td>\n",
       "      <td>27.100399</td>\n",
       "    </tr>\n",
       "    <tr>\n",
       "      <th>33</th>\n",
       "      <td>66</td>\n",
       "      <td>70</td>\n",
       "      <td>0</td>\n",
       "      <td>0</td>\n",
       "      <td>0</td>\n",
       "      <td>0</td>\n",
       "      <td>17/06/2020 22:25:57</td>\n",
       "      <td>0</td>\n",
       "      <td>4</td>\n",
       "      <td>Sikkim</td>\n",
       "      <td>SK</td>\n",
       "      <td></td>\n",
       "      <td>91.880014</td>\n",
       "      <td>25.570492</td>\n",
       "    </tr>\n",
       "    <tr>\n",
       "      <th>34</th>\n",
       "      <td>48</td>\n",
       "      <td>60</td>\n",
       "      <td>0</td>\n",
       "      <td>1</td>\n",
       "      <td>0</td>\n",
       "      <td>0</td>\n",
       "      <td>18/06/2020 13:00:49</td>\n",
       "      <td>0</td>\n",
       "      <td>12</td>\n",
       "      <td>Dadra and Nagar Haveli and Daman and Diu</td>\n",
       "      <td>DN</td>\n",
       "      <td></td>\n",
       "      <td>92.735983</td>\n",
       "      <td>11.667026</td>\n",
       "    </tr>\n",
       "    <tr>\n",
       "      <th>35</th>\n",
       "      <td>12</td>\n",
       "      <td>45</td>\n",
       "      <td>0</td>\n",
       "      <td>1</td>\n",
       "      <td>0</td>\n",
       "      <td>0</td>\n",
       "      <td>18/06/2020 09:05:51</td>\n",
       "      <td>0</td>\n",
       "      <td>33</td>\n",
       "      <td>Andaman and Nicobar Islands</td>\n",
       "      <td>AN</td>\n",
       "      <td></td>\n",
       "      <td>73.016618</td>\n",
       "      <td>20.266578</td>\n",
       "    </tr>\n",
       "    <tr>\n",
       "      <th>36</th>\n",
       "      <td>10</td>\n",
       "      <td>43</td>\n",
       "      <td>1</td>\n",
       "      <td>0</td>\n",
       "      <td>0</td>\n",
       "      <td>1</td>\n",
       "      <td>18/06/2020 14:12:54</td>\n",
       "      <td>0</td>\n",
       "      <td>32</td>\n",
       "      <td>Meghalaya</td>\n",
       "      <td>ML</td>\n",
       "      <td>[June 17]:\\nOne case was identified to be fals...</td>\n",
       "      <td>88.616647</td>\n",
       "      <td>27.333330</td>\n",
       "    </tr>\n",
       "    <tr>\n",
       "      <th>37</th>\n",
       "      <td>0</td>\n",
       "      <td>0</td>\n",
       "      <td>0</td>\n",
       "      <td>0</td>\n",
       "      <td>0</td>\n",
       "      <td>0</td>\n",
       "      <td>26/03/2020 07:19:29</td>\n",
       "      <td>0</td>\n",
       "      <td>0</td>\n",
       "      <td>Lakshadweep</td>\n",
       "      <td>LD</td>\n",
       "      <td></td>\n",
       "      <td>72.636867</td>\n",
       "      <td>10.562573</td>\n",
       "    </tr>\n",
       "  </tbody>\n",
       "</table>\n",
       "</div>"
      ],
      "text/plain": [
       "    active  confirmed  deaths  deltaconfirmed  deltadeaths  deltarecovered  \\\n",
       "0   161423     369314   12304            2050           41            1104   \n",
       "1    51922     116752    5651               0            0               0   \n",
       "2    21993      50193     576               0            0               0   \n",
       "3    27741      47102    1904               0            0               0   \n",
       "4     6149      25148    1561               0            0               0   \n",
       "5     5659      15785     488             604           23             399   \n",
       "6     2721      13626     323              84           10             115   \n",
       "7     5262      12300     506               0            0               0   \n",
       "8     2374      11244     482               0            0               0   \n",
       "9     4718       8946     130             114            0             146   \n",
       "10    8703       8703       0             430            0               0   \n",
       "11    2823       7734     103               0            0               0   \n",
       "12    3632       7496      92             425            2             131   \n",
       "13    1988       6993      44              53            5             185   \n",
       "14    2412       5675     192               0            0               0   \n",
       "15    2428       5406      64               0            0               0   \n",
       "16    2110       4777       9              82            1              12   \n",
       "17    1354       4512      14             174            0              97   \n",
       "18     881       3497      78               0            0               0   \n",
       "19    1352       2698      21               0            0               0   \n",
       "20     779       2080      26              57            0               8   \n",
       "21     756       1864       9               0            0               0   \n",
       "22     734       1895      10               0            0               0   \n",
       "23     585       1142       1               9            0               0   \n",
       "24     591        687       1               0            0               3   \n",
       "25     560        656       0               0            0               0   \n",
       "26     202        589       7               4            0               1   \n",
       "27     360        552       0               0            0               0   \n",
       "28      61        373       6               3            0               0   \n",
       "29     131        245       5               0            0               0   \n",
       "30      84        193       0               0            0               6   \n",
       "31     129        130       0               9            0               0   \n",
       "32      93        103       0               0            0               0   \n",
       "33      66         70       0               0            0               0   \n",
       "34      48         60       0               1            0               0   \n",
       "35      12         45       0               1            0               0   \n",
       "36      10         43       1               0            0               1   \n",
       "37       0          0       0               0            0               0   \n",
       "\n",
       "        lastupdatedtime  migratedother  recovered  \\\n",
       "0   18/06/2020 18:52:46             45     195542   \n",
       "1   17/06/2020 23:34:48             13      59166   \n",
       "2   17/06/2020 18:45:48              0      27624   \n",
       "3   17/06/2020 23:26:52              0      17457   \n",
       "4   17/06/2020 21:05:49              0      17438   \n",
       "5   18/06/2020 18:45:48              0       9638   \n",
       "6   18/06/2020 11:11:47              0      10582   \n",
       "7   17/06/2020 19:45:50              0       6532   \n",
       "8   17/06/2020 22:25:48              0       8388   \n",
       "9   18/06/2020 14:31:48              0       4098   \n",
       "10  18/06/2020 09:45:47              0          0   \n",
       "11  17/06/2020 19:02:48              4       4804   \n",
       "12  18/06/2020 13:38:49              0       3772   \n",
       "13  18/06/2020 17:00:49              0       4961   \n",
       "14  17/06/2020 22:35:48              0       3071   \n",
       "15  17/06/2020 20:42:52              0       2914   \n",
       "16  18/06/2020 15:24:50              3       2655   \n",
       "17  18/06/2020 16:53:51              0       3144   \n",
       "18  17/06/2020 19:35:50              0       2538   \n",
       "19  17/06/2020 19:35:52              1       1324   \n",
       "20  18/06/2020 16:35:49             13       1262   \n",
       "21  17/06/2020 22:15:54              0       1099   \n",
       "22  17/06/2020 22:55:49              0       1151   \n",
       "23  18/06/2020 15:14:55              0        556   \n",
       "24  18/06/2020 17:35:51              0         95   \n",
       "25  17/06/2020 19:35:54              0         96   \n",
       "26  18/06/2020 18:52:49             11        369   \n",
       "27  17/06/2020 22:42:51              0        192   \n",
       "28  18/06/2020 18:45:53              0        306   \n",
       "29  17/06/2020 19:26:10              0        109   \n",
       "30  18/06/2020 16:53:54              0        109   \n",
       "31  18/06/2020 09:05:49              0          1   \n",
       "32  17/06/2020 23:34:51              0         10   \n",
       "33  17/06/2020 22:25:57              0          4   \n",
       "34  18/06/2020 13:00:49              0         12   \n",
       "35  18/06/2020 09:05:51              0         33   \n",
       "36  18/06/2020 14:12:54              0         32   \n",
       "37  26/03/2020 07:19:29              0          0   \n",
       "\n",
       "                                       state statecode  \\\n",
       "0                                      Total        TT   \n",
       "1                                Maharashtra        MH   \n",
       "2                                 Tamil Nadu        TN   \n",
       "3                                      Delhi        DL   \n",
       "4                                    Gujarat        GJ   \n",
       "5                              Uttar Pradesh        UP   \n",
       "6                                  Rajasthan        RJ   \n",
       "7                                West Bengal        WB   \n",
       "8                             Madhya Pradesh        MP   \n",
       "9                                    Haryana        HR   \n",
       "10                          State Unassigned        UN   \n",
       "11                                 Karnataka        KA   \n",
       "12                            Andhra Pradesh        AP   \n",
       "13                                     Bihar        BR   \n",
       "14                                 Telangana        TG   \n",
       "15                         Jammu and Kashmir        JK   \n",
       "16                                     Assam        AS   \n",
       "17                                    Odisha        OR   \n",
       "18                                    Punjab        PB   \n",
       "19                                    Kerala        KL   \n",
       "20                               Uttarakhand        UT   \n",
       "21                              Chhattisgarh        CT   \n",
       "22                                 Jharkhand        JH   \n",
       "23                                   Tripura        TR   \n",
       "24                                    Ladakh        LA   \n",
       "25                                       Goa        GA   \n",
       "26                          Himachal Pradesh        HP   \n",
       "27                                   Manipur        MN   \n",
       "28                                Chandigarh        CH   \n",
       "29                                Puducherry        PY   \n",
       "30                                  Nagaland        NL   \n",
       "31                                   Mizoram        MZ   \n",
       "32                         Arunachal Pradesh        AR   \n",
       "33                                    Sikkim        SK   \n",
       "34  Dadra and Nagar Haveli and Daman and Diu        DN   \n",
       "35               Andaman and Nicobar Islands        AN   \n",
       "36                                 Meghalaya        ML   \n",
       "37                               Lakshadweep        LD   \n",
       "\n",
       "                                           statenotes       long        lat  \n",
       "0                                                      78.962900  20.593700  \n",
       "1   13 cases were marked as non-covid deaths in MH...  73.160175  19.250232  \n",
       "2   2 deaths cross notified to other states from C...  79.150042  12.920386  \n",
       "3   Delhi bulletins in the morning, containing dat...  77.230004  28.669993  \n",
       "4                                                      71.192400  22.258700  \n",
       "5                                                      78.050006  27.599981  \n",
       "6                                                      74.639981  26.449999  \n",
       "7                                                      76.130019  21.300391  \n",
       "8                                                      88.329947  22.580390  \n",
       "9                                                      80.962900  22.587530  \n",
       "10  MoHFW website reports that these are the 'case...  76.919997  12.570381  \n",
       "11  4 cases are classified as non-covid related de...  77.019991  28.450006  \n",
       "12  Total includes patients from other states and ...  87.479973  25.785414  \n",
       "13                                                     78.570026  14.750429  \n",
       "14                                                     74.466658  34.299959  \n",
       "15                                                     79.019400  18.112400  \n",
       "16  Includes one case from Nagaland.\\nTotal of 3 p...  85.900017  19.820430  \n",
       "17  Three non-covid deaths reported in state dashb...  94.216667  26.749981  \n",
       "18                                                     75.980003  31.519974  \n",
       "19  Mahe native who expired in Kannur included in ...  76.569993   8.900373  \n",
       "20        13 Migrated cases reduced from Active count  79.019300  30.320409  \n",
       "21                                                     86.419986  23.800393  \n",
       "22                                                     82.159987  22.090420  \n",
       "23                                                     91.279999  23.835404  \n",
       "24                                                     77.166597  31.100025  \n",
       "25                                                     73.818001  15.491997  \n",
       "26  HP has 12 Migrated cases which are reduced fro...  93.950017  24.799971  \n",
       "27                                                     76.780006  30.719997  \n",
       "28                                                     79.830000  11.934994  \n",
       "29                                                     77.577049  34.209515  \n",
       "30                                                     94.116570  25.666998  \n",
       "31                                                     92.720015  23.710399  \n",
       "32                                                     93.616601  27.100399  \n",
       "33                                                     91.880014  25.570492  \n",
       "34                                                     92.735983  11.667026  \n",
       "35                                                     73.016618  20.266578  \n",
       "36  [June 17]:\\nOne case was identified to be fals...  88.616647  27.333330  \n",
       "37                                                     72.636867  10.562573  "
      ]
     },
     "execution_count": 67,
     "metadata": {},
     "output_type": "execute_result"
    }
   ],
   "source": [
    "covid.head(38)"
   ]
  },
  {
   "cell_type": "markdown",
   "metadata": {},
   "source": [
    "## the dashboard is expected to display\n",
    "* The daily grand total of confirmed, recovered, active and death cases in india\n",
    "* The total number of confirmed, recovered, active and death cases in each individual states in india\n",
    "* Top ten states with the highest number of confirmed, recovered, active and death cases, respectively."
   ]
  },
  {
   "cell_type": "markdown",
   "metadata": {},
   "source": [
    "#### I will create several subplots (one for each part of the info) using Python Plotly Subplots and join them into a single dashboard."
   ]
  },
  {
   "cell_type": "code",
   "execution_count": 68,
   "metadata": {},
   "outputs": [],
   "source": [
    "fig = make_subplots(\n",
    "    rows = 4, cols = 6,\n",
    "    specs=[\n",
    "            [{\"type\": \"scattergeo\", \"rowspan\": 4, \"colspan\": 3}, None, None,{\"type\": \"scatter\", \"colspan\":2}, None, {\"type\": \"indicator\",\"rowspan\": 1, \"colspan\": 1}],\n",
    "            [    None, None, None,               {\"type\": \"scatter\", \"colspan\":2}, None,{\"type\": \"indicator\",\"rowspan\": 1, \"colspan\": 1}],\n",
    "            [    None, None, None,              {\"type\": \"scatter\", \"colspan\":2}, None, {\"type\": \"indicator\",\"rowspan\": 1, \"colspan\": 1}],\n",
    "            [  None, None, None,  None, None,    {\"type\": \"indicator\",\"rowspan\": 1, \"colspan\": 1}],\n",
    "          ]\n",
    ")"
   ]
  },
  {
   "cell_type": "code",
   "execution_count": 69,
   "metadata": {},
   "outputs": [],
   "source": [
    "message = covid[\"state\"]  + \"<br>\"\n",
    "message += \"Confirmed: \" + covid[\"confirmed\"].astype(str) + \"<br>\"\n",
    "message += \"Deaths: \" + covid[\"deaths\"].astype(str) + \"<br>\"\n",
    "message += \"Recovered: \" + covid[\"recovered\"].astype(str) + \"<br>\"\n",
    "message += \"Active: \" + covid[\"active\"].astype(str) + \"<br>\"\n",
    "message += \"Last updated: \" + covid[\"lastupdatedtime\"].astype(str)\n",
    "covid[\"text\"] = message"
   ]
  },
  {
   "cell_type": "code",
   "execution_count": 70,
   "metadata": {
    "scrolled": true
   },
   "outputs": [
    {
     "data": {
      "application/vnd.plotly.v1+json": {
       "config": {
        "plotlyServerURL": "https://plot.ly"
       },
       "data": [
        {
         "geo": "geo",
         "hovertext": [
          "Total<br>Confirmed: 369314<br>Deaths: 12304<br>Recovered: 195542<br>Active: 161423<br>Last updated: 18/06/2020 18:52:46",
          "Maharashtra<br>Confirmed: 116752<br>Deaths: 5651<br>Recovered: 59166<br>Active: 51922<br>Last updated: 17/06/2020 23:34:48",
          "Tamil Nadu<br>Confirmed: 50193<br>Deaths: 576<br>Recovered: 27624<br>Active: 21993<br>Last updated: 17/06/2020 18:45:48",
          "Delhi<br>Confirmed: 47102<br>Deaths: 1904<br>Recovered: 17457<br>Active: 27741<br>Last updated: 17/06/2020 23:26:52",
          "Gujarat<br>Confirmed: 25148<br>Deaths: 1561<br>Recovered: 17438<br>Active: 6149<br>Last updated: 17/06/2020 21:05:49",
          "Uttar Pradesh<br>Confirmed: 15785<br>Deaths: 488<br>Recovered: 9638<br>Active: 5659<br>Last updated: 18/06/2020 18:45:48",
          "Rajasthan<br>Confirmed: 13626<br>Deaths: 323<br>Recovered: 10582<br>Active: 2721<br>Last updated: 18/06/2020 11:11:47",
          "West Bengal<br>Confirmed: 12300<br>Deaths: 506<br>Recovered: 6532<br>Active: 5262<br>Last updated: 17/06/2020 19:45:50",
          "Madhya Pradesh<br>Confirmed: 11244<br>Deaths: 482<br>Recovered: 8388<br>Active: 2374<br>Last updated: 17/06/2020 22:25:48",
          "Haryana<br>Confirmed: 8946<br>Deaths: 130<br>Recovered: 4098<br>Active: 4718<br>Last updated: 18/06/2020 14:31:48",
          "State Unassigned<br>Confirmed: 8703<br>Deaths: 0<br>Recovered: 0<br>Active: 8703<br>Last updated: 18/06/2020 09:45:47",
          "Karnataka<br>Confirmed: 7734<br>Deaths: 103<br>Recovered: 4804<br>Active: 2823<br>Last updated: 17/06/2020 19:02:48",
          "Andhra Pradesh<br>Confirmed: 7496<br>Deaths: 92<br>Recovered: 3772<br>Active: 3632<br>Last updated: 18/06/2020 13:38:49",
          "Bihar<br>Confirmed: 6993<br>Deaths: 44<br>Recovered: 4961<br>Active: 1988<br>Last updated: 18/06/2020 17:00:49",
          "Telangana<br>Confirmed: 5675<br>Deaths: 192<br>Recovered: 3071<br>Active: 2412<br>Last updated: 17/06/2020 22:35:48",
          "Jammu and Kashmir<br>Confirmed: 5406<br>Deaths: 64<br>Recovered: 2914<br>Active: 2428<br>Last updated: 17/06/2020 20:42:52",
          "Assam<br>Confirmed: 4777<br>Deaths: 9<br>Recovered: 2655<br>Active: 2110<br>Last updated: 18/06/2020 15:24:50",
          "Odisha<br>Confirmed: 4512<br>Deaths: 14<br>Recovered: 3144<br>Active: 1354<br>Last updated: 18/06/2020 16:53:51",
          "Punjab<br>Confirmed: 3497<br>Deaths: 78<br>Recovered: 2538<br>Active: 881<br>Last updated: 17/06/2020 19:35:50",
          "Kerala<br>Confirmed: 2698<br>Deaths: 21<br>Recovered: 1324<br>Active: 1352<br>Last updated: 17/06/2020 19:35:52",
          "Uttarakhand<br>Confirmed: 2080<br>Deaths: 26<br>Recovered: 1262<br>Active: 779<br>Last updated: 18/06/2020 16:35:49",
          "Chhattisgarh<br>Confirmed: 1864<br>Deaths: 9<br>Recovered: 1099<br>Active: 756<br>Last updated: 17/06/2020 22:15:54",
          "Jharkhand<br>Confirmed: 1895<br>Deaths: 10<br>Recovered: 1151<br>Active: 734<br>Last updated: 17/06/2020 22:55:49",
          "Tripura<br>Confirmed: 1142<br>Deaths: 1<br>Recovered: 556<br>Active: 585<br>Last updated: 18/06/2020 15:14:55",
          "Ladakh<br>Confirmed: 687<br>Deaths: 1<br>Recovered: 95<br>Active: 591<br>Last updated: 18/06/2020 17:35:51",
          "Goa<br>Confirmed: 656<br>Deaths: 0<br>Recovered: 96<br>Active: 560<br>Last updated: 17/06/2020 19:35:54",
          "Himachal Pradesh<br>Confirmed: 589<br>Deaths: 7<br>Recovered: 369<br>Active: 202<br>Last updated: 18/06/2020 18:52:49",
          "Manipur<br>Confirmed: 552<br>Deaths: 0<br>Recovered: 192<br>Active: 360<br>Last updated: 17/06/2020 22:42:51",
          "Chandigarh<br>Confirmed: 373<br>Deaths: 6<br>Recovered: 306<br>Active: 61<br>Last updated: 18/06/2020 18:45:53",
          "Puducherry<br>Confirmed: 245<br>Deaths: 5<br>Recovered: 109<br>Active: 131<br>Last updated: 17/06/2020 19:26:10",
          "Nagaland<br>Confirmed: 193<br>Deaths: 0<br>Recovered: 109<br>Active: 84<br>Last updated: 18/06/2020 16:53:54",
          "Mizoram<br>Confirmed: 130<br>Deaths: 0<br>Recovered: 1<br>Active: 129<br>Last updated: 18/06/2020 09:05:49",
          "Arunachal Pradesh<br>Confirmed: 103<br>Deaths: 0<br>Recovered: 10<br>Active: 93<br>Last updated: 17/06/2020 23:34:51",
          "Sikkim<br>Confirmed: 70<br>Deaths: 0<br>Recovered: 4<br>Active: 66<br>Last updated: 17/06/2020 22:25:57",
          "Dadra and Nagar Haveli and Daman and Diu<br>Confirmed: 60<br>Deaths: 0<br>Recovered: 12<br>Active: 48<br>Last updated: 18/06/2020 13:00:49",
          "Andaman and Nicobar Islands<br>Confirmed: 45<br>Deaths: 0<br>Recovered: 33<br>Active: 12<br>Last updated: 18/06/2020 09:05:51",
          "Meghalaya<br>Confirmed: 43<br>Deaths: 1<br>Recovered: 32<br>Active: 10<br>Last updated: 18/06/2020 14:12:54",
          "Lakshadweep<br>Confirmed: 0<br>Deaths: 0<br>Recovered: 0<br>Active: 0<br>Last updated: 26/03/2020 07:19:29"
         ],
         "lat": [
          20.5937,
          19.25023195,
          12.92038576,
          28.6699929,
          22.2587,
          27.59998069,
          26.44999921,
          21.30039105,
          22.58039044,
          22.58753,
          12.57038129,
          28.45000633,
          25.78541445,
          14.7504291,
          34.29995933,
          18.1124,
          19.82042971,
          26.7499809,
          31.51997398,
          8.900372741,
          30.32040895,
          23.80039349,
          22.09042035,
          23.83540428,
          31.10002545,
          15.491997,
          24.79997072,
          30.71999697,
          11.93499371,
          34.209515,
          25.6669979,
          23.71039899,
          27.10039878,
          25.57049217,
          11.66702557,
          20.26657819,
          27.3333303,
          10.56257331
         ],
         "locationmode": "country names",
         "lon": [
          78.9629,
          73.16017493,
          79.15004187,
          77.23000403,
          71.1924,
          78.05000565,
          74.63998124,
          76.13001949,
          88.32994665,
          80.9629,
          76.91999711,
          77.01999101,
          87.4799727,
          78.57002559,
          74.46665849,
          79.0194,
          85.90001746,
          94.21666744,
          75.98000281,
          76.56999263,
          79.0193,
          86.41998572,
          82.15998734,
          91.27999914,
          77.16659704,
          73.81800065,
          93.95001705,
          76.78000565,
          79.83000037,
          77.577049,
          94.11657019,
          92.72001461,
          93.61660071,
          91.8800142,
          92.73598262,
          73.0166178,
          88.6166475,
          72.63686717
         ],
         "marker": {
          "autocolorscale": true,
          "cmax": 369314,
          "cmin": 0,
          "color": [
           369314,
           116752,
           50193,
           47102,
           25148,
           15785,
           13626,
           12300,
           11244,
           8946,
           8703,
           7734,
           7496,
           6993,
           5675,
           5406,
           4777,
           4512,
           3497,
           2698,
           2080,
           1864,
           1895,
           1142,
           687,
           656,
           589,
           552,
           373,
           245,
           193,
           130,
           103,
           70,
           60,
           45,
           43,
           0
          ],
          "colorbar": {
           "title": {
            "text": "Confirmed Cases<br>Latest Update"
           },
           "x": -0.05
          },
          "line": {
           "color": "rgba(102, 102, 102)",
           "width": 1
          },
          "opacity": 0.8,
          "reversescale": true,
          "size": 10,
          "symbol": "circle"
         },
         "showlegend": false,
         "type": "scattergeo"
        }
       ],
       "layout": {
        "geo": {
         "domain": {
          "x": [
           0,
           0.48333333333333334
          ],
          "y": [
           0,
           1
          ]
         }
        },
        "template": {
         "data": {
          "bar": [
           {
            "error_x": {
             "color": "#2a3f5f"
            },
            "error_y": {
             "color": "#2a3f5f"
            },
            "marker": {
             "line": {
              "color": "#E5ECF6",
              "width": 0.5
             }
            },
            "type": "bar"
           }
          ],
          "barpolar": [
           {
            "marker": {
             "line": {
              "color": "#E5ECF6",
              "width": 0.5
             }
            },
            "type": "barpolar"
           }
          ],
          "carpet": [
           {
            "aaxis": {
             "endlinecolor": "#2a3f5f",
             "gridcolor": "white",
             "linecolor": "white",
             "minorgridcolor": "white",
             "startlinecolor": "#2a3f5f"
            },
            "baxis": {
             "endlinecolor": "#2a3f5f",
             "gridcolor": "white",
             "linecolor": "white",
             "minorgridcolor": "white",
             "startlinecolor": "#2a3f5f"
            },
            "type": "carpet"
           }
          ],
          "choropleth": [
           {
            "colorbar": {
             "outlinewidth": 0,
             "ticks": ""
            },
            "type": "choropleth"
           }
          ],
          "contour": [
           {
            "colorbar": {
             "outlinewidth": 0,
             "ticks": ""
            },
            "colorscale": [
             [
              0,
              "#0d0887"
             ],
             [
              0.1111111111111111,
              "#46039f"
             ],
             [
              0.2222222222222222,
              "#7201a8"
             ],
             [
              0.3333333333333333,
              "#9c179e"
             ],
             [
              0.4444444444444444,
              "#bd3786"
             ],
             [
              0.5555555555555556,
              "#d8576b"
             ],
             [
              0.6666666666666666,
              "#ed7953"
             ],
             [
              0.7777777777777778,
              "#fb9f3a"
             ],
             [
              0.8888888888888888,
              "#fdca26"
             ],
             [
              1,
              "#f0f921"
             ]
            ],
            "type": "contour"
           }
          ],
          "contourcarpet": [
           {
            "colorbar": {
             "outlinewidth": 0,
             "ticks": ""
            },
            "type": "contourcarpet"
           }
          ],
          "heatmap": [
           {
            "colorbar": {
             "outlinewidth": 0,
             "ticks": ""
            },
            "colorscale": [
             [
              0,
              "#0d0887"
             ],
             [
              0.1111111111111111,
              "#46039f"
             ],
             [
              0.2222222222222222,
              "#7201a8"
             ],
             [
              0.3333333333333333,
              "#9c179e"
             ],
             [
              0.4444444444444444,
              "#bd3786"
             ],
             [
              0.5555555555555556,
              "#d8576b"
             ],
             [
              0.6666666666666666,
              "#ed7953"
             ],
             [
              0.7777777777777778,
              "#fb9f3a"
             ],
             [
              0.8888888888888888,
              "#fdca26"
             ],
             [
              1,
              "#f0f921"
             ]
            ],
            "type": "heatmap"
           }
          ],
          "heatmapgl": [
           {
            "colorbar": {
             "outlinewidth": 0,
             "ticks": ""
            },
            "colorscale": [
             [
              0,
              "#0d0887"
             ],
             [
              0.1111111111111111,
              "#46039f"
             ],
             [
              0.2222222222222222,
              "#7201a8"
             ],
             [
              0.3333333333333333,
              "#9c179e"
             ],
             [
              0.4444444444444444,
              "#bd3786"
             ],
             [
              0.5555555555555556,
              "#d8576b"
             ],
             [
              0.6666666666666666,
              "#ed7953"
             ],
             [
              0.7777777777777778,
              "#fb9f3a"
             ],
             [
              0.8888888888888888,
              "#fdca26"
             ],
             [
              1,
              "#f0f921"
             ]
            ],
            "type": "heatmapgl"
           }
          ],
          "histogram": [
           {
            "marker": {
             "colorbar": {
              "outlinewidth": 0,
              "ticks": ""
             }
            },
            "type": "histogram"
           }
          ],
          "histogram2d": [
           {
            "colorbar": {
             "outlinewidth": 0,
             "ticks": ""
            },
            "colorscale": [
             [
              0,
              "#0d0887"
             ],
             [
              0.1111111111111111,
              "#46039f"
             ],
             [
              0.2222222222222222,
              "#7201a8"
             ],
             [
              0.3333333333333333,
              "#9c179e"
             ],
             [
              0.4444444444444444,
              "#bd3786"
             ],
             [
              0.5555555555555556,
              "#d8576b"
             ],
             [
              0.6666666666666666,
              "#ed7953"
             ],
             [
              0.7777777777777778,
              "#fb9f3a"
             ],
             [
              0.8888888888888888,
              "#fdca26"
             ],
             [
              1,
              "#f0f921"
             ]
            ],
            "type": "histogram2d"
           }
          ],
          "histogram2dcontour": [
           {
            "colorbar": {
             "outlinewidth": 0,
             "ticks": ""
            },
            "colorscale": [
             [
              0,
              "#0d0887"
             ],
             [
              0.1111111111111111,
              "#46039f"
             ],
             [
              0.2222222222222222,
              "#7201a8"
             ],
             [
              0.3333333333333333,
              "#9c179e"
             ],
             [
              0.4444444444444444,
              "#bd3786"
             ],
             [
              0.5555555555555556,
              "#d8576b"
             ],
             [
              0.6666666666666666,
              "#ed7953"
             ],
             [
              0.7777777777777778,
              "#fb9f3a"
             ],
             [
              0.8888888888888888,
              "#fdca26"
             ],
             [
              1,
              "#f0f921"
             ]
            ],
            "type": "histogram2dcontour"
           }
          ],
          "mesh3d": [
           {
            "colorbar": {
             "outlinewidth": 0,
             "ticks": ""
            },
            "type": "mesh3d"
           }
          ],
          "parcoords": [
           {
            "line": {
             "colorbar": {
              "outlinewidth": 0,
              "ticks": ""
             }
            },
            "type": "parcoords"
           }
          ],
          "pie": [
           {
            "automargin": true,
            "type": "pie"
           }
          ],
          "scatter": [
           {
            "marker": {
             "colorbar": {
              "outlinewidth": 0,
              "ticks": ""
             }
            },
            "type": "scatter"
           }
          ],
          "scatter3d": [
           {
            "line": {
             "colorbar": {
              "outlinewidth": 0,
              "ticks": ""
             }
            },
            "marker": {
             "colorbar": {
              "outlinewidth": 0,
              "ticks": ""
             }
            },
            "type": "scatter3d"
           }
          ],
          "scattercarpet": [
           {
            "marker": {
             "colorbar": {
              "outlinewidth": 0,
              "ticks": ""
             }
            },
            "type": "scattercarpet"
           }
          ],
          "scattergeo": [
           {
            "marker": {
             "colorbar": {
              "outlinewidth": 0,
              "ticks": ""
             }
            },
            "type": "scattergeo"
           }
          ],
          "scattergl": [
           {
            "marker": {
             "colorbar": {
              "outlinewidth": 0,
              "ticks": ""
             }
            },
            "type": "scattergl"
           }
          ],
          "scattermapbox": [
           {
            "marker": {
             "colorbar": {
              "outlinewidth": 0,
              "ticks": ""
             }
            },
            "type": "scattermapbox"
           }
          ],
          "scatterpolar": [
           {
            "marker": {
             "colorbar": {
              "outlinewidth": 0,
              "ticks": ""
             }
            },
            "type": "scatterpolar"
           }
          ],
          "scatterpolargl": [
           {
            "marker": {
             "colorbar": {
              "outlinewidth": 0,
              "ticks": ""
             }
            },
            "type": "scatterpolargl"
           }
          ],
          "scatterternary": [
           {
            "marker": {
             "colorbar": {
              "outlinewidth": 0,
              "ticks": ""
             }
            },
            "type": "scatterternary"
           }
          ],
          "surface": [
           {
            "colorbar": {
             "outlinewidth": 0,
             "ticks": ""
            },
            "colorscale": [
             [
              0,
              "#0d0887"
             ],
             [
              0.1111111111111111,
              "#46039f"
             ],
             [
              0.2222222222222222,
              "#7201a8"
             ],
             [
              0.3333333333333333,
              "#9c179e"
             ],
             [
              0.4444444444444444,
              "#bd3786"
             ],
             [
              0.5555555555555556,
              "#d8576b"
             ],
             [
              0.6666666666666666,
              "#ed7953"
             ],
             [
              0.7777777777777778,
              "#fb9f3a"
             ],
             [
              0.8888888888888888,
              "#fdca26"
             ],
             [
              1,
              "#f0f921"
             ]
            ],
            "type": "surface"
           }
          ],
          "table": [
           {
            "cells": {
             "fill": {
              "color": "#EBF0F8"
             },
             "line": {
              "color": "white"
             }
            },
            "header": {
             "fill": {
              "color": "#C8D4E3"
             },
             "line": {
              "color": "white"
             }
            },
            "type": "table"
           }
          ]
         },
         "layout": {
          "annotationdefaults": {
           "arrowcolor": "#2a3f5f",
           "arrowhead": 0,
           "arrowwidth": 1
          },
          "coloraxis": {
           "colorbar": {
            "outlinewidth": 0,
            "ticks": ""
           }
          },
          "colorscale": {
           "diverging": [
            [
             0,
             "#8e0152"
            ],
            [
             0.1,
             "#c51b7d"
            ],
            [
             0.2,
             "#de77ae"
            ],
            [
             0.3,
             "#f1b6da"
            ],
            [
             0.4,
             "#fde0ef"
            ],
            [
             0.5,
             "#f7f7f7"
            ],
            [
             0.6,
             "#e6f5d0"
            ],
            [
             0.7,
             "#b8e186"
            ],
            [
             0.8,
             "#7fbc41"
            ],
            [
             0.9,
             "#4d9221"
            ],
            [
             1,
             "#276419"
            ]
           ],
           "sequential": [
            [
             0,
             "#0d0887"
            ],
            [
             0.1111111111111111,
             "#46039f"
            ],
            [
             0.2222222222222222,
             "#7201a8"
            ],
            [
             0.3333333333333333,
             "#9c179e"
            ],
            [
             0.4444444444444444,
             "#bd3786"
            ],
            [
             0.5555555555555556,
             "#d8576b"
            ],
            [
             0.6666666666666666,
             "#ed7953"
            ],
            [
             0.7777777777777778,
             "#fb9f3a"
            ],
            [
             0.8888888888888888,
             "#fdca26"
            ],
            [
             1,
             "#f0f921"
            ]
           ],
           "sequentialminus": [
            [
             0,
             "#0d0887"
            ],
            [
             0.1111111111111111,
             "#46039f"
            ],
            [
             0.2222222222222222,
             "#7201a8"
            ],
            [
             0.3333333333333333,
             "#9c179e"
            ],
            [
             0.4444444444444444,
             "#bd3786"
            ],
            [
             0.5555555555555556,
             "#d8576b"
            ],
            [
             0.6666666666666666,
             "#ed7953"
            ],
            [
             0.7777777777777778,
             "#fb9f3a"
            ],
            [
             0.8888888888888888,
             "#fdca26"
            ],
            [
             1,
             "#f0f921"
            ]
           ]
          },
          "colorway": [
           "#636efa",
           "#EF553B",
           "#00cc96",
           "#ab63fa",
           "#FFA15A",
           "#19d3f3",
           "#FF6692",
           "#B6E880",
           "#FF97FF",
           "#FECB52"
          ],
          "font": {
           "color": "#2a3f5f"
          },
          "geo": {
           "bgcolor": "white",
           "lakecolor": "white",
           "landcolor": "#E5ECF6",
           "showlakes": true,
           "showland": true,
           "subunitcolor": "white"
          },
          "hoverlabel": {
           "align": "left"
          },
          "hovermode": "closest",
          "mapbox": {
           "style": "light"
          },
          "paper_bgcolor": "white",
          "plot_bgcolor": "#E5ECF6",
          "polar": {
           "angularaxis": {
            "gridcolor": "white",
            "linecolor": "white",
            "ticks": ""
           },
           "bgcolor": "#E5ECF6",
           "radialaxis": {
            "gridcolor": "white",
            "linecolor": "white",
            "ticks": ""
           }
          },
          "scene": {
           "xaxis": {
            "backgroundcolor": "#E5ECF6",
            "gridcolor": "white",
            "gridwidth": 2,
            "linecolor": "white",
            "showbackground": true,
            "ticks": "",
            "zerolinecolor": "white"
           },
           "yaxis": {
            "backgroundcolor": "#E5ECF6",
            "gridcolor": "white",
            "gridwidth": 2,
            "linecolor": "white",
            "showbackground": true,
            "ticks": "",
            "zerolinecolor": "white"
           },
           "zaxis": {
            "backgroundcolor": "#E5ECF6",
            "gridcolor": "white",
            "gridwidth": 2,
            "linecolor": "white",
            "showbackground": true,
            "ticks": "",
            "zerolinecolor": "white"
           }
          },
          "shapedefaults": {
           "line": {
            "color": "#2a3f5f"
           }
          },
          "ternary": {
           "aaxis": {
            "gridcolor": "white",
            "linecolor": "white",
            "ticks": ""
           },
           "baxis": {
            "gridcolor": "white",
            "linecolor": "white",
            "ticks": ""
           },
           "bgcolor": "#E5ECF6",
           "caxis": {
            "gridcolor": "white",
            "linecolor": "white",
            "ticks": ""
           }
          },
          "title": {
           "x": 0.05
          },
          "xaxis": {
           "automargin": true,
           "gridcolor": "white",
           "linecolor": "white",
           "ticks": "",
           "title": {
            "standoff": 15
           },
           "zerolinecolor": "white",
           "zerolinewidth": 2
          },
          "yaxis": {
           "automargin": true,
           "gridcolor": "white",
           "linecolor": "white",
           "ticks": "",
           "title": {
            "standoff": 15
           },
           "zerolinecolor": "white",
           "zerolinewidth": 2
          }
         }
        },
        "xaxis": {
         "anchor": "y",
         "domain": [
          0.5166666666666667,
          0.8277777777777777
         ]
        },
        "xaxis2": {
         "anchor": "y2",
         "domain": [
          0.5166666666666667,
          0.8277777777777777
         ]
        },
        "xaxis3": {
         "anchor": "y3",
         "domain": [
          0.5166666666666667,
          0.8277777777777777
         ]
        },
        "yaxis": {
         "anchor": "x",
         "domain": [
          0.80625,
          1
         ]
        },
        "yaxis2": {
         "anchor": "x2",
         "domain": [
          0.5375,
          0.73125
         ]
        },
        "yaxis3": {
         "anchor": "x3",
         "domain": [
          0.26875,
          0.4625
         ]
        }
       }
      },
      "text/html": [
       "<div>\n",
       "        \n",
       "        \n",
       "            <div id=\"d5fb8ec4-fe0c-4325-9055-2bfd02505953\" class=\"plotly-graph-div\" style=\"height:525px; width:100%;\"></div>\n",
       "            <script type=\"text/javascript\">\n",
       "                require([\"plotly\"], function(Plotly) {\n",
       "                    window.PLOTLYENV=window.PLOTLYENV || {};\n",
       "                    \n",
       "                if (document.getElementById(\"d5fb8ec4-fe0c-4325-9055-2bfd02505953\")) {\n",
       "                    Plotly.newPlot(\n",
       "                        'd5fb8ec4-fe0c-4325-9055-2bfd02505953',\n",
       "                        [{\"geo\": \"geo\", \"hovertext\": [\"Total<br>Confirmed: 369314<br>Deaths: 12304<br>Recovered: 195542<br>Active: 161423<br>Last updated: 18/06/2020 18:52:46\", \"Maharashtra<br>Confirmed: 116752<br>Deaths: 5651<br>Recovered: 59166<br>Active: 51922<br>Last updated: 17/06/2020 23:34:48\", \"Tamil Nadu<br>Confirmed: 50193<br>Deaths: 576<br>Recovered: 27624<br>Active: 21993<br>Last updated: 17/06/2020 18:45:48\", \"Delhi<br>Confirmed: 47102<br>Deaths: 1904<br>Recovered: 17457<br>Active: 27741<br>Last updated: 17/06/2020 23:26:52\", \"Gujarat<br>Confirmed: 25148<br>Deaths: 1561<br>Recovered: 17438<br>Active: 6149<br>Last updated: 17/06/2020 21:05:49\", \"Uttar Pradesh<br>Confirmed: 15785<br>Deaths: 488<br>Recovered: 9638<br>Active: 5659<br>Last updated: 18/06/2020 18:45:48\", \"Rajasthan<br>Confirmed: 13626<br>Deaths: 323<br>Recovered: 10582<br>Active: 2721<br>Last updated: 18/06/2020 11:11:47\", \"West Bengal<br>Confirmed: 12300<br>Deaths: 506<br>Recovered: 6532<br>Active: 5262<br>Last updated: 17/06/2020 19:45:50\", \"Madhya Pradesh<br>Confirmed: 11244<br>Deaths: 482<br>Recovered: 8388<br>Active: 2374<br>Last updated: 17/06/2020 22:25:48\", \"Haryana<br>Confirmed: 8946<br>Deaths: 130<br>Recovered: 4098<br>Active: 4718<br>Last updated: 18/06/2020 14:31:48\", \"State Unassigned<br>Confirmed: 8703<br>Deaths: 0<br>Recovered: 0<br>Active: 8703<br>Last updated: 18/06/2020 09:45:47\", \"Karnataka<br>Confirmed: 7734<br>Deaths: 103<br>Recovered: 4804<br>Active: 2823<br>Last updated: 17/06/2020 19:02:48\", \"Andhra Pradesh<br>Confirmed: 7496<br>Deaths: 92<br>Recovered: 3772<br>Active: 3632<br>Last updated: 18/06/2020 13:38:49\", \"Bihar<br>Confirmed: 6993<br>Deaths: 44<br>Recovered: 4961<br>Active: 1988<br>Last updated: 18/06/2020 17:00:49\", \"Telangana<br>Confirmed: 5675<br>Deaths: 192<br>Recovered: 3071<br>Active: 2412<br>Last updated: 17/06/2020 22:35:48\", \"Jammu and Kashmir<br>Confirmed: 5406<br>Deaths: 64<br>Recovered: 2914<br>Active: 2428<br>Last updated: 17/06/2020 20:42:52\", \"Assam<br>Confirmed: 4777<br>Deaths: 9<br>Recovered: 2655<br>Active: 2110<br>Last updated: 18/06/2020 15:24:50\", \"Odisha<br>Confirmed: 4512<br>Deaths: 14<br>Recovered: 3144<br>Active: 1354<br>Last updated: 18/06/2020 16:53:51\", \"Punjab<br>Confirmed: 3497<br>Deaths: 78<br>Recovered: 2538<br>Active: 881<br>Last updated: 17/06/2020 19:35:50\", \"Kerala<br>Confirmed: 2698<br>Deaths: 21<br>Recovered: 1324<br>Active: 1352<br>Last updated: 17/06/2020 19:35:52\", \"Uttarakhand<br>Confirmed: 2080<br>Deaths: 26<br>Recovered: 1262<br>Active: 779<br>Last updated: 18/06/2020 16:35:49\", \"Chhattisgarh<br>Confirmed: 1864<br>Deaths: 9<br>Recovered: 1099<br>Active: 756<br>Last updated: 17/06/2020 22:15:54\", \"Jharkhand<br>Confirmed: 1895<br>Deaths: 10<br>Recovered: 1151<br>Active: 734<br>Last updated: 17/06/2020 22:55:49\", \"Tripura<br>Confirmed: 1142<br>Deaths: 1<br>Recovered: 556<br>Active: 585<br>Last updated: 18/06/2020 15:14:55\", \"Ladakh<br>Confirmed: 687<br>Deaths: 1<br>Recovered: 95<br>Active: 591<br>Last updated: 18/06/2020 17:35:51\", \"Goa<br>Confirmed: 656<br>Deaths: 0<br>Recovered: 96<br>Active: 560<br>Last updated: 17/06/2020 19:35:54\", \"Himachal Pradesh<br>Confirmed: 589<br>Deaths: 7<br>Recovered: 369<br>Active: 202<br>Last updated: 18/06/2020 18:52:49\", \"Manipur<br>Confirmed: 552<br>Deaths: 0<br>Recovered: 192<br>Active: 360<br>Last updated: 17/06/2020 22:42:51\", \"Chandigarh<br>Confirmed: 373<br>Deaths: 6<br>Recovered: 306<br>Active: 61<br>Last updated: 18/06/2020 18:45:53\", \"Puducherry<br>Confirmed: 245<br>Deaths: 5<br>Recovered: 109<br>Active: 131<br>Last updated: 17/06/2020 19:26:10\", \"Nagaland<br>Confirmed: 193<br>Deaths: 0<br>Recovered: 109<br>Active: 84<br>Last updated: 18/06/2020 16:53:54\", \"Mizoram<br>Confirmed: 130<br>Deaths: 0<br>Recovered: 1<br>Active: 129<br>Last updated: 18/06/2020 09:05:49\", \"Arunachal Pradesh<br>Confirmed: 103<br>Deaths: 0<br>Recovered: 10<br>Active: 93<br>Last updated: 17/06/2020 23:34:51\", \"Sikkim<br>Confirmed: 70<br>Deaths: 0<br>Recovered: 4<br>Active: 66<br>Last updated: 17/06/2020 22:25:57\", \"Dadra and Nagar Haveli and Daman and Diu<br>Confirmed: 60<br>Deaths: 0<br>Recovered: 12<br>Active: 48<br>Last updated: 18/06/2020 13:00:49\", \"Andaman and Nicobar Islands<br>Confirmed: 45<br>Deaths: 0<br>Recovered: 33<br>Active: 12<br>Last updated: 18/06/2020 09:05:51\", \"Meghalaya<br>Confirmed: 43<br>Deaths: 1<br>Recovered: 32<br>Active: 10<br>Last updated: 18/06/2020 14:12:54\", \"Lakshadweep<br>Confirmed: 0<br>Deaths: 0<br>Recovered: 0<br>Active: 0<br>Last updated: 26/03/2020 07:19:29\"], \"lat\": [20.5937, 19.25023195, 12.92038576, 28.6699929, 22.2587, 27.59998069, 26.44999921, 21.30039105, 22.58039044, 22.58753, 12.57038129, 28.45000633, 25.78541445, 14.7504291, 34.29995933, 18.1124, 19.82042971, 26.7499809, 31.51997398, 8.900372741, 30.32040895, 23.80039349, 22.09042035, 23.83540428, 31.10002545, 15.491997, 24.79997072, 30.71999697, 11.93499371, 34.209515, 25.6669979, 23.71039899, 27.10039878, 25.57049217, 11.66702557, 20.26657819, 27.3333303, 10.56257331], \"locationmode\": \"country names\", \"lon\": [78.9629, 73.16017493, 79.15004187, 77.23000403, 71.1924, 78.05000565, 74.63998124, 76.13001949, 88.32994665, 80.9629, 76.91999711, 77.01999101, 87.4799727, 78.57002559, 74.46665849, 79.0194, 85.90001746, 94.21666744, 75.98000281, 76.56999263, 79.0193, 86.41998572, 82.15998734, 91.27999914, 77.16659704, 73.81800065, 93.95001705, 76.78000565, 79.83000037, 77.577049, 94.11657019, 92.72001461, 93.61660071, 91.8800142, 92.73598262, 73.0166178, 88.6166475, 72.63686717], \"marker\": {\"autocolorscale\": true, \"cmax\": 369314, \"cmin\": 0, \"color\": [369314, 116752, 50193, 47102, 25148, 15785, 13626, 12300, 11244, 8946, 8703, 7734, 7496, 6993, 5675, 5406, 4777, 4512, 3497, 2698, 2080, 1864, 1895, 1142, 687, 656, 589, 552, 373, 245, 193, 130, 103, 70, 60, 45, 43, 0], \"colorbar\": {\"title\": {\"text\": \"Confirmed Cases<br>Latest Update\"}, \"x\": -0.05}, \"line\": {\"color\": \"rgba(102, 102, 102)\", \"width\": 1}, \"opacity\": 0.8, \"reversescale\": true, \"size\": 10, \"symbol\": \"circle\"}, \"showlegend\": false, \"type\": \"scattergeo\"}],\n",
       "                        {\"geo\": {\"domain\": {\"x\": [0.0, 0.48333333333333334], \"y\": [0.0, 1.0]}}, \"template\": {\"data\": {\"bar\": [{\"error_x\": {\"color\": \"#2a3f5f\"}, \"error_y\": {\"color\": \"#2a3f5f\"}, \"marker\": {\"line\": {\"color\": \"#E5ECF6\", \"width\": 0.5}}, \"type\": \"bar\"}], \"barpolar\": [{\"marker\": {\"line\": {\"color\": \"#E5ECF6\", \"width\": 0.5}}, \"type\": \"barpolar\"}], \"carpet\": [{\"aaxis\": {\"endlinecolor\": \"#2a3f5f\", \"gridcolor\": \"white\", \"linecolor\": \"white\", \"minorgridcolor\": \"white\", \"startlinecolor\": \"#2a3f5f\"}, \"baxis\": {\"endlinecolor\": \"#2a3f5f\", \"gridcolor\": \"white\", \"linecolor\": \"white\", \"minorgridcolor\": \"white\", \"startlinecolor\": \"#2a3f5f\"}, \"type\": \"carpet\"}], \"choropleth\": [{\"colorbar\": {\"outlinewidth\": 0, \"ticks\": \"\"}, \"type\": \"choropleth\"}], \"contour\": [{\"colorbar\": {\"outlinewidth\": 0, \"ticks\": \"\"}, \"colorscale\": [[0.0, \"#0d0887\"], [0.1111111111111111, \"#46039f\"], [0.2222222222222222, \"#7201a8\"], [0.3333333333333333, \"#9c179e\"], [0.4444444444444444, \"#bd3786\"], [0.5555555555555556, \"#d8576b\"], [0.6666666666666666, \"#ed7953\"], [0.7777777777777778, \"#fb9f3a\"], [0.8888888888888888, \"#fdca26\"], [1.0, \"#f0f921\"]], \"type\": \"contour\"}], \"contourcarpet\": [{\"colorbar\": {\"outlinewidth\": 0, \"ticks\": \"\"}, \"type\": \"contourcarpet\"}], \"heatmap\": [{\"colorbar\": {\"outlinewidth\": 0, \"ticks\": \"\"}, \"colorscale\": [[0.0, \"#0d0887\"], [0.1111111111111111, \"#46039f\"], [0.2222222222222222, \"#7201a8\"], [0.3333333333333333, \"#9c179e\"], [0.4444444444444444, \"#bd3786\"], [0.5555555555555556, \"#d8576b\"], [0.6666666666666666, \"#ed7953\"], [0.7777777777777778, \"#fb9f3a\"], [0.8888888888888888, \"#fdca26\"], [1.0, \"#f0f921\"]], \"type\": \"heatmap\"}], \"heatmapgl\": [{\"colorbar\": {\"outlinewidth\": 0, \"ticks\": \"\"}, \"colorscale\": [[0.0, \"#0d0887\"], [0.1111111111111111, \"#46039f\"], [0.2222222222222222, \"#7201a8\"], [0.3333333333333333, \"#9c179e\"], [0.4444444444444444, \"#bd3786\"], [0.5555555555555556, \"#d8576b\"], [0.6666666666666666, \"#ed7953\"], [0.7777777777777778, \"#fb9f3a\"], [0.8888888888888888, \"#fdca26\"], [1.0, \"#f0f921\"]], \"type\": \"heatmapgl\"}], \"histogram\": [{\"marker\": {\"colorbar\": {\"outlinewidth\": 0, \"ticks\": \"\"}}, \"type\": \"histogram\"}], \"histogram2d\": [{\"colorbar\": {\"outlinewidth\": 0, \"ticks\": \"\"}, \"colorscale\": [[0.0, \"#0d0887\"], [0.1111111111111111, \"#46039f\"], [0.2222222222222222, \"#7201a8\"], [0.3333333333333333, \"#9c179e\"], [0.4444444444444444, \"#bd3786\"], [0.5555555555555556, \"#d8576b\"], [0.6666666666666666, \"#ed7953\"], [0.7777777777777778, \"#fb9f3a\"], [0.8888888888888888, \"#fdca26\"], [1.0, \"#f0f921\"]], \"type\": \"histogram2d\"}], \"histogram2dcontour\": [{\"colorbar\": {\"outlinewidth\": 0, \"ticks\": \"\"}, \"colorscale\": [[0.0, \"#0d0887\"], [0.1111111111111111, \"#46039f\"], [0.2222222222222222, \"#7201a8\"], [0.3333333333333333, \"#9c179e\"], [0.4444444444444444, \"#bd3786\"], [0.5555555555555556, \"#d8576b\"], [0.6666666666666666, \"#ed7953\"], [0.7777777777777778, \"#fb9f3a\"], [0.8888888888888888, \"#fdca26\"], [1.0, \"#f0f921\"]], \"type\": \"histogram2dcontour\"}], \"mesh3d\": [{\"colorbar\": {\"outlinewidth\": 0, \"ticks\": \"\"}, \"type\": \"mesh3d\"}], \"parcoords\": [{\"line\": {\"colorbar\": {\"outlinewidth\": 0, \"ticks\": \"\"}}, \"type\": \"parcoords\"}], \"pie\": [{\"automargin\": true, \"type\": \"pie\"}], \"scatter\": [{\"marker\": {\"colorbar\": {\"outlinewidth\": 0, \"ticks\": \"\"}}, \"type\": \"scatter\"}], \"scatter3d\": [{\"line\": {\"colorbar\": {\"outlinewidth\": 0, \"ticks\": \"\"}}, \"marker\": {\"colorbar\": {\"outlinewidth\": 0, \"ticks\": \"\"}}, \"type\": \"scatter3d\"}], \"scattercarpet\": [{\"marker\": {\"colorbar\": {\"outlinewidth\": 0, \"ticks\": \"\"}}, \"type\": \"scattercarpet\"}], \"scattergeo\": [{\"marker\": {\"colorbar\": {\"outlinewidth\": 0, \"ticks\": \"\"}}, \"type\": \"scattergeo\"}], \"scattergl\": [{\"marker\": {\"colorbar\": {\"outlinewidth\": 0, \"ticks\": \"\"}}, \"type\": \"scattergl\"}], \"scattermapbox\": [{\"marker\": {\"colorbar\": {\"outlinewidth\": 0, \"ticks\": \"\"}}, \"type\": \"scattermapbox\"}], \"scatterpolar\": [{\"marker\": {\"colorbar\": {\"outlinewidth\": 0, \"ticks\": \"\"}}, \"type\": \"scatterpolar\"}], \"scatterpolargl\": [{\"marker\": {\"colorbar\": {\"outlinewidth\": 0, \"ticks\": \"\"}}, \"type\": \"scatterpolargl\"}], \"scatterternary\": [{\"marker\": {\"colorbar\": {\"outlinewidth\": 0, \"ticks\": \"\"}}, \"type\": \"scatterternary\"}], \"surface\": [{\"colorbar\": {\"outlinewidth\": 0, \"ticks\": \"\"}, \"colorscale\": [[0.0, \"#0d0887\"], [0.1111111111111111, \"#46039f\"], [0.2222222222222222, \"#7201a8\"], [0.3333333333333333, \"#9c179e\"], [0.4444444444444444, \"#bd3786\"], [0.5555555555555556, \"#d8576b\"], [0.6666666666666666, \"#ed7953\"], [0.7777777777777778, \"#fb9f3a\"], [0.8888888888888888, \"#fdca26\"], [1.0, \"#f0f921\"]], \"type\": \"surface\"}], \"table\": [{\"cells\": {\"fill\": {\"color\": \"#EBF0F8\"}, \"line\": {\"color\": \"white\"}}, \"header\": {\"fill\": {\"color\": \"#C8D4E3\"}, \"line\": {\"color\": \"white\"}}, \"type\": \"table\"}]}, \"layout\": {\"annotationdefaults\": {\"arrowcolor\": \"#2a3f5f\", \"arrowhead\": 0, \"arrowwidth\": 1}, \"coloraxis\": {\"colorbar\": {\"outlinewidth\": 0, \"ticks\": \"\"}}, \"colorscale\": {\"diverging\": [[0, \"#8e0152\"], [0.1, \"#c51b7d\"], [0.2, \"#de77ae\"], [0.3, \"#f1b6da\"], [0.4, \"#fde0ef\"], [0.5, \"#f7f7f7\"], [0.6, \"#e6f5d0\"], [0.7, \"#b8e186\"], [0.8, \"#7fbc41\"], [0.9, \"#4d9221\"], [1, \"#276419\"]], \"sequential\": [[0.0, \"#0d0887\"], [0.1111111111111111, \"#46039f\"], [0.2222222222222222, \"#7201a8\"], [0.3333333333333333, \"#9c179e\"], [0.4444444444444444, \"#bd3786\"], [0.5555555555555556, \"#d8576b\"], [0.6666666666666666, \"#ed7953\"], [0.7777777777777778, \"#fb9f3a\"], [0.8888888888888888, \"#fdca26\"], [1.0, \"#f0f921\"]], \"sequentialminus\": [[0.0, \"#0d0887\"], [0.1111111111111111, \"#46039f\"], [0.2222222222222222, \"#7201a8\"], [0.3333333333333333, \"#9c179e\"], [0.4444444444444444, \"#bd3786\"], [0.5555555555555556, \"#d8576b\"], [0.6666666666666666, \"#ed7953\"], [0.7777777777777778, \"#fb9f3a\"], [0.8888888888888888, \"#fdca26\"], [1.0, \"#f0f921\"]]}, \"colorway\": [\"#636efa\", \"#EF553B\", \"#00cc96\", \"#ab63fa\", \"#FFA15A\", \"#19d3f3\", \"#FF6692\", \"#B6E880\", \"#FF97FF\", \"#FECB52\"], \"font\": {\"color\": \"#2a3f5f\"}, \"geo\": {\"bgcolor\": \"white\", \"lakecolor\": \"white\", \"landcolor\": \"#E5ECF6\", \"showlakes\": true, \"showland\": true, \"subunitcolor\": \"white\"}, \"hoverlabel\": {\"align\": \"left\"}, \"hovermode\": \"closest\", \"mapbox\": {\"style\": \"light\"}, \"paper_bgcolor\": \"white\", \"plot_bgcolor\": \"#E5ECF6\", \"polar\": {\"angularaxis\": {\"gridcolor\": \"white\", \"linecolor\": \"white\", \"ticks\": \"\"}, \"bgcolor\": \"#E5ECF6\", \"radialaxis\": {\"gridcolor\": \"white\", \"linecolor\": \"white\", \"ticks\": \"\"}}, \"scene\": {\"xaxis\": {\"backgroundcolor\": \"#E5ECF6\", \"gridcolor\": \"white\", \"gridwidth\": 2, \"linecolor\": \"white\", \"showbackground\": true, \"ticks\": \"\", \"zerolinecolor\": \"white\"}, \"yaxis\": {\"backgroundcolor\": \"#E5ECF6\", \"gridcolor\": \"white\", \"gridwidth\": 2, \"linecolor\": \"white\", \"showbackground\": true, \"ticks\": \"\", \"zerolinecolor\": \"white\"}, \"zaxis\": {\"backgroundcolor\": \"#E5ECF6\", \"gridcolor\": \"white\", \"gridwidth\": 2, \"linecolor\": \"white\", \"showbackground\": true, \"ticks\": \"\", \"zerolinecolor\": \"white\"}}, \"shapedefaults\": {\"line\": {\"color\": \"#2a3f5f\"}}, \"ternary\": {\"aaxis\": {\"gridcolor\": \"white\", \"linecolor\": \"white\", \"ticks\": \"\"}, \"baxis\": {\"gridcolor\": \"white\", \"linecolor\": \"white\", \"ticks\": \"\"}, \"bgcolor\": \"#E5ECF6\", \"caxis\": {\"gridcolor\": \"white\", \"linecolor\": \"white\", \"ticks\": \"\"}}, \"title\": {\"x\": 0.05}, \"xaxis\": {\"automargin\": true, \"gridcolor\": \"white\", \"linecolor\": \"white\", \"ticks\": \"\", \"title\": {\"standoff\": 15}, \"zerolinecolor\": \"white\", \"zerolinewidth\": 2}, \"yaxis\": {\"automargin\": true, \"gridcolor\": \"white\", \"linecolor\": \"white\", \"ticks\": \"\", \"title\": {\"standoff\": 15}, \"zerolinecolor\": \"white\", \"zerolinewidth\": 2}}}, \"xaxis\": {\"anchor\": \"y\", \"domain\": [0.5166666666666667, 0.8277777777777777]}, \"xaxis2\": {\"anchor\": \"y2\", \"domain\": [0.5166666666666667, 0.8277777777777777]}, \"xaxis3\": {\"anchor\": \"y3\", \"domain\": [0.5166666666666667, 0.8277777777777777]}, \"yaxis\": {\"anchor\": \"x\", \"domain\": [0.80625, 1.0]}, \"yaxis2\": {\"anchor\": \"x2\", \"domain\": [0.5375, 0.73125]}, \"yaxis3\": {\"anchor\": \"x3\", \"domain\": [0.26875, 0.4625]}},\n",
       "                        {\"responsive\": true}\n",
       "                    ).then(function(){\n",
       "                            \n",
       "var gd = document.getElementById('d5fb8ec4-fe0c-4325-9055-2bfd02505953');\n",
       "var x = new MutationObserver(function (mutations, observer) {{\n",
       "        var display = window.getComputedStyle(gd).display;\n",
       "        if (!display || display === 'none') {{\n",
       "            console.log([gd, 'removed!']);\n",
       "            Plotly.purge(gd);\n",
       "            observer.disconnect();\n",
       "        }}\n",
       "}});\n",
       "\n",
       "// Listen for the removal of the full notebook cells\n",
       "var notebookContainer = gd.closest('#notebook-container');\n",
       "if (notebookContainer) {{\n",
       "    x.observe(notebookContainer, {childList: true});\n",
       "}}\n",
       "\n",
       "// Listen for the clearing of the current output cell\n",
       "var outputEl = gd.closest('.output');\n",
       "if (outputEl) {{\n",
       "    x.observe(outputEl, {childList: true});\n",
       "}}\n",
       "\n",
       "                        })\n",
       "                };\n",
       "                });\n",
       "            </script>\n",
       "        </div>"
      ]
     },
     "metadata": {},
     "output_type": "display_data"
    }
   ],
   "source": [
    "fig.add_trace(\n",
    "    go.Scattergeo(\n",
    "        #locations=[\"India\"],\n",
    "        locationmode = \"country names\",\n",
    "        lon = covid[\"long\"],\n",
    "        lat = covid[\"lat\"],\n",
    "        hovertext = covid[\"text\"],\n",
    "        showlegend=False,\n",
    "        marker = dict(\n",
    "            size = 10,\n",
    "            opacity = 0.8,\n",
    "            reversescale = True,\n",
    "            autocolorscale = True,\n",
    "            symbol = 'circle',\n",
    "            line = dict(\n",
    "                width=1,\n",
    "                color='rgba(102, 102, 102)'\n",
    "            ),\n",
    "            cmin = 0,\n",
    "            color = covid['confirmed'],\n",
    "            cmax = covid['confirmed'].max(),\n",
    "            colorbar_title=\"Confirmed Cases<br>Latest Update\",  \n",
    "            colorbar_x = -0.05\n",
    "        )\n",
    "\n",
    "    ),\n",
    "    \n",
    "    row=1, col=1\n",
    ")"
   ]
  },
  {
   "cell_type": "code",
   "execution_count": 71,
   "metadata": {},
   "outputs": [
    {
     "data": {
      "application/vnd.plotly.v1+json": {
       "config": {
        "plotlyServerURL": "https://plot.ly"
       },
       "data": [
        {
         "geo": "geo",
         "hovertext": [
          "Total<br>Confirmed: 369314<br>Deaths: 12304<br>Recovered: 195542<br>Active: 161423<br>Last updated: 18/06/2020 18:52:46",
          "Maharashtra<br>Confirmed: 116752<br>Deaths: 5651<br>Recovered: 59166<br>Active: 51922<br>Last updated: 17/06/2020 23:34:48",
          "Tamil Nadu<br>Confirmed: 50193<br>Deaths: 576<br>Recovered: 27624<br>Active: 21993<br>Last updated: 17/06/2020 18:45:48",
          "Delhi<br>Confirmed: 47102<br>Deaths: 1904<br>Recovered: 17457<br>Active: 27741<br>Last updated: 17/06/2020 23:26:52",
          "Gujarat<br>Confirmed: 25148<br>Deaths: 1561<br>Recovered: 17438<br>Active: 6149<br>Last updated: 17/06/2020 21:05:49",
          "Uttar Pradesh<br>Confirmed: 15785<br>Deaths: 488<br>Recovered: 9638<br>Active: 5659<br>Last updated: 18/06/2020 18:45:48",
          "Rajasthan<br>Confirmed: 13626<br>Deaths: 323<br>Recovered: 10582<br>Active: 2721<br>Last updated: 18/06/2020 11:11:47",
          "West Bengal<br>Confirmed: 12300<br>Deaths: 506<br>Recovered: 6532<br>Active: 5262<br>Last updated: 17/06/2020 19:45:50",
          "Madhya Pradesh<br>Confirmed: 11244<br>Deaths: 482<br>Recovered: 8388<br>Active: 2374<br>Last updated: 17/06/2020 22:25:48",
          "Haryana<br>Confirmed: 8946<br>Deaths: 130<br>Recovered: 4098<br>Active: 4718<br>Last updated: 18/06/2020 14:31:48",
          "State Unassigned<br>Confirmed: 8703<br>Deaths: 0<br>Recovered: 0<br>Active: 8703<br>Last updated: 18/06/2020 09:45:47",
          "Karnataka<br>Confirmed: 7734<br>Deaths: 103<br>Recovered: 4804<br>Active: 2823<br>Last updated: 17/06/2020 19:02:48",
          "Andhra Pradesh<br>Confirmed: 7496<br>Deaths: 92<br>Recovered: 3772<br>Active: 3632<br>Last updated: 18/06/2020 13:38:49",
          "Bihar<br>Confirmed: 6993<br>Deaths: 44<br>Recovered: 4961<br>Active: 1988<br>Last updated: 18/06/2020 17:00:49",
          "Telangana<br>Confirmed: 5675<br>Deaths: 192<br>Recovered: 3071<br>Active: 2412<br>Last updated: 17/06/2020 22:35:48",
          "Jammu and Kashmir<br>Confirmed: 5406<br>Deaths: 64<br>Recovered: 2914<br>Active: 2428<br>Last updated: 17/06/2020 20:42:52",
          "Assam<br>Confirmed: 4777<br>Deaths: 9<br>Recovered: 2655<br>Active: 2110<br>Last updated: 18/06/2020 15:24:50",
          "Odisha<br>Confirmed: 4512<br>Deaths: 14<br>Recovered: 3144<br>Active: 1354<br>Last updated: 18/06/2020 16:53:51",
          "Punjab<br>Confirmed: 3497<br>Deaths: 78<br>Recovered: 2538<br>Active: 881<br>Last updated: 17/06/2020 19:35:50",
          "Kerala<br>Confirmed: 2698<br>Deaths: 21<br>Recovered: 1324<br>Active: 1352<br>Last updated: 17/06/2020 19:35:52",
          "Uttarakhand<br>Confirmed: 2080<br>Deaths: 26<br>Recovered: 1262<br>Active: 779<br>Last updated: 18/06/2020 16:35:49",
          "Chhattisgarh<br>Confirmed: 1864<br>Deaths: 9<br>Recovered: 1099<br>Active: 756<br>Last updated: 17/06/2020 22:15:54",
          "Jharkhand<br>Confirmed: 1895<br>Deaths: 10<br>Recovered: 1151<br>Active: 734<br>Last updated: 17/06/2020 22:55:49",
          "Tripura<br>Confirmed: 1142<br>Deaths: 1<br>Recovered: 556<br>Active: 585<br>Last updated: 18/06/2020 15:14:55",
          "Ladakh<br>Confirmed: 687<br>Deaths: 1<br>Recovered: 95<br>Active: 591<br>Last updated: 18/06/2020 17:35:51",
          "Goa<br>Confirmed: 656<br>Deaths: 0<br>Recovered: 96<br>Active: 560<br>Last updated: 17/06/2020 19:35:54",
          "Himachal Pradesh<br>Confirmed: 589<br>Deaths: 7<br>Recovered: 369<br>Active: 202<br>Last updated: 18/06/2020 18:52:49",
          "Manipur<br>Confirmed: 552<br>Deaths: 0<br>Recovered: 192<br>Active: 360<br>Last updated: 17/06/2020 22:42:51",
          "Chandigarh<br>Confirmed: 373<br>Deaths: 6<br>Recovered: 306<br>Active: 61<br>Last updated: 18/06/2020 18:45:53",
          "Puducherry<br>Confirmed: 245<br>Deaths: 5<br>Recovered: 109<br>Active: 131<br>Last updated: 17/06/2020 19:26:10",
          "Nagaland<br>Confirmed: 193<br>Deaths: 0<br>Recovered: 109<br>Active: 84<br>Last updated: 18/06/2020 16:53:54",
          "Mizoram<br>Confirmed: 130<br>Deaths: 0<br>Recovered: 1<br>Active: 129<br>Last updated: 18/06/2020 09:05:49",
          "Arunachal Pradesh<br>Confirmed: 103<br>Deaths: 0<br>Recovered: 10<br>Active: 93<br>Last updated: 17/06/2020 23:34:51",
          "Sikkim<br>Confirmed: 70<br>Deaths: 0<br>Recovered: 4<br>Active: 66<br>Last updated: 17/06/2020 22:25:57",
          "Dadra and Nagar Haveli and Daman and Diu<br>Confirmed: 60<br>Deaths: 0<br>Recovered: 12<br>Active: 48<br>Last updated: 18/06/2020 13:00:49",
          "Andaman and Nicobar Islands<br>Confirmed: 45<br>Deaths: 0<br>Recovered: 33<br>Active: 12<br>Last updated: 18/06/2020 09:05:51",
          "Meghalaya<br>Confirmed: 43<br>Deaths: 1<br>Recovered: 32<br>Active: 10<br>Last updated: 18/06/2020 14:12:54",
          "Lakshadweep<br>Confirmed: 0<br>Deaths: 0<br>Recovered: 0<br>Active: 0<br>Last updated: 26/03/2020 07:19:29"
         ],
         "lat": [
          20.5937,
          19.25023195,
          12.92038576,
          28.6699929,
          22.2587,
          27.59998069,
          26.44999921,
          21.30039105,
          22.58039044,
          22.58753,
          12.57038129,
          28.45000633,
          25.78541445,
          14.7504291,
          34.29995933,
          18.1124,
          19.82042971,
          26.7499809,
          31.51997398,
          8.900372741,
          30.32040895,
          23.80039349,
          22.09042035,
          23.83540428,
          31.10002545,
          15.491997,
          24.79997072,
          30.71999697,
          11.93499371,
          34.209515,
          25.6669979,
          23.71039899,
          27.10039878,
          25.57049217,
          11.66702557,
          20.26657819,
          27.3333303,
          10.56257331
         ],
         "locationmode": "country names",
         "lon": [
          78.9629,
          73.16017493,
          79.15004187,
          77.23000403,
          71.1924,
          78.05000565,
          74.63998124,
          76.13001949,
          88.32994665,
          80.9629,
          76.91999711,
          77.01999101,
          87.4799727,
          78.57002559,
          74.46665849,
          79.0194,
          85.90001746,
          94.21666744,
          75.98000281,
          76.56999263,
          79.0193,
          86.41998572,
          82.15998734,
          91.27999914,
          77.16659704,
          73.81800065,
          93.95001705,
          76.78000565,
          79.83000037,
          77.577049,
          94.11657019,
          92.72001461,
          93.61660071,
          91.8800142,
          92.73598262,
          73.0166178,
          88.6166475,
          72.63686717
         ],
         "marker": {
          "autocolorscale": true,
          "cmax": 369314,
          "cmin": 0,
          "color": [
           369314,
           116752,
           50193,
           47102,
           25148,
           15785,
           13626,
           12300,
           11244,
           8946,
           8703,
           7734,
           7496,
           6993,
           5675,
           5406,
           4777,
           4512,
           3497,
           2698,
           2080,
           1864,
           1895,
           1142,
           687,
           656,
           589,
           552,
           373,
           245,
           193,
           130,
           103,
           70,
           60,
           45,
           43,
           0
          ],
          "colorbar": {
           "title": {
            "text": "Confirmed Cases<br>Latest Update"
           },
           "x": -0.05
          },
          "line": {
           "color": "rgba(102, 102, 102)",
           "width": 1
          },
          "opacity": 0.8,
          "reversescale": true,
          "size": 10,
          "symbol": "circle"
         },
         "showlegend": false,
         "type": "scattergeo"
        },
        {
         "domain": {
          "x": [
           0.861111111111111,
           1
          ],
          "y": [
           0.80625,
           1
          ]
         },
         "mode": "number",
         "title": {
          "text": "Confirmed"
         },
         "type": "indicator",
         "value": 369314
        },
        {
         "domain": {
          "x": [
           0.861111111111111,
           1
          ],
          "y": [
           0.5375,
           0.73125
          ]
         },
         "mode": "number",
         "title": {
          "text": "Recovered"
         },
         "type": "indicator",
         "value": 195542
        },
        {
         "domain": {
          "x": [
           0.861111111111111,
           1
          ],
          "y": [
           0.26875,
           0.4625
          ]
         },
         "mode": "number",
         "title": {
          "text": "Active"
         },
         "type": "indicator",
         "value": 161423
        },
        {
         "domain": {
          "x": [
           0.861111111111111,
           1
          ],
          "y": [
           0,
           0.19375
          ]
         },
         "mode": "number",
         "title": {
          "text": "Deaths"
         },
         "type": "indicator",
         "value": 12304
        }
       ],
       "layout": {
        "geo": {
         "domain": {
          "x": [
           0,
           0.48333333333333334
          ],
          "y": [
           0,
           1
          ]
         }
        },
        "template": {
         "data": {
          "bar": [
           {
            "error_x": {
             "color": "#2a3f5f"
            },
            "error_y": {
             "color": "#2a3f5f"
            },
            "marker": {
             "line": {
              "color": "#E5ECF6",
              "width": 0.5
             }
            },
            "type": "bar"
           }
          ],
          "barpolar": [
           {
            "marker": {
             "line": {
              "color": "#E5ECF6",
              "width": 0.5
             }
            },
            "type": "barpolar"
           }
          ],
          "carpet": [
           {
            "aaxis": {
             "endlinecolor": "#2a3f5f",
             "gridcolor": "white",
             "linecolor": "white",
             "minorgridcolor": "white",
             "startlinecolor": "#2a3f5f"
            },
            "baxis": {
             "endlinecolor": "#2a3f5f",
             "gridcolor": "white",
             "linecolor": "white",
             "minorgridcolor": "white",
             "startlinecolor": "#2a3f5f"
            },
            "type": "carpet"
           }
          ],
          "choropleth": [
           {
            "colorbar": {
             "outlinewidth": 0,
             "ticks": ""
            },
            "type": "choropleth"
           }
          ],
          "contour": [
           {
            "colorbar": {
             "outlinewidth": 0,
             "ticks": ""
            },
            "colorscale": [
             [
              0,
              "#0d0887"
             ],
             [
              0.1111111111111111,
              "#46039f"
             ],
             [
              0.2222222222222222,
              "#7201a8"
             ],
             [
              0.3333333333333333,
              "#9c179e"
             ],
             [
              0.4444444444444444,
              "#bd3786"
             ],
             [
              0.5555555555555556,
              "#d8576b"
             ],
             [
              0.6666666666666666,
              "#ed7953"
             ],
             [
              0.7777777777777778,
              "#fb9f3a"
             ],
             [
              0.8888888888888888,
              "#fdca26"
             ],
             [
              1,
              "#f0f921"
             ]
            ],
            "type": "contour"
           }
          ],
          "contourcarpet": [
           {
            "colorbar": {
             "outlinewidth": 0,
             "ticks": ""
            },
            "type": "contourcarpet"
           }
          ],
          "heatmap": [
           {
            "colorbar": {
             "outlinewidth": 0,
             "ticks": ""
            },
            "colorscale": [
             [
              0,
              "#0d0887"
             ],
             [
              0.1111111111111111,
              "#46039f"
             ],
             [
              0.2222222222222222,
              "#7201a8"
             ],
             [
              0.3333333333333333,
              "#9c179e"
             ],
             [
              0.4444444444444444,
              "#bd3786"
             ],
             [
              0.5555555555555556,
              "#d8576b"
             ],
             [
              0.6666666666666666,
              "#ed7953"
             ],
             [
              0.7777777777777778,
              "#fb9f3a"
             ],
             [
              0.8888888888888888,
              "#fdca26"
             ],
             [
              1,
              "#f0f921"
             ]
            ],
            "type": "heatmap"
           }
          ],
          "heatmapgl": [
           {
            "colorbar": {
             "outlinewidth": 0,
             "ticks": ""
            },
            "colorscale": [
             [
              0,
              "#0d0887"
             ],
             [
              0.1111111111111111,
              "#46039f"
             ],
             [
              0.2222222222222222,
              "#7201a8"
             ],
             [
              0.3333333333333333,
              "#9c179e"
             ],
             [
              0.4444444444444444,
              "#bd3786"
             ],
             [
              0.5555555555555556,
              "#d8576b"
             ],
             [
              0.6666666666666666,
              "#ed7953"
             ],
             [
              0.7777777777777778,
              "#fb9f3a"
             ],
             [
              0.8888888888888888,
              "#fdca26"
             ],
             [
              1,
              "#f0f921"
             ]
            ],
            "type": "heatmapgl"
           }
          ],
          "histogram": [
           {
            "marker": {
             "colorbar": {
              "outlinewidth": 0,
              "ticks": ""
             }
            },
            "type": "histogram"
           }
          ],
          "histogram2d": [
           {
            "colorbar": {
             "outlinewidth": 0,
             "ticks": ""
            },
            "colorscale": [
             [
              0,
              "#0d0887"
             ],
             [
              0.1111111111111111,
              "#46039f"
             ],
             [
              0.2222222222222222,
              "#7201a8"
             ],
             [
              0.3333333333333333,
              "#9c179e"
             ],
             [
              0.4444444444444444,
              "#bd3786"
             ],
             [
              0.5555555555555556,
              "#d8576b"
             ],
             [
              0.6666666666666666,
              "#ed7953"
             ],
             [
              0.7777777777777778,
              "#fb9f3a"
             ],
             [
              0.8888888888888888,
              "#fdca26"
             ],
             [
              1,
              "#f0f921"
             ]
            ],
            "type": "histogram2d"
           }
          ],
          "histogram2dcontour": [
           {
            "colorbar": {
             "outlinewidth": 0,
             "ticks": ""
            },
            "colorscale": [
             [
              0,
              "#0d0887"
             ],
             [
              0.1111111111111111,
              "#46039f"
             ],
             [
              0.2222222222222222,
              "#7201a8"
             ],
             [
              0.3333333333333333,
              "#9c179e"
             ],
             [
              0.4444444444444444,
              "#bd3786"
             ],
             [
              0.5555555555555556,
              "#d8576b"
             ],
             [
              0.6666666666666666,
              "#ed7953"
             ],
             [
              0.7777777777777778,
              "#fb9f3a"
             ],
             [
              0.8888888888888888,
              "#fdca26"
             ],
             [
              1,
              "#f0f921"
             ]
            ],
            "type": "histogram2dcontour"
           }
          ],
          "mesh3d": [
           {
            "colorbar": {
             "outlinewidth": 0,
             "ticks": ""
            },
            "type": "mesh3d"
           }
          ],
          "parcoords": [
           {
            "line": {
             "colorbar": {
              "outlinewidth": 0,
              "ticks": ""
             }
            },
            "type": "parcoords"
           }
          ],
          "pie": [
           {
            "automargin": true,
            "type": "pie"
           }
          ],
          "scatter": [
           {
            "marker": {
             "colorbar": {
              "outlinewidth": 0,
              "ticks": ""
             }
            },
            "type": "scatter"
           }
          ],
          "scatter3d": [
           {
            "line": {
             "colorbar": {
              "outlinewidth": 0,
              "ticks": ""
             }
            },
            "marker": {
             "colorbar": {
              "outlinewidth": 0,
              "ticks": ""
             }
            },
            "type": "scatter3d"
           }
          ],
          "scattercarpet": [
           {
            "marker": {
             "colorbar": {
              "outlinewidth": 0,
              "ticks": ""
             }
            },
            "type": "scattercarpet"
           }
          ],
          "scattergeo": [
           {
            "marker": {
             "colorbar": {
              "outlinewidth": 0,
              "ticks": ""
             }
            },
            "type": "scattergeo"
           }
          ],
          "scattergl": [
           {
            "marker": {
             "colorbar": {
              "outlinewidth": 0,
              "ticks": ""
             }
            },
            "type": "scattergl"
           }
          ],
          "scattermapbox": [
           {
            "marker": {
             "colorbar": {
              "outlinewidth": 0,
              "ticks": ""
             }
            },
            "type": "scattermapbox"
           }
          ],
          "scatterpolar": [
           {
            "marker": {
             "colorbar": {
              "outlinewidth": 0,
              "ticks": ""
             }
            },
            "type": "scatterpolar"
           }
          ],
          "scatterpolargl": [
           {
            "marker": {
             "colorbar": {
              "outlinewidth": 0,
              "ticks": ""
             }
            },
            "type": "scatterpolargl"
           }
          ],
          "scatterternary": [
           {
            "marker": {
             "colorbar": {
              "outlinewidth": 0,
              "ticks": ""
             }
            },
            "type": "scatterternary"
           }
          ],
          "surface": [
           {
            "colorbar": {
             "outlinewidth": 0,
             "ticks": ""
            },
            "colorscale": [
             [
              0,
              "#0d0887"
             ],
             [
              0.1111111111111111,
              "#46039f"
             ],
             [
              0.2222222222222222,
              "#7201a8"
             ],
             [
              0.3333333333333333,
              "#9c179e"
             ],
             [
              0.4444444444444444,
              "#bd3786"
             ],
             [
              0.5555555555555556,
              "#d8576b"
             ],
             [
              0.6666666666666666,
              "#ed7953"
             ],
             [
              0.7777777777777778,
              "#fb9f3a"
             ],
             [
              0.8888888888888888,
              "#fdca26"
             ],
             [
              1,
              "#f0f921"
             ]
            ],
            "type": "surface"
           }
          ],
          "table": [
           {
            "cells": {
             "fill": {
              "color": "#EBF0F8"
             },
             "line": {
              "color": "white"
             }
            },
            "header": {
             "fill": {
              "color": "#C8D4E3"
             },
             "line": {
              "color": "white"
             }
            },
            "type": "table"
           }
          ]
         },
         "layout": {
          "annotationdefaults": {
           "arrowcolor": "#2a3f5f",
           "arrowhead": 0,
           "arrowwidth": 1
          },
          "coloraxis": {
           "colorbar": {
            "outlinewidth": 0,
            "ticks": ""
           }
          },
          "colorscale": {
           "diverging": [
            [
             0,
             "#8e0152"
            ],
            [
             0.1,
             "#c51b7d"
            ],
            [
             0.2,
             "#de77ae"
            ],
            [
             0.3,
             "#f1b6da"
            ],
            [
             0.4,
             "#fde0ef"
            ],
            [
             0.5,
             "#f7f7f7"
            ],
            [
             0.6,
             "#e6f5d0"
            ],
            [
             0.7,
             "#b8e186"
            ],
            [
             0.8,
             "#7fbc41"
            ],
            [
             0.9,
             "#4d9221"
            ],
            [
             1,
             "#276419"
            ]
           ],
           "sequential": [
            [
             0,
             "#0d0887"
            ],
            [
             0.1111111111111111,
             "#46039f"
            ],
            [
             0.2222222222222222,
             "#7201a8"
            ],
            [
             0.3333333333333333,
             "#9c179e"
            ],
            [
             0.4444444444444444,
             "#bd3786"
            ],
            [
             0.5555555555555556,
             "#d8576b"
            ],
            [
             0.6666666666666666,
             "#ed7953"
            ],
            [
             0.7777777777777778,
             "#fb9f3a"
            ],
            [
             0.8888888888888888,
             "#fdca26"
            ],
            [
             1,
             "#f0f921"
            ]
           ],
           "sequentialminus": [
            [
             0,
             "#0d0887"
            ],
            [
             0.1111111111111111,
             "#46039f"
            ],
            [
             0.2222222222222222,
             "#7201a8"
            ],
            [
             0.3333333333333333,
             "#9c179e"
            ],
            [
             0.4444444444444444,
             "#bd3786"
            ],
            [
             0.5555555555555556,
             "#d8576b"
            ],
            [
             0.6666666666666666,
             "#ed7953"
            ],
            [
             0.7777777777777778,
             "#fb9f3a"
            ],
            [
             0.8888888888888888,
             "#fdca26"
            ],
            [
             1,
             "#f0f921"
            ]
           ]
          },
          "colorway": [
           "#636efa",
           "#EF553B",
           "#00cc96",
           "#ab63fa",
           "#FFA15A",
           "#19d3f3",
           "#FF6692",
           "#B6E880",
           "#FF97FF",
           "#FECB52"
          ],
          "font": {
           "color": "#2a3f5f"
          },
          "geo": {
           "bgcolor": "white",
           "lakecolor": "white",
           "landcolor": "#E5ECF6",
           "showlakes": true,
           "showland": true,
           "subunitcolor": "white"
          },
          "hoverlabel": {
           "align": "left"
          },
          "hovermode": "closest",
          "mapbox": {
           "style": "light"
          },
          "paper_bgcolor": "white",
          "plot_bgcolor": "#E5ECF6",
          "polar": {
           "angularaxis": {
            "gridcolor": "white",
            "linecolor": "white",
            "ticks": ""
           },
           "bgcolor": "#E5ECF6",
           "radialaxis": {
            "gridcolor": "white",
            "linecolor": "white",
            "ticks": ""
           }
          },
          "scene": {
           "xaxis": {
            "backgroundcolor": "#E5ECF6",
            "gridcolor": "white",
            "gridwidth": 2,
            "linecolor": "white",
            "showbackground": true,
            "ticks": "",
            "zerolinecolor": "white"
           },
           "yaxis": {
            "backgroundcolor": "#E5ECF6",
            "gridcolor": "white",
            "gridwidth": 2,
            "linecolor": "white",
            "showbackground": true,
            "ticks": "",
            "zerolinecolor": "white"
           },
           "zaxis": {
            "backgroundcolor": "#E5ECF6",
            "gridcolor": "white",
            "gridwidth": 2,
            "linecolor": "white",
            "showbackground": true,
            "ticks": "",
            "zerolinecolor": "white"
           }
          },
          "shapedefaults": {
           "line": {
            "color": "#2a3f5f"
           }
          },
          "ternary": {
           "aaxis": {
            "gridcolor": "white",
            "linecolor": "white",
            "ticks": ""
           },
           "baxis": {
            "gridcolor": "white",
            "linecolor": "white",
            "ticks": ""
           },
           "bgcolor": "#E5ECF6",
           "caxis": {
            "gridcolor": "white",
            "linecolor": "white",
            "ticks": ""
           }
          },
          "title": {
           "x": 0.05
          },
          "xaxis": {
           "automargin": true,
           "gridcolor": "white",
           "linecolor": "white",
           "ticks": "",
           "title": {
            "standoff": 15
           },
           "zerolinecolor": "white",
           "zerolinewidth": 2
          },
          "yaxis": {
           "automargin": true,
           "gridcolor": "white",
           "linecolor": "white",
           "ticks": "",
           "title": {
            "standoff": 15
           },
           "zerolinecolor": "white",
           "zerolinewidth": 2
          }
         }
        },
        "xaxis": {
         "anchor": "y",
         "domain": [
          0.5166666666666667,
          0.8277777777777777
         ]
        },
        "xaxis2": {
         "anchor": "y2",
         "domain": [
          0.5166666666666667,
          0.8277777777777777
         ]
        },
        "xaxis3": {
         "anchor": "y3",
         "domain": [
          0.5166666666666667,
          0.8277777777777777
         ]
        },
        "yaxis": {
         "anchor": "x",
         "domain": [
          0.80625,
          1
         ]
        },
        "yaxis2": {
         "anchor": "x2",
         "domain": [
          0.5375,
          0.73125
         ]
        },
        "yaxis3": {
         "anchor": "x3",
         "domain": [
          0.26875,
          0.4625
         ]
        }
       }
      },
      "text/html": [
       "<div>\n",
       "        \n",
       "        \n",
       "            <div id=\"7d731c11-7ded-4526-b800-e28597c96345\" class=\"plotly-graph-div\" style=\"height:525px; width:100%;\"></div>\n",
       "            <script type=\"text/javascript\">\n",
       "                require([\"plotly\"], function(Plotly) {\n",
       "                    window.PLOTLYENV=window.PLOTLYENV || {};\n",
       "                    \n",
       "                if (document.getElementById(\"7d731c11-7ded-4526-b800-e28597c96345\")) {\n",
       "                    Plotly.newPlot(\n",
       "                        '7d731c11-7ded-4526-b800-e28597c96345',\n",
       "                        [{\"geo\": \"geo\", \"hovertext\": [\"Total<br>Confirmed: 369314<br>Deaths: 12304<br>Recovered: 195542<br>Active: 161423<br>Last updated: 18/06/2020 18:52:46\", \"Maharashtra<br>Confirmed: 116752<br>Deaths: 5651<br>Recovered: 59166<br>Active: 51922<br>Last updated: 17/06/2020 23:34:48\", \"Tamil Nadu<br>Confirmed: 50193<br>Deaths: 576<br>Recovered: 27624<br>Active: 21993<br>Last updated: 17/06/2020 18:45:48\", \"Delhi<br>Confirmed: 47102<br>Deaths: 1904<br>Recovered: 17457<br>Active: 27741<br>Last updated: 17/06/2020 23:26:52\", \"Gujarat<br>Confirmed: 25148<br>Deaths: 1561<br>Recovered: 17438<br>Active: 6149<br>Last updated: 17/06/2020 21:05:49\", \"Uttar Pradesh<br>Confirmed: 15785<br>Deaths: 488<br>Recovered: 9638<br>Active: 5659<br>Last updated: 18/06/2020 18:45:48\", \"Rajasthan<br>Confirmed: 13626<br>Deaths: 323<br>Recovered: 10582<br>Active: 2721<br>Last updated: 18/06/2020 11:11:47\", \"West Bengal<br>Confirmed: 12300<br>Deaths: 506<br>Recovered: 6532<br>Active: 5262<br>Last updated: 17/06/2020 19:45:50\", \"Madhya Pradesh<br>Confirmed: 11244<br>Deaths: 482<br>Recovered: 8388<br>Active: 2374<br>Last updated: 17/06/2020 22:25:48\", \"Haryana<br>Confirmed: 8946<br>Deaths: 130<br>Recovered: 4098<br>Active: 4718<br>Last updated: 18/06/2020 14:31:48\", \"State Unassigned<br>Confirmed: 8703<br>Deaths: 0<br>Recovered: 0<br>Active: 8703<br>Last updated: 18/06/2020 09:45:47\", \"Karnataka<br>Confirmed: 7734<br>Deaths: 103<br>Recovered: 4804<br>Active: 2823<br>Last updated: 17/06/2020 19:02:48\", \"Andhra Pradesh<br>Confirmed: 7496<br>Deaths: 92<br>Recovered: 3772<br>Active: 3632<br>Last updated: 18/06/2020 13:38:49\", \"Bihar<br>Confirmed: 6993<br>Deaths: 44<br>Recovered: 4961<br>Active: 1988<br>Last updated: 18/06/2020 17:00:49\", \"Telangana<br>Confirmed: 5675<br>Deaths: 192<br>Recovered: 3071<br>Active: 2412<br>Last updated: 17/06/2020 22:35:48\", \"Jammu and Kashmir<br>Confirmed: 5406<br>Deaths: 64<br>Recovered: 2914<br>Active: 2428<br>Last updated: 17/06/2020 20:42:52\", \"Assam<br>Confirmed: 4777<br>Deaths: 9<br>Recovered: 2655<br>Active: 2110<br>Last updated: 18/06/2020 15:24:50\", \"Odisha<br>Confirmed: 4512<br>Deaths: 14<br>Recovered: 3144<br>Active: 1354<br>Last updated: 18/06/2020 16:53:51\", \"Punjab<br>Confirmed: 3497<br>Deaths: 78<br>Recovered: 2538<br>Active: 881<br>Last updated: 17/06/2020 19:35:50\", \"Kerala<br>Confirmed: 2698<br>Deaths: 21<br>Recovered: 1324<br>Active: 1352<br>Last updated: 17/06/2020 19:35:52\", \"Uttarakhand<br>Confirmed: 2080<br>Deaths: 26<br>Recovered: 1262<br>Active: 779<br>Last updated: 18/06/2020 16:35:49\", \"Chhattisgarh<br>Confirmed: 1864<br>Deaths: 9<br>Recovered: 1099<br>Active: 756<br>Last updated: 17/06/2020 22:15:54\", \"Jharkhand<br>Confirmed: 1895<br>Deaths: 10<br>Recovered: 1151<br>Active: 734<br>Last updated: 17/06/2020 22:55:49\", \"Tripura<br>Confirmed: 1142<br>Deaths: 1<br>Recovered: 556<br>Active: 585<br>Last updated: 18/06/2020 15:14:55\", \"Ladakh<br>Confirmed: 687<br>Deaths: 1<br>Recovered: 95<br>Active: 591<br>Last updated: 18/06/2020 17:35:51\", \"Goa<br>Confirmed: 656<br>Deaths: 0<br>Recovered: 96<br>Active: 560<br>Last updated: 17/06/2020 19:35:54\", \"Himachal Pradesh<br>Confirmed: 589<br>Deaths: 7<br>Recovered: 369<br>Active: 202<br>Last updated: 18/06/2020 18:52:49\", \"Manipur<br>Confirmed: 552<br>Deaths: 0<br>Recovered: 192<br>Active: 360<br>Last updated: 17/06/2020 22:42:51\", \"Chandigarh<br>Confirmed: 373<br>Deaths: 6<br>Recovered: 306<br>Active: 61<br>Last updated: 18/06/2020 18:45:53\", \"Puducherry<br>Confirmed: 245<br>Deaths: 5<br>Recovered: 109<br>Active: 131<br>Last updated: 17/06/2020 19:26:10\", \"Nagaland<br>Confirmed: 193<br>Deaths: 0<br>Recovered: 109<br>Active: 84<br>Last updated: 18/06/2020 16:53:54\", \"Mizoram<br>Confirmed: 130<br>Deaths: 0<br>Recovered: 1<br>Active: 129<br>Last updated: 18/06/2020 09:05:49\", \"Arunachal Pradesh<br>Confirmed: 103<br>Deaths: 0<br>Recovered: 10<br>Active: 93<br>Last updated: 17/06/2020 23:34:51\", \"Sikkim<br>Confirmed: 70<br>Deaths: 0<br>Recovered: 4<br>Active: 66<br>Last updated: 17/06/2020 22:25:57\", \"Dadra and Nagar Haveli and Daman and Diu<br>Confirmed: 60<br>Deaths: 0<br>Recovered: 12<br>Active: 48<br>Last updated: 18/06/2020 13:00:49\", \"Andaman and Nicobar Islands<br>Confirmed: 45<br>Deaths: 0<br>Recovered: 33<br>Active: 12<br>Last updated: 18/06/2020 09:05:51\", \"Meghalaya<br>Confirmed: 43<br>Deaths: 1<br>Recovered: 32<br>Active: 10<br>Last updated: 18/06/2020 14:12:54\", \"Lakshadweep<br>Confirmed: 0<br>Deaths: 0<br>Recovered: 0<br>Active: 0<br>Last updated: 26/03/2020 07:19:29\"], \"lat\": [20.5937, 19.25023195, 12.92038576, 28.6699929, 22.2587, 27.59998069, 26.44999921, 21.30039105, 22.58039044, 22.58753, 12.57038129, 28.45000633, 25.78541445, 14.7504291, 34.29995933, 18.1124, 19.82042971, 26.7499809, 31.51997398, 8.900372741, 30.32040895, 23.80039349, 22.09042035, 23.83540428, 31.10002545, 15.491997, 24.79997072, 30.71999697, 11.93499371, 34.209515, 25.6669979, 23.71039899, 27.10039878, 25.57049217, 11.66702557, 20.26657819, 27.3333303, 10.56257331], \"locationmode\": \"country names\", \"lon\": [78.9629, 73.16017493, 79.15004187, 77.23000403, 71.1924, 78.05000565, 74.63998124, 76.13001949, 88.32994665, 80.9629, 76.91999711, 77.01999101, 87.4799727, 78.57002559, 74.46665849, 79.0194, 85.90001746, 94.21666744, 75.98000281, 76.56999263, 79.0193, 86.41998572, 82.15998734, 91.27999914, 77.16659704, 73.81800065, 93.95001705, 76.78000565, 79.83000037, 77.577049, 94.11657019, 92.72001461, 93.61660071, 91.8800142, 92.73598262, 73.0166178, 88.6166475, 72.63686717], \"marker\": {\"autocolorscale\": true, \"cmax\": 369314, \"cmin\": 0, \"color\": [369314, 116752, 50193, 47102, 25148, 15785, 13626, 12300, 11244, 8946, 8703, 7734, 7496, 6993, 5675, 5406, 4777, 4512, 3497, 2698, 2080, 1864, 1895, 1142, 687, 656, 589, 552, 373, 245, 193, 130, 103, 70, 60, 45, 43, 0], \"colorbar\": {\"title\": {\"text\": \"Confirmed Cases<br>Latest Update\"}, \"x\": -0.05}, \"line\": {\"color\": \"rgba(102, 102, 102)\", \"width\": 1}, \"opacity\": 0.8, \"reversescale\": true, \"size\": 10, \"symbol\": \"circle\"}, \"showlegend\": false, \"type\": \"scattergeo\"}, {\"domain\": {\"x\": [0.861111111111111, 1.0], \"y\": [0.80625, 1.0]}, \"mode\": \"number\", \"title\": {\"text\": \"Confirmed\"}, \"type\": \"indicator\", \"value\": 369314}, {\"domain\": {\"x\": [0.861111111111111, 1.0], \"y\": [0.5375, 0.73125]}, \"mode\": \"number\", \"title\": {\"text\": \"Recovered\"}, \"type\": \"indicator\", \"value\": 195542}, {\"domain\": {\"x\": [0.861111111111111, 1.0], \"y\": [0.26875, 0.4625]}, \"mode\": \"number\", \"title\": {\"text\": \"Active\"}, \"type\": \"indicator\", \"value\": 161423}, {\"domain\": {\"x\": [0.861111111111111, 1.0], \"y\": [0.0, 0.19375]}, \"mode\": \"number\", \"title\": {\"text\": \"Deaths\"}, \"type\": \"indicator\", \"value\": 12304}],\n",
       "                        {\"geo\": {\"domain\": {\"x\": [0.0, 0.48333333333333334], \"y\": [0.0, 1.0]}}, \"template\": {\"data\": {\"bar\": [{\"error_x\": {\"color\": \"#2a3f5f\"}, \"error_y\": {\"color\": \"#2a3f5f\"}, \"marker\": {\"line\": {\"color\": \"#E5ECF6\", \"width\": 0.5}}, \"type\": \"bar\"}], \"barpolar\": [{\"marker\": {\"line\": {\"color\": \"#E5ECF6\", \"width\": 0.5}}, \"type\": \"barpolar\"}], \"carpet\": [{\"aaxis\": {\"endlinecolor\": \"#2a3f5f\", \"gridcolor\": \"white\", \"linecolor\": \"white\", \"minorgridcolor\": \"white\", \"startlinecolor\": \"#2a3f5f\"}, \"baxis\": {\"endlinecolor\": \"#2a3f5f\", \"gridcolor\": \"white\", \"linecolor\": \"white\", \"minorgridcolor\": \"white\", \"startlinecolor\": \"#2a3f5f\"}, \"type\": \"carpet\"}], \"choropleth\": [{\"colorbar\": {\"outlinewidth\": 0, \"ticks\": \"\"}, \"type\": \"choropleth\"}], \"contour\": [{\"colorbar\": {\"outlinewidth\": 0, \"ticks\": \"\"}, \"colorscale\": [[0.0, \"#0d0887\"], [0.1111111111111111, \"#46039f\"], [0.2222222222222222, \"#7201a8\"], [0.3333333333333333, \"#9c179e\"], [0.4444444444444444, \"#bd3786\"], [0.5555555555555556, \"#d8576b\"], [0.6666666666666666, \"#ed7953\"], [0.7777777777777778, \"#fb9f3a\"], [0.8888888888888888, \"#fdca26\"], [1.0, \"#f0f921\"]], \"type\": \"contour\"}], \"contourcarpet\": [{\"colorbar\": {\"outlinewidth\": 0, \"ticks\": \"\"}, \"type\": \"contourcarpet\"}], \"heatmap\": [{\"colorbar\": {\"outlinewidth\": 0, \"ticks\": \"\"}, \"colorscale\": [[0.0, \"#0d0887\"], [0.1111111111111111, \"#46039f\"], [0.2222222222222222, \"#7201a8\"], [0.3333333333333333, \"#9c179e\"], [0.4444444444444444, \"#bd3786\"], [0.5555555555555556, \"#d8576b\"], [0.6666666666666666, \"#ed7953\"], [0.7777777777777778, \"#fb9f3a\"], [0.8888888888888888, \"#fdca26\"], [1.0, \"#f0f921\"]], \"type\": \"heatmap\"}], \"heatmapgl\": [{\"colorbar\": {\"outlinewidth\": 0, \"ticks\": \"\"}, \"colorscale\": [[0.0, \"#0d0887\"], [0.1111111111111111, \"#46039f\"], [0.2222222222222222, \"#7201a8\"], [0.3333333333333333, \"#9c179e\"], [0.4444444444444444, \"#bd3786\"], [0.5555555555555556, \"#d8576b\"], [0.6666666666666666, \"#ed7953\"], [0.7777777777777778, \"#fb9f3a\"], [0.8888888888888888, \"#fdca26\"], [1.0, \"#f0f921\"]], \"type\": \"heatmapgl\"}], \"histogram\": [{\"marker\": {\"colorbar\": {\"outlinewidth\": 0, \"ticks\": \"\"}}, \"type\": \"histogram\"}], \"histogram2d\": [{\"colorbar\": {\"outlinewidth\": 0, \"ticks\": \"\"}, \"colorscale\": [[0.0, \"#0d0887\"], [0.1111111111111111, \"#46039f\"], [0.2222222222222222, \"#7201a8\"], [0.3333333333333333, \"#9c179e\"], [0.4444444444444444, \"#bd3786\"], [0.5555555555555556, \"#d8576b\"], [0.6666666666666666, \"#ed7953\"], [0.7777777777777778, \"#fb9f3a\"], [0.8888888888888888, \"#fdca26\"], [1.0, \"#f0f921\"]], \"type\": \"histogram2d\"}], \"histogram2dcontour\": [{\"colorbar\": {\"outlinewidth\": 0, \"ticks\": \"\"}, \"colorscale\": [[0.0, \"#0d0887\"], [0.1111111111111111, \"#46039f\"], [0.2222222222222222, \"#7201a8\"], [0.3333333333333333, \"#9c179e\"], [0.4444444444444444, \"#bd3786\"], [0.5555555555555556, \"#d8576b\"], [0.6666666666666666, \"#ed7953\"], [0.7777777777777778, \"#fb9f3a\"], [0.8888888888888888, \"#fdca26\"], [1.0, \"#f0f921\"]], \"type\": \"histogram2dcontour\"}], \"mesh3d\": [{\"colorbar\": {\"outlinewidth\": 0, \"ticks\": \"\"}, \"type\": \"mesh3d\"}], \"parcoords\": [{\"line\": {\"colorbar\": {\"outlinewidth\": 0, \"ticks\": \"\"}}, \"type\": \"parcoords\"}], \"pie\": [{\"automargin\": true, \"type\": \"pie\"}], \"scatter\": [{\"marker\": {\"colorbar\": {\"outlinewidth\": 0, \"ticks\": \"\"}}, \"type\": \"scatter\"}], \"scatter3d\": [{\"line\": {\"colorbar\": {\"outlinewidth\": 0, \"ticks\": \"\"}}, \"marker\": {\"colorbar\": {\"outlinewidth\": 0, \"ticks\": \"\"}}, \"type\": \"scatter3d\"}], \"scattercarpet\": [{\"marker\": {\"colorbar\": {\"outlinewidth\": 0, \"ticks\": \"\"}}, \"type\": \"scattercarpet\"}], \"scattergeo\": [{\"marker\": {\"colorbar\": {\"outlinewidth\": 0, \"ticks\": \"\"}}, \"type\": \"scattergeo\"}], \"scattergl\": [{\"marker\": {\"colorbar\": {\"outlinewidth\": 0, \"ticks\": \"\"}}, \"type\": \"scattergl\"}], \"scattermapbox\": [{\"marker\": {\"colorbar\": {\"outlinewidth\": 0, \"ticks\": \"\"}}, \"type\": \"scattermapbox\"}], \"scatterpolar\": [{\"marker\": {\"colorbar\": {\"outlinewidth\": 0, \"ticks\": \"\"}}, \"type\": \"scatterpolar\"}], \"scatterpolargl\": [{\"marker\": {\"colorbar\": {\"outlinewidth\": 0, \"ticks\": \"\"}}, \"type\": \"scatterpolargl\"}], \"scatterternary\": [{\"marker\": {\"colorbar\": {\"outlinewidth\": 0, \"ticks\": \"\"}}, \"type\": \"scatterternary\"}], \"surface\": [{\"colorbar\": {\"outlinewidth\": 0, \"ticks\": \"\"}, \"colorscale\": [[0.0, \"#0d0887\"], [0.1111111111111111, \"#46039f\"], [0.2222222222222222, \"#7201a8\"], [0.3333333333333333, \"#9c179e\"], [0.4444444444444444, \"#bd3786\"], [0.5555555555555556, \"#d8576b\"], [0.6666666666666666, \"#ed7953\"], [0.7777777777777778, \"#fb9f3a\"], [0.8888888888888888, \"#fdca26\"], [1.0, \"#f0f921\"]], \"type\": \"surface\"}], \"table\": [{\"cells\": {\"fill\": {\"color\": \"#EBF0F8\"}, \"line\": {\"color\": \"white\"}}, \"header\": {\"fill\": {\"color\": \"#C8D4E3\"}, \"line\": {\"color\": \"white\"}}, \"type\": \"table\"}]}, \"layout\": {\"annotationdefaults\": {\"arrowcolor\": \"#2a3f5f\", \"arrowhead\": 0, \"arrowwidth\": 1}, \"coloraxis\": {\"colorbar\": {\"outlinewidth\": 0, \"ticks\": \"\"}}, \"colorscale\": {\"diverging\": [[0, \"#8e0152\"], [0.1, \"#c51b7d\"], [0.2, \"#de77ae\"], [0.3, \"#f1b6da\"], [0.4, \"#fde0ef\"], [0.5, \"#f7f7f7\"], [0.6, \"#e6f5d0\"], [0.7, \"#b8e186\"], [0.8, \"#7fbc41\"], [0.9, \"#4d9221\"], [1, \"#276419\"]], \"sequential\": [[0.0, \"#0d0887\"], [0.1111111111111111, \"#46039f\"], [0.2222222222222222, \"#7201a8\"], [0.3333333333333333, \"#9c179e\"], [0.4444444444444444, \"#bd3786\"], [0.5555555555555556, \"#d8576b\"], [0.6666666666666666, \"#ed7953\"], [0.7777777777777778, \"#fb9f3a\"], [0.8888888888888888, \"#fdca26\"], [1.0, \"#f0f921\"]], \"sequentialminus\": [[0.0, \"#0d0887\"], [0.1111111111111111, \"#46039f\"], [0.2222222222222222, \"#7201a8\"], [0.3333333333333333, \"#9c179e\"], [0.4444444444444444, \"#bd3786\"], [0.5555555555555556, \"#d8576b\"], [0.6666666666666666, \"#ed7953\"], [0.7777777777777778, \"#fb9f3a\"], [0.8888888888888888, \"#fdca26\"], [1.0, \"#f0f921\"]]}, \"colorway\": [\"#636efa\", \"#EF553B\", \"#00cc96\", \"#ab63fa\", \"#FFA15A\", \"#19d3f3\", \"#FF6692\", \"#B6E880\", \"#FF97FF\", \"#FECB52\"], \"font\": {\"color\": \"#2a3f5f\"}, \"geo\": {\"bgcolor\": \"white\", \"lakecolor\": \"white\", \"landcolor\": \"#E5ECF6\", \"showlakes\": true, \"showland\": true, \"subunitcolor\": \"white\"}, \"hoverlabel\": {\"align\": \"left\"}, \"hovermode\": \"closest\", \"mapbox\": {\"style\": \"light\"}, \"paper_bgcolor\": \"white\", \"plot_bgcolor\": \"#E5ECF6\", \"polar\": {\"angularaxis\": {\"gridcolor\": \"white\", \"linecolor\": \"white\", \"ticks\": \"\"}, \"bgcolor\": \"#E5ECF6\", \"radialaxis\": {\"gridcolor\": \"white\", \"linecolor\": \"white\", \"ticks\": \"\"}}, \"scene\": {\"xaxis\": {\"backgroundcolor\": \"#E5ECF6\", \"gridcolor\": \"white\", \"gridwidth\": 2, \"linecolor\": \"white\", \"showbackground\": true, \"ticks\": \"\", \"zerolinecolor\": \"white\"}, \"yaxis\": {\"backgroundcolor\": \"#E5ECF6\", \"gridcolor\": \"white\", \"gridwidth\": 2, \"linecolor\": \"white\", \"showbackground\": true, \"ticks\": \"\", \"zerolinecolor\": \"white\"}, \"zaxis\": {\"backgroundcolor\": \"#E5ECF6\", \"gridcolor\": \"white\", \"gridwidth\": 2, \"linecolor\": \"white\", \"showbackground\": true, \"ticks\": \"\", \"zerolinecolor\": \"white\"}}, \"shapedefaults\": {\"line\": {\"color\": \"#2a3f5f\"}}, \"ternary\": {\"aaxis\": {\"gridcolor\": \"white\", \"linecolor\": \"white\", \"ticks\": \"\"}, \"baxis\": {\"gridcolor\": \"white\", \"linecolor\": \"white\", \"ticks\": \"\"}, \"bgcolor\": \"#E5ECF6\", \"caxis\": {\"gridcolor\": \"white\", \"linecolor\": \"white\", \"ticks\": \"\"}}, \"title\": {\"x\": 0.05}, \"xaxis\": {\"automargin\": true, \"gridcolor\": \"white\", \"linecolor\": \"white\", \"ticks\": \"\", \"title\": {\"standoff\": 15}, \"zerolinecolor\": \"white\", \"zerolinewidth\": 2}, \"yaxis\": {\"automargin\": true, \"gridcolor\": \"white\", \"linecolor\": \"white\", \"ticks\": \"\", \"title\": {\"standoff\": 15}, \"zerolinecolor\": \"white\", \"zerolinewidth\": 2}}}, \"xaxis\": {\"anchor\": \"y\", \"domain\": [0.5166666666666667, 0.8277777777777777]}, \"xaxis2\": {\"anchor\": \"y2\", \"domain\": [0.5166666666666667, 0.8277777777777777]}, \"xaxis3\": {\"anchor\": \"y3\", \"domain\": [0.5166666666666667, 0.8277777777777777]}, \"yaxis\": {\"anchor\": \"x\", \"domain\": [0.80625, 1.0]}, \"yaxis2\": {\"anchor\": \"x2\", \"domain\": [0.5375, 0.73125]}, \"yaxis3\": {\"anchor\": \"x3\", \"domain\": [0.26875, 0.4625]}},\n",
       "                        {\"responsive\": true}\n",
       "                    ).then(function(){\n",
       "                            \n",
       "var gd = document.getElementById('7d731c11-7ded-4526-b800-e28597c96345');\n",
       "var x = new MutationObserver(function (mutations, observer) {{\n",
       "        var display = window.getComputedStyle(gd).display;\n",
       "        if (!display || display === 'none') {{\n",
       "            console.log([gd, 'removed!']);\n",
       "            Plotly.purge(gd);\n",
       "            observer.disconnect();\n",
       "        }}\n",
       "}});\n",
       "\n",
       "// Listen for the removal of the full notebook cells\n",
       "var notebookContainer = gd.closest('#notebook-container');\n",
       "if (notebookContainer) {{\n",
       "    x.observe(notebookContainer, {childList: true});\n",
       "}}\n",
       "\n",
       "// Listen for the clearing of the current output cell\n",
       "var outputEl = gd.closest('.output');\n",
       "if (outputEl) {{\n",
       "    x.observe(outputEl, {childList: true});\n",
       "}}\n",
       "\n",
       "                        })\n",
       "                };\n",
       "                });\n",
       "            </script>\n",
       "        </div>"
      ]
     },
     "metadata": {},
     "output_type": "display_data"
    }
   ],
   "source": [
    "fig.add_trace(\n",
    "    go.Indicator(\n",
    "        mode=\"number\",\n",
    "        value=total_confirmed,\n",
    "        title=\"Confirmed\",\n",
    "    ),\n",
    "    row=1, col=6\n",
    ")\n",
    "\n",
    "fig.add_trace(\n",
    "    go.Indicator(\n",
    "        mode=\"number\",\n",
    "        value=total_recovered,\n",
    "        title=\"Recovered\",\n",
    "    ),\n",
    "    row=2, col=6\n",
    ")\n",
    "\n",
    "fig.add_trace(\n",
    "    go.Indicator(\n",
    "        mode=\"number\",\n",
    "        value=total_active,\n",
    "        title=\"Active\",\n",
    "    ),\n",
    "    row=3, col=6\n",
    ")\n",
    "\n",
    "fig.add_trace(\n",
    "    go.Indicator(\n",
    "        mode=\"number\",\n",
    "        value=total_deaths,\n",
    "        title=\"Deaths\",\n",
    "    ),\n",
    "    row=4, col=6\n",
    ")"
   ]
  },
  {
   "cell_type": "code",
   "execution_count": 72,
   "metadata": {},
   "outputs": [
    {
     "data": {
      "application/vnd.plotly.v1+json": {
       "config": {
        "plotlyServerURL": "https://plot.ly"
       },
       "data": [
        {
         "geo": "geo",
         "hovertext": [
          "Total<br>Confirmed: 369314<br>Deaths: 12304<br>Recovered: 195542<br>Active: 161423<br>Last updated: 18/06/2020 18:52:46",
          "Maharashtra<br>Confirmed: 116752<br>Deaths: 5651<br>Recovered: 59166<br>Active: 51922<br>Last updated: 17/06/2020 23:34:48",
          "Tamil Nadu<br>Confirmed: 50193<br>Deaths: 576<br>Recovered: 27624<br>Active: 21993<br>Last updated: 17/06/2020 18:45:48",
          "Delhi<br>Confirmed: 47102<br>Deaths: 1904<br>Recovered: 17457<br>Active: 27741<br>Last updated: 17/06/2020 23:26:52",
          "Gujarat<br>Confirmed: 25148<br>Deaths: 1561<br>Recovered: 17438<br>Active: 6149<br>Last updated: 17/06/2020 21:05:49",
          "Uttar Pradesh<br>Confirmed: 15785<br>Deaths: 488<br>Recovered: 9638<br>Active: 5659<br>Last updated: 18/06/2020 18:45:48",
          "Rajasthan<br>Confirmed: 13626<br>Deaths: 323<br>Recovered: 10582<br>Active: 2721<br>Last updated: 18/06/2020 11:11:47",
          "West Bengal<br>Confirmed: 12300<br>Deaths: 506<br>Recovered: 6532<br>Active: 5262<br>Last updated: 17/06/2020 19:45:50",
          "Madhya Pradesh<br>Confirmed: 11244<br>Deaths: 482<br>Recovered: 8388<br>Active: 2374<br>Last updated: 17/06/2020 22:25:48",
          "Haryana<br>Confirmed: 8946<br>Deaths: 130<br>Recovered: 4098<br>Active: 4718<br>Last updated: 18/06/2020 14:31:48",
          "State Unassigned<br>Confirmed: 8703<br>Deaths: 0<br>Recovered: 0<br>Active: 8703<br>Last updated: 18/06/2020 09:45:47",
          "Karnataka<br>Confirmed: 7734<br>Deaths: 103<br>Recovered: 4804<br>Active: 2823<br>Last updated: 17/06/2020 19:02:48",
          "Andhra Pradesh<br>Confirmed: 7496<br>Deaths: 92<br>Recovered: 3772<br>Active: 3632<br>Last updated: 18/06/2020 13:38:49",
          "Bihar<br>Confirmed: 6993<br>Deaths: 44<br>Recovered: 4961<br>Active: 1988<br>Last updated: 18/06/2020 17:00:49",
          "Telangana<br>Confirmed: 5675<br>Deaths: 192<br>Recovered: 3071<br>Active: 2412<br>Last updated: 17/06/2020 22:35:48",
          "Jammu and Kashmir<br>Confirmed: 5406<br>Deaths: 64<br>Recovered: 2914<br>Active: 2428<br>Last updated: 17/06/2020 20:42:52",
          "Assam<br>Confirmed: 4777<br>Deaths: 9<br>Recovered: 2655<br>Active: 2110<br>Last updated: 18/06/2020 15:24:50",
          "Odisha<br>Confirmed: 4512<br>Deaths: 14<br>Recovered: 3144<br>Active: 1354<br>Last updated: 18/06/2020 16:53:51",
          "Punjab<br>Confirmed: 3497<br>Deaths: 78<br>Recovered: 2538<br>Active: 881<br>Last updated: 17/06/2020 19:35:50",
          "Kerala<br>Confirmed: 2698<br>Deaths: 21<br>Recovered: 1324<br>Active: 1352<br>Last updated: 17/06/2020 19:35:52",
          "Uttarakhand<br>Confirmed: 2080<br>Deaths: 26<br>Recovered: 1262<br>Active: 779<br>Last updated: 18/06/2020 16:35:49",
          "Chhattisgarh<br>Confirmed: 1864<br>Deaths: 9<br>Recovered: 1099<br>Active: 756<br>Last updated: 17/06/2020 22:15:54",
          "Jharkhand<br>Confirmed: 1895<br>Deaths: 10<br>Recovered: 1151<br>Active: 734<br>Last updated: 17/06/2020 22:55:49",
          "Tripura<br>Confirmed: 1142<br>Deaths: 1<br>Recovered: 556<br>Active: 585<br>Last updated: 18/06/2020 15:14:55",
          "Ladakh<br>Confirmed: 687<br>Deaths: 1<br>Recovered: 95<br>Active: 591<br>Last updated: 18/06/2020 17:35:51",
          "Goa<br>Confirmed: 656<br>Deaths: 0<br>Recovered: 96<br>Active: 560<br>Last updated: 17/06/2020 19:35:54",
          "Himachal Pradesh<br>Confirmed: 589<br>Deaths: 7<br>Recovered: 369<br>Active: 202<br>Last updated: 18/06/2020 18:52:49",
          "Manipur<br>Confirmed: 552<br>Deaths: 0<br>Recovered: 192<br>Active: 360<br>Last updated: 17/06/2020 22:42:51",
          "Chandigarh<br>Confirmed: 373<br>Deaths: 6<br>Recovered: 306<br>Active: 61<br>Last updated: 18/06/2020 18:45:53",
          "Puducherry<br>Confirmed: 245<br>Deaths: 5<br>Recovered: 109<br>Active: 131<br>Last updated: 17/06/2020 19:26:10",
          "Nagaland<br>Confirmed: 193<br>Deaths: 0<br>Recovered: 109<br>Active: 84<br>Last updated: 18/06/2020 16:53:54",
          "Mizoram<br>Confirmed: 130<br>Deaths: 0<br>Recovered: 1<br>Active: 129<br>Last updated: 18/06/2020 09:05:49",
          "Arunachal Pradesh<br>Confirmed: 103<br>Deaths: 0<br>Recovered: 10<br>Active: 93<br>Last updated: 17/06/2020 23:34:51",
          "Sikkim<br>Confirmed: 70<br>Deaths: 0<br>Recovered: 4<br>Active: 66<br>Last updated: 17/06/2020 22:25:57",
          "Dadra and Nagar Haveli and Daman and Diu<br>Confirmed: 60<br>Deaths: 0<br>Recovered: 12<br>Active: 48<br>Last updated: 18/06/2020 13:00:49",
          "Andaman and Nicobar Islands<br>Confirmed: 45<br>Deaths: 0<br>Recovered: 33<br>Active: 12<br>Last updated: 18/06/2020 09:05:51",
          "Meghalaya<br>Confirmed: 43<br>Deaths: 1<br>Recovered: 32<br>Active: 10<br>Last updated: 18/06/2020 14:12:54",
          "Lakshadweep<br>Confirmed: 0<br>Deaths: 0<br>Recovered: 0<br>Active: 0<br>Last updated: 26/03/2020 07:19:29"
         ],
         "lat": [
          20.5937,
          19.25023195,
          12.92038576,
          28.6699929,
          22.2587,
          27.59998069,
          26.44999921,
          21.30039105,
          22.58039044,
          22.58753,
          12.57038129,
          28.45000633,
          25.78541445,
          14.7504291,
          34.29995933,
          18.1124,
          19.82042971,
          26.7499809,
          31.51997398,
          8.900372741,
          30.32040895,
          23.80039349,
          22.09042035,
          23.83540428,
          31.10002545,
          15.491997,
          24.79997072,
          30.71999697,
          11.93499371,
          34.209515,
          25.6669979,
          23.71039899,
          27.10039878,
          25.57049217,
          11.66702557,
          20.26657819,
          27.3333303,
          10.56257331
         ],
         "locationmode": "country names",
         "lon": [
          78.9629,
          73.16017493,
          79.15004187,
          77.23000403,
          71.1924,
          78.05000565,
          74.63998124,
          76.13001949,
          88.32994665,
          80.9629,
          76.91999711,
          77.01999101,
          87.4799727,
          78.57002559,
          74.46665849,
          79.0194,
          85.90001746,
          94.21666744,
          75.98000281,
          76.56999263,
          79.0193,
          86.41998572,
          82.15998734,
          91.27999914,
          77.16659704,
          73.81800065,
          93.95001705,
          76.78000565,
          79.83000037,
          77.577049,
          94.11657019,
          92.72001461,
          93.61660071,
          91.8800142,
          92.73598262,
          73.0166178,
          88.6166475,
          72.63686717
         ],
         "marker": {
          "autocolorscale": true,
          "cmax": 369314,
          "cmin": 0,
          "color": [
           369314,
           116752,
           50193,
           47102,
           25148,
           15785,
           13626,
           12300,
           11244,
           8946,
           8703,
           7734,
           7496,
           6993,
           5675,
           5406,
           4777,
           4512,
           3497,
           2698,
           2080,
           1864,
           1895,
           1142,
           687,
           656,
           589,
           552,
           373,
           245,
           193,
           130,
           103,
           70,
           60,
           45,
           43,
           0
          ],
          "colorbar": {
           "title": {
            "text": "Confirmed Cases<br>Latest Update"
           },
           "x": -0.05
          },
          "line": {
           "color": "rgba(102, 102, 102)",
           "width": 1
          },
          "opacity": 0.8,
          "reversescale": true,
          "size": 10,
          "symbol": "circle"
         },
         "showlegend": false,
         "type": "scattergeo"
        },
        {
         "domain": {
          "x": [
           0.861111111111111,
           1
          ],
          "y": [
           0.80625,
           1
          ]
         },
         "mode": "number",
         "title": {
          "text": "Confirmed"
         },
         "type": "indicator",
         "value": 369314
        },
        {
         "domain": {
          "x": [
           0.861111111111111,
           1
          ],
          "y": [
           0.5375,
           0.73125
          ]
         },
         "mode": "number",
         "title": {
          "text": "Recovered"
         },
         "type": "indicator",
         "value": 195542
        },
        {
         "domain": {
          "x": [
           0.861111111111111,
           1
          ],
          "y": [
           0.26875,
           0.4625
          ]
         },
         "mode": "number",
         "title": {
          "text": "Active"
         },
         "type": "indicator",
         "value": 161423
        },
        {
         "domain": {
          "x": [
           0.861111111111111,
           1
          ],
          "y": [
           0,
           0.19375
          ]
         },
         "mode": "number",
         "title": {
          "text": "Deaths"
         },
         "type": "indicator",
         "value": 12304
        },
        {
         "marker": {
          "color": "Orange"
         },
         "name": "Confirmed Cases",
         "showlegend": true,
         "type": "scatter",
         "x": [
          "Maharashtra",
          "Tamil Nadu",
          "Delhi",
          "Gujarat",
          "Uttar Pradesh",
          "Rajasthan",
          "West Bengal",
          "Madhya Pradesh",
          "Haryana",
          "State Unassigned"
         ],
         "xaxis": "x",
         "y": [
          116752,
          50193,
          47102,
          25148,
          15785,
          13626,
          12300,
          11244,
          8946,
          8703
         ],
         "yaxis": "y"
        },
        {
         "marker": {
          "color": "Green"
         },
         "name": "Recovered Cases",
         "showlegend": true,
         "type": "scatter",
         "x": [
          "Maharashtra",
          "Tamil Nadu",
          "Delhi",
          "Gujarat",
          "Rajasthan",
          "Uttar Pradesh",
          "Madhya Pradesh",
          "West Bengal",
          "Bihar"
         ],
         "xaxis": "x2",
         "y": [
          59166,
          27624,
          17457,
          17438,
          10582,
          9638,
          8388,
          6532,
          4961
         ],
         "yaxis": "y2"
        },
        {
         "marker": {
          "color": "crimson"
         },
         "name": "Deaths Cases",
         "showlegend": true,
         "type": "scatter",
         "x": [
          "Maharashtra",
          "Delhi",
          "Gujarat",
          "Tamil Nadu",
          "West Bengal",
          "Uttar Pradesh",
          "Madhya Pradesh",
          "Rajasthan",
          "Telangana"
         ],
         "xaxis": "x3",
         "y": [
          5651,
          1904,
          1561,
          576,
          506,
          488,
          482,
          323,
          192
         ],
         "yaxis": "y3"
        }
       ],
       "layout": {
        "geo": {
         "domain": {
          "x": [
           0,
           0.48333333333333334
          ],
          "y": [
           0,
           1
          ]
         }
        },
        "template": {
         "data": {
          "bar": [
           {
            "error_x": {
             "color": "#2a3f5f"
            },
            "error_y": {
             "color": "#2a3f5f"
            },
            "marker": {
             "line": {
              "color": "#E5ECF6",
              "width": 0.5
             }
            },
            "type": "bar"
           }
          ],
          "barpolar": [
           {
            "marker": {
             "line": {
              "color": "#E5ECF6",
              "width": 0.5
             }
            },
            "type": "barpolar"
           }
          ],
          "carpet": [
           {
            "aaxis": {
             "endlinecolor": "#2a3f5f",
             "gridcolor": "white",
             "linecolor": "white",
             "minorgridcolor": "white",
             "startlinecolor": "#2a3f5f"
            },
            "baxis": {
             "endlinecolor": "#2a3f5f",
             "gridcolor": "white",
             "linecolor": "white",
             "minorgridcolor": "white",
             "startlinecolor": "#2a3f5f"
            },
            "type": "carpet"
           }
          ],
          "choropleth": [
           {
            "colorbar": {
             "outlinewidth": 0,
             "ticks": ""
            },
            "type": "choropleth"
           }
          ],
          "contour": [
           {
            "colorbar": {
             "outlinewidth": 0,
             "ticks": ""
            },
            "colorscale": [
             [
              0,
              "#0d0887"
             ],
             [
              0.1111111111111111,
              "#46039f"
             ],
             [
              0.2222222222222222,
              "#7201a8"
             ],
             [
              0.3333333333333333,
              "#9c179e"
             ],
             [
              0.4444444444444444,
              "#bd3786"
             ],
             [
              0.5555555555555556,
              "#d8576b"
             ],
             [
              0.6666666666666666,
              "#ed7953"
             ],
             [
              0.7777777777777778,
              "#fb9f3a"
             ],
             [
              0.8888888888888888,
              "#fdca26"
             ],
             [
              1,
              "#f0f921"
             ]
            ],
            "type": "contour"
           }
          ],
          "contourcarpet": [
           {
            "colorbar": {
             "outlinewidth": 0,
             "ticks": ""
            },
            "type": "contourcarpet"
           }
          ],
          "heatmap": [
           {
            "colorbar": {
             "outlinewidth": 0,
             "ticks": ""
            },
            "colorscale": [
             [
              0,
              "#0d0887"
             ],
             [
              0.1111111111111111,
              "#46039f"
             ],
             [
              0.2222222222222222,
              "#7201a8"
             ],
             [
              0.3333333333333333,
              "#9c179e"
             ],
             [
              0.4444444444444444,
              "#bd3786"
             ],
             [
              0.5555555555555556,
              "#d8576b"
             ],
             [
              0.6666666666666666,
              "#ed7953"
             ],
             [
              0.7777777777777778,
              "#fb9f3a"
             ],
             [
              0.8888888888888888,
              "#fdca26"
             ],
             [
              1,
              "#f0f921"
             ]
            ],
            "type": "heatmap"
           }
          ],
          "heatmapgl": [
           {
            "colorbar": {
             "outlinewidth": 0,
             "ticks": ""
            },
            "colorscale": [
             [
              0,
              "#0d0887"
             ],
             [
              0.1111111111111111,
              "#46039f"
             ],
             [
              0.2222222222222222,
              "#7201a8"
             ],
             [
              0.3333333333333333,
              "#9c179e"
             ],
             [
              0.4444444444444444,
              "#bd3786"
             ],
             [
              0.5555555555555556,
              "#d8576b"
             ],
             [
              0.6666666666666666,
              "#ed7953"
             ],
             [
              0.7777777777777778,
              "#fb9f3a"
             ],
             [
              0.8888888888888888,
              "#fdca26"
             ],
             [
              1,
              "#f0f921"
             ]
            ],
            "type": "heatmapgl"
           }
          ],
          "histogram": [
           {
            "marker": {
             "colorbar": {
              "outlinewidth": 0,
              "ticks": ""
             }
            },
            "type": "histogram"
           }
          ],
          "histogram2d": [
           {
            "colorbar": {
             "outlinewidth": 0,
             "ticks": ""
            },
            "colorscale": [
             [
              0,
              "#0d0887"
             ],
             [
              0.1111111111111111,
              "#46039f"
             ],
             [
              0.2222222222222222,
              "#7201a8"
             ],
             [
              0.3333333333333333,
              "#9c179e"
             ],
             [
              0.4444444444444444,
              "#bd3786"
             ],
             [
              0.5555555555555556,
              "#d8576b"
             ],
             [
              0.6666666666666666,
              "#ed7953"
             ],
             [
              0.7777777777777778,
              "#fb9f3a"
             ],
             [
              0.8888888888888888,
              "#fdca26"
             ],
             [
              1,
              "#f0f921"
             ]
            ],
            "type": "histogram2d"
           }
          ],
          "histogram2dcontour": [
           {
            "colorbar": {
             "outlinewidth": 0,
             "ticks": ""
            },
            "colorscale": [
             [
              0,
              "#0d0887"
             ],
             [
              0.1111111111111111,
              "#46039f"
             ],
             [
              0.2222222222222222,
              "#7201a8"
             ],
             [
              0.3333333333333333,
              "#9c179e"
             ],
             [
              0.4444444444444444,
              "#bd3786"
             ],
             [
              0.5555555555555556,
              "#d8576b"
             ],
             [
              0.6666666666666666,
              "#ed7953"
             ],
             [
              0.7777777777777778,
              "#fb9f3a"
             ],
             [
              0.8888888888888888,
              "#fdca26"
             ],
             [
              1,
              "#f0f921"
             ]
            ],
            "type": "histogram2dcontour"
           }
          ],
          "mesh3d": [
           {
            "colorbar": {
             "outlinewidth": 0,
             "ticks": ""
            },
            "type": "mesh3d"
           }
          ],
          "parcoords": [
           {
            "line": {
             "colorbar": {
              "outlinewidth": 0,
              "ticks": ""
             }
            },
            "type": "parcoords"
           }
          ],
          "pie": [
           {
            "automargin": true,
            "type": "pie"
           }
          ],
          "scatter": [
           {
            "marker": {
             "colorbar": {
              "outlinewidth": 0,
              "ticks": ""
             }
            },
            "type": "scatter"
           }
          ],
          "scatter3d": [
           {
            "line": {
             "colorbar": {
              "outlinewidth": 0,
              "ticks": ""
             }
            },
            "marker": {
             "colorbar": {
              "outlinewidth": 0,
              "ticks": ""
             }
            },
            "type": "scatter3d"
           }
          ],
          "scattercarpet": [
           {
            "marker": {
             "colorbar": {
              "outlinewidth": 0,
              "ticks": ""
             }
            },
            "type": "scattercarpet"
           }
          ],
          "scattergeo": [
           {
            "marker": {
             "colorbar": {
              "outlinewidth": 0,
              "ticks": ""
             }
            },
            "type": "scattergeo"
           }
          ],
          "scattergl": [
           {
            "marker": {
             "colorbar": {
              "outlinewidth": 0,
              "ticks": ""
             }
            },
            "type": "scattergl"
           }
          ],
          "scattermapbox": [
           {
            "marker": {
             "colorbar": {
              "outlinewidth": 0,
              "ticks": ""
             }
            },
            "type": "scattermapbox"
           }
          ],
          "scatterpolar": [
           {
            "marker": {
             "colorbar": {
              "outlinewidth": 0,
              "ticks": ""
             }
            },
            "type": "scatterpolar"
           }
          ],
          "scatterpolargl": [
           {
            "marker": {
             "colorbar": {
              "outlinewidth": 0,
              "ticks": ""
             }
            },
            "type": "scatterpolargl"
           }
          ],
          "scatterternary": [
           {
            "marker": {
             "colorbar": {
              "outlinewidth": 0,
              "ticks": ""
             }
            },
            "type": "scatterternary"
           }
          ],
          "surface": [
           {
            "colorbar": {
             "outlinewidth": 0,
             "ticks": ""
            },
            "colorscale": [
             [
              0,
              "#0d0887"
             ],
             [
              0.1111111111111111,
              "#46039f"
             ],
             [
              0.2222222222222222,
              "#7201a8"
             ],
             [
              0.3333333333333333,
              "#9c179e"
             ],
             [
              0.4444444444444444,
              "#bd3786"
             ],
             [
              0.5555555555555556,
              "#d8576b"
             ],
             [
              0.6666666666666666,
              "#ed7953"
             ],
             [
              0.7777777777777778,
              "#fb9f3a"
             ],
             [
              0.8888888888888888,
              "#fdca26"
             ],
             [
              1,
              "#f0f921"
             ]
            ],
            "type": "surface"
           }
          ],
          "table": [
           {
            "cells": {
             "fill": {
              "color": "#EBF0F8"
             },
             "line": {
              "color": "white"
             }
            },
            "header": {
             "fill": {
              "color": "#C8D4E3"
             },
             "line": {
              "color": "white"
             }
            },
            "type": "table"
           }
          ]
         },
         "layout": {
          "annotationdefaults": {
           "arrowcolor": "#2a3f5f",
           "arrowhead": 0,
           "arrowwidth": 1
          },
          "coloraxis": {
           "colorbar": {
            "outlinewidth": 0,
            "ticks": ""
           }
          },
          "colorscale": {
           "diverging": [
            [
             0,
             "#8e0152"
            ],
            [
             0.1,
             "#c51b7d"
            ],
            [
             0.2,
             "#de77ae"
            ],
            [
             0.3,
             "#f1b6da"
            ],
            [
             0.4,
             "#fde0ef"
            ],
            [
             0.5,
             "#f7f7f7"
            ],
            [
             0.6,
             "#e6f5d0"
            ],
            [
             0.7,
             "#b8e186"
            ],
            [
             0.8,
             "#7fbc41"
            ],
            [
             0.9,
             "#4d9221"
            ],
            [
             1,
             "#276419"
            ]
           ],
           "sequential": [
            [
             0,
             "#0d0887"
            ],
            [
             0.1111111111111111,
             "#46039f"
            ],
            [
             0.2222222222222222,
             "#7201a8"
            ],
            [
             0.3333333333333333,
             "#9c179e"
            ],
            [
             0.4444444444444444,
             "#bd3786"
            ],
            [
             0.5555555555555556,
             "#d8576b"
            ],
            [
             0.6666666666666666,
             "#ed7953"
            ],
            [
             0.7777777777777778,
             "#fb9f3a"
            ],
            [
             0.8888888888888888,
             "#fdca26"
            ],
            [
             1,
             "#f0f921"
            ]
           ],
           "sequentialminus": [
            [
             0,
             "#0d0887"
            ],
            [
             0.1111111111111111,
             "#46039f"
            ],
            [
             0.2222222222222222,
             "#7201a8"
            ],
            [
             0.3333333333333333,
             "#9c179e"
            ],
            [
             0.4444444444444444,
             "#bd3786"
            ],
            [
             0.5555555555555556,
             "#d8576b"
            ],
            [
             0.6666666666666666,
             "#ed7953"
            ],
            [
             0.7777777777777778,
             "#fb9f3a"
            ],
            [
             0.8888888888888888,
             "#fdca26"
            ],
            [
             1,
             "#f0f921"
            ]
           ]
          },
          "colorway": [
           "#636efa",
           "#EF553B",
           "#00cc96",
           "#ab63fa",
           "#FFA15A",
           "#19d3f3",
           "#FF6692",
           "#B6E880",
           "#FF97FF",
           "#FECB52"
          ],
          "font": {
           "color": "#2a3f5f"
          },
          "geo": {
           "bgcolor": "white",
           "lakecolor": "white",
           "landcolor": "#E5ECF6",
           "showlakes": true,
           "showland": true,
           "subunitcolor": "white"
          },
          "hoverlabel": {
           "align": "left"
          },
          "hovermode": "closest",
          "mapbox": {
           "style": "light"
          },
          "paper_bgcolor": "white",
          "plot_bgcolor": "#E5ECF6",
          "polar": {
           "angularaxis": {
            "gridcolor": "white",
            "linecolor": "white",
            "ticks": ""
           },
           "bgcolor": "#E5ECF6",
           "radialaxis": {
            "gridcolor": "white",
            "linecolor": "white",
            "ticks": ""
           }
          },
          "scene": {
           "xaxis": {
            "backgroundcolor": "#E5ECF6",
            "gridcolor": "white",
            "gridwidth": 2,
            "linecolor": "white",
            "showbackground": true,
            "ticks": "",
            "zerolinecolor": "white"
           },
           "yaxis": {
            "backgroundcolor": "#E5ECF6",
            "gridcolor": "white",
            "gridwidth": 2,
            "linecolor": "white",
            "showbackground": true,
            "ticks": "",
            "zerolinecolor": "white"
           },
           "zaxis": {
            "backgroundcolor": "#E5ECF6",
            "gridcolor": "white",
            "gridwidth": 2,
            "linecolor": "white",
            "showbackground": true,
            "ticks": "",
            "zerolinecolor": "white"
           }
          },
          "shapedefaults": {
           "line": {
            "color": "#2a3f5f"
           }
          },
          "ternary": {
           "aaxis": {
            "gridcolor": "white",
            "linecolor": "white",
            "ticks": ""
           },
           "baxis": {
            "gridcolor": "white",
            "linecolor": "white",
            "ticks": ""
           },
           "bgcolor": "#E5ECF6",
           "caxis": {
            "gridcolor": "white",
            "linecolor": "white",
            "ticks": ""
           }
          },
          "title": {
           "x": 0.05
          },
          "xaxis": {
           "automargin": true,
           "gridcolor": "white",
           "linecolor": "white",
           "ticks": "",
           "title": {
            "standoff": 15
           },
           "zerolinecolor": "white",
           "zerolinewidth": 2
          },
          "yaxis": {
           "automargin": true,
           "gridcolor": "white",
           "linecolor": "white",
           "ticks": "",
           "title": {
            "standoff": 15
           },
           "zerolinecolor": "white",
           "zerolinewidth": 2
          }
         }
        },
        "xaxis": {
         "anchor": "y",
         "domain": [
          0.5166666666666667,
          0.8277777777777777
         ]
        },
        "xaxis2": {
         "anchor": "y2",
         "domain": [
          0.5166666666666667,
          0.8277777777777777
         ]
        },
        "xaxis3": {
         "anchor": "y3",
         "domain": [
          0.5166666666666667,
          0.8277777777777777
         ]
        },
        "yaxis": {
         "anchor": "x",
         "domain": [
          0.80625,
          1
         ]
        },
        "yaxis2": {
         "anchor": "x2",
         "domain": [
          0.5375,
          0.73125
         ]
        },
        "yaxis3": {
         "anchor": "x3",
         "domain": [
          0.26875,
          0.4625
         ]
        }
       }
      },
      "text/html": [
       "<div>\n",
       "        \n",
       "        \n",
       "            <div id=\"ec626c19-8fee-419a-ba2f-3919c86ac150\" class=\"plotly-graph-div\" style=\"height:525px; width:100%;\"></div>\n",
       "            <script type=\"text/javascript\">\n",
       "                require([\"plotly\"], function(Plotly) {\n",
       "                    window.PLOTLYENV=window.PLOTLYENV || {};\n",
       "                    \n",
       "                if (document.getElementById(\"ec626c19-8fee-419a-ba2f-3919c86ac150\")) {\n",
       "                    Plotly.newPlot(\n",
       "                        'ec626c19-8fee-419a-ba2f-3919c86ac150',\n",
       "                        [{\"geo\": \"geo\", \"hovertext\": [\"Total<br>Confirmed: 369314<br>Deaths: 12304<br>Recovered: 195542<br>Active: 161423<br>Last updated: 18/06/2020 18:52:46\", \"Maharashtra<br>Confirmed: 116752<br>Deaths: 5651<br>Recovered: 59166<br>Active: 51922<br>Last updated: 17/06/2020 23:34:48\", \"Tamil Nadu<br>Confirmed: 50193<br>Deaths: 576<br>Recovered: 27624<br>Active: 21993<br>Last updated: 17/06/2020 18:45:48\", \"Delhi<br>Confirmed: 47102<br>Deaths: 1904<br>Recovered: 17457<br>Active: 27741<br>Last updated: 17/06/2020 23:26:52\", \"Gujarat<br>Confirmed: 25148<br>Deaths: 1561<br>Recovered: 17438<br>Active: 6149<br>Last updated: 17/06/2020 21:05:49\", \"Uttar Pradesh<br>Confirmed: 15785<br>Deaths: 488<br>Recovered: 9638<br>Active: 5659<br>Last updated: 18/06/2020 18:45:48\", \"Rajasthan<br>Confirmed: 13626<br>Deaths: 323<br>Recovered: 10582<br>Active: 2721<br>Last updated: 18/06/2020 11:11:47\", \"West Bengal<br>Confirmed: 12300<br>Deaths: 506<br>Recovered: 6532<br>Active: 5262<br>Last updated: 17/06/2020 19:45:50\", \"Madhya Pradesh<br>Confirmed: 11244<br>Deaths: 482<br>Recovered: 8388<br>Active: 2374<br>Last updated: 17/06/2020 22:25:48\", \"Haryana<br>Confirmed: 8946<br>Deaths: 130<br>Recovered: 4098<br>Active: 4718<br>Last updated: 18/06/2020 14:31:48\", \"State Unassigned<br>Confirmed: 8703<br>Deaths: 0<br>Recovered: 0<br>Active: 8703<br>Last updated: 18/06/2020 09:45:47\", \"Karnataka<br>Confirmed: 7734<br>Deaths: 103<br>Recovered: 4804<br>Active: 2823<br>Last updated: 17/06/2020 19:02:48\", \"Andhra Pradesh<br>Confirmed: 7496<br>Deaths: 92<br>Recovered: 3772<br>Active: 3632<br>Last updated: 18/06/2020 13:38:49\", \"Bihar<br>Confirmed: 6993<br>Deaths: 44<br>Recovered: 4961<br>Active: 1988<br>Last updated: 18/06/2020 17:00:49\", \"Telangana<br>Confirmed: 5675<br>Deaths: 192<br>Recovered: 3071<br>Active: 2412<br>Last updated: 17/06/2020 22:35:48\", \"Jammu and Kashmir<br>Confirmed: 5406<br>Deaths: 64<br>Recovered: 2914<br>Active: 2428<br>Last updated: 17/06/2020 20:42:52\", \"Assam<br>Confirmed: 4777<br>Deaths: 9<br>Recovered: 2655<br>Active: 2110<br>Last updated: 18/06/2020 15:24:50\", \"Odisha<br>Confirmed: 4512<br>Deaths: 14<br>Recovered: 3144<br>Active: 1354<br>Last updated: 18/06/2020 16:53:51\", \"Punjab<br>Confirmed: 3497<br>Deaths: 78<br>Recovered: 2538<br>Active: 881<br>Last updated: 17/06/2020 19:35:50\", \"Kerala<br>Confirmed: 2698<br>Deaths: 21<br>Recovered: 1324<br>Active: 1352<br>Last updated: 17/06/2020 19:35:52\", \"Uttarakhand<br>Confirmed: 2080<br>Deaths: 26<br>Recovered: 1262<br>Active: 779<br>Last updated: 18/06/2020 16:35:49\", \"Chhattisgarh<br>Confirmed: 1864<br>Deaths: 9<br>Recovered: 1099<br>Active: 756<br>Last updated: 17/06/2020 22:15:54\", \"Jharkhand<br>Confirmed: 1895<br>Deaths: 10<br>Recovered: 1151<br>Active: 734<br>Last updated: 17/06/2020 22:55:49\", \"Tripura<br>Confirmed: 1142<br>Deaths: 1<br>Recovered: 556<br>Active: 585<br>Last updated: 18/06/2020 15:14:55\", \"Ladakh<br>Confirmed: 687<br>Deaths: 1<br>Recovered: 95<br>Active: 591<br>Last updated: 18/06/2020 17:35:51\", \"Goa<br>Confirmed: 656<br>Deaths: 0<br>Recovered: 96<br>Active: 560<br>Last updated: 17/06/2020 19:35:54\", \"Himachal Pradesh<br>Confirmed: 589<br>Deaths: 7<br>Recovered: 369<br>Active: 202<br>Last updated: 18/06/2020 18:52:49\", \"Manipur<br>Confirmed: 552<br>Deaths: 0<br>Recovered: 192<br>Active: 360<br>Last updated: 17/06/2020 22:42:51\", \"Chandigarh<br>Confirmed: 373<br>Deaths: 6<br>Recovered: 306<br>Active: 61<br>Last updated: 18/06/2020 18:45:53\", \"Puducherry<br>Confirmed: 245<br>Deaths: 5<br>Recovered: 109<br>Active: 131<br>Last updated: 17/06/2020 19:26:10\", \"Nagaland<br>Confirmed: 193<br>Deaths: 0<br>Recovered: 109<br>Active: 84<br>Last updated: 18/06/2020 16:53:54\", \"Mizoram<br>Confirmed: 130<br>Deaths: 0<br>Recovered: 1<br>Active: 129<br>Last updated: 18/06/2020 09:05:49\", \"Arunachal Pradesh<br>Confirmed: 103<br>Deaths: 0<br>Recovered: 10<br>Active: 93<br>Last updated: 17/06/2020 23:34:51\", \"Sikkim<br>Confirmed: 70<br>Deaths: 0<br>Recovered: 4<br>Active: 66<br>Last updated: 17/06/2020 22:25:57\", \"Dadra and Nagar Haveli and Daman and Diu<br>Confirmed: 60<br>Deaths: 0<br>Recovered: 12<br>Active: 48<br>Last updated: 18/06/2020 13:00:49\", \"Andaman and Nicobar Islands<br>Confirmed: 45<br>Deaths: 0<br>Recovered: 33<br>Active: 12<br>Last updated: 18/06/2020 09:05:51\", \"Meghalaya<br>Confirmed: 43<br>Deaths: 1<br>Recovered: 32<br>Active: 10<br>Last updated: 18/06/2020 14:12:54\", \"Lakshadweep<br>Confirmed: 0<br>Deaths: 0<br>Recovered: 0<br>Active: 0<br>Last updated: 26/03/2020 07:19:29\"], \"lat\": [20.5937, 19.25023195, 12.92038576, 28.6699929, 22.2587, 27.59998069, 26.44999921, 21.30039105, 22.58039044, 22.58753, 12.57038129, 28.45000633, 25.78541445, 14.7504291, 34.29995933, 18.1124, 19.82042971, 26.7499809, 31.51997398, 8.900372741, 30.32040895, 23.80039349, 22.09042035, 23.83540428, 31.10002545, 15.491997, 24.79997072, 30.71999697, 11.93499371, 34.209515, 25.6669979, 23.71039899, 27.10039878, 25.57049217, 11.66702557, 20.26657819, 27.3333303, 10.56257331], \"locationmode\": \"country names\", \"lon\": [78.9629, 73.16017493, 79.15004187, 77.23000403, 71.1924, 78.05000565, 74.63998124, 76.13001949, 88.32994665, 80.9629, 76.91999711, 77.01999101, 87.4799727, 78.57002559, 74.46665849, 79.0194, 85.90001746, 94.21666744, 75.98000281, 76.56999263, 79.0193, 86.41998572, 82.15998734, 91.27999914, 77.16659704, 73.81800065, 93.95001705, 76.78000565, 79.83000037, 77.577049, 94.11657019, 92.72001461, 93.61660071, 91.8800142, 92.73598262, 73.0166178, 88.6166475, 72.63686717], \"marker\": {\"autocolorscale\": true, \"cmax\": 369314, \"cmin\": 0, \"color\": [369314, 116752, 50193, 47102, 25148, 15785, 13626, 12300, 11244, 8946, 8703, 7734, 7496, 6993, 5675, 5406, 4777, 4512, 3497, 2698, 2080, 1864, 1895, 1142, 687, 656, 589, 552, 373, 245, 193, 130, 103, 70, 60, 45, 43, 0], \"colorbar\": {\"title\": {\"text\": \"Confirmed Cases<br>Latest Update\"}, \"x\": -0.05}, \"line\": {\"color\": \"rgba(102, 102, 102)\", \"width\": 1}, \"opacity\": 0.8, \"reversescale\": true, \"size\": 10, \"symbol\": \"circle\"}, \"showlegend\": false, \"type\": \"scattergeo\"}, {\"domain\": {\"x\": [0.861111111111111, 1.0], \"y\": [0.80625, 1.0]}, \"mode\": \"number\", \"title\": {\"text\": \"Confirmed\"}, \"type\": \"indicator\", \"value\": 369314}, {\"domain\": {\"x\": [0.861111111111111, 1.0], \"y\": [0.5375, 0.73125]}, \"mode\": \"number\", \"title\": {\"text\": \"Recovered\"}, \"type\": \"indicator\", \"value\": 195542}, {\"domain\": {\"x\": [0.861111111111111, 1.0], \"y\": [0.26875, 0.4625]}, \"mode\": \"number\", \"title\": {\"text\": \"Active\"}, \"type\": \"indicator\", \"value\": 161423}, {\"domain\": {\"x\": [0.861111111111111, 1.0], \"y\": [0.0, 0.19375]}, \"mode\": \"number\", \"title\": {\"text\": \"Deaths\"}, \"type\": \"indicator\", \"value\": 12304}, {\"marker\": {\"color\": \"Orange\"}, \"name\": \"Confirmed Cases\", \"showlegend\": true, \"type\": \"scatter\", \"x\": [\"Maharashtra\", \"Tamil Nadu\", \"Delhi\", \"Gujarat\", \"Uttar Pradesh\", \"Rajasthan\", \"West Bengal\", \"Madhya Pradesh\", \"Haryana\", \"State Unassigned\"], \"xaxis\": \"x\", \"y\": [116752, 50193, 47102, 25148, 15785, 13626, 12300, 11244, 8946, 8703], \"yaxis\": \"y\"}, {\"marker\": {\"color\": \"Green\"}, \"name\": \"Recovered Cases\", \"showlegend\": true, \"type\": \"scatter\", \"x\": [\"Maharashtra\", \"Tamil Nadu\", \"Delhi\", \"Gujarat\", \"Rajasthan\", \"Uttar Pradesh\", \"Madhya Pradesh\", \"West Bengal\", \"Bihar\"], \"xaxis\": \"x2\", \"y\": [59166, 27624, 17457, 17438, 10582, 9638, 8388, 6532, 4961], \"yaxis\": \"y2\"}, {\"marker\": {\"color\": \"crimson\"}, \"name\": \"Deaths Cases\", \"showlegend\": true, \"type\": \"scatter\", \"x\": [\"Maharashtra\", \"Delhi\", \"Gujarat\", \"Tamil Nadu\", \"West Bengal\", \"Uttar Pradesh\", \"Madhya Pradesh\", \"Rajasthan\", \"Telangana\"], \"xaxis\": \"x3\", \"y\": [5651, 1904, 1561, 576, 506, 488, 482, 323, 192], \"yaxis\": \"y3\"}],\n",
       "                        {\"geo\": {\"domain\": {\"x\": [0.0, 0.48333333333333334], \"y\": [0.0, 1.0]}}, \"template\": {\"data\": {\"bar\": [{\"error_x\": {\"color\": \"#2a3f5f\"}, \"error_y\": {\"color\": \"#2a3f5f\"}, \"marker\": {\"line\": {\"color\": \"#E5ECF6\", \"width\": 0.5}}, \"type\": \"bar\"}], \"barpolar\": [{\"marker\": {\"line\": {\"color\": \"#E5ECF6\", \"width\": 0.5}}, \"type\": \"barpolar\"}], \"carpet\": [{\"aaxis\": {\"endlinecolor\": \"#2a3f5f\", \"gridcolor\": \"white\", \"linecolor\": \"white\", \"minorgridcolor\": \"white\", \"startlinecolor\": \"#2a3f5f\"}, \"baxis\": {\"endlinecolor\": \"#2a3f5f\", \"gridcolor\": \"white\", \"linecolor\": \"white\", \"minorgridcolor\": \"white\", \"startlinecolor\": \"#2a3f5f\"}, \"type\": \"carpet\"}], \"choropleth\": [{\"colorbar\": {\"outlinewidth\": 0, \"ticks\": \"\"}, \"type\": \"choropleth\"}], \"contour\": [{\"colorbar\": {\"outlinewidth\": 0, \"ticks\": \"\"}, \"colorscale\": [[0.0, \"#0d0887\"], [0.1111111111111111, \"#46039f\"], [0.2222222222222222, \"#7201a8\"], [0.3333333333333333, \"#9c179e\"], [0.4444444444444444, \"#bd3786\"], [0.5555555555555556, \"#d8576b\"], [0.6666666666666666, \"#ed7953\"], [0.7777777777777778, \"#fb9f3a\"], [0.8888888888888888, \"#fdca26\"], [1.0, \"#f0f921\"]], \"type\": \"contour\"}], \"contourcarpet\": [{\"colorbar\": {\"outlinewidth\": 0, \"ticks\": \"\"}, \"type\": \"contourcarpet\"}], \"heatmap\": [{\"colorbar\": {\"outlinewidth\": 0, \"ticks\": \"\"}, \"colorscale\": [[0.0, \"#0d0887\"], [0.1111111111111111, \"#46039f\"], [0.2222222222222222, \"#7201a8\"], [0.3333333333333333, \"#9c179e\"], [0.4444444444444444, \"#bd3786\"], [0.5555555555555556, \"#d8576b\"], [0.6666666666666666, \"#ed7953\"], [0.7777777777777778, \"#fb9f3a\"], [0.8888888888888888, \"#fdca26\"], [1.0, \"#f0f921\"]], \"type\": \"heatmap\"}], \"heatmapgl\": [{\"colorbar\": {\"outlinewidth\": 0, \"ticks\": \"\"}, \"colorscale\": [[0.0, \"#0d0887\"], [0.1111111111111111, \"#46039f\"], [0.2222222222222222, \"#7201a8\"], [0.3333333333333333, \"#9c179e\"], [0.4444444444444444, \"#bd3786\"], [0.5555555555555556, \"#d8576b\"], [0.6666666666666666, \"#ed7953\"], [0.7777777777777778, \"#fb9f3a\"], [0.8888888888888888, \"#fdca26\"], [1.0, \"#f0f921\"]], \"type\": \"heatmapgl\"}], \"histogram\": [{\"marker\": {\"colorbar\": {\"outlinewidth\": 0, \"ticks\": \"\"}}, \"type\": \"histogram\"}], \"histogram2d\": [{\"colorbar\": {\"outlinewidth\": 0, \"ticks\": \"\"}, \"colorscale\": [[0.0, \"#0d0887\"], [0.1111111111111111, \"#46039f\"], [0.2222222222222222, \"#7201a8\"], [0.3333333333333333, \"#9c179e\"], [0.4444444444444444, \"#bd3786\"], [0.5555555555555556, \"#d8576b\"], [0.6666666666666666, \"#ed7953\"], [0.7777777777777778, \"#fb9f3a\"], [0.8888888888888888, \"#fdca26\"], [1.0, \"#f0f921\"]], \"type\": \"histogram2d\"}], \"histogram2dcontour\": [{\"colorbar\": {\"outlinewidth\": 0, \"ticks\": \"\"}, \"colorscale\": [[0.0, \"#0d0887\"], [0.1111111111111111, \"#46039f\"], [0.2222222222222222, \"#7201a8\"], [0.3333333333333333, \"#9c179e\"], [0.4444444444444444, \"#bd3786\"], [0.5555555555555556, \"#d8576b\"], [0.6666666666666666, \"#ed7953\"], [0.7777777777777778, \"#fb9f3a\"], [0.8888888888888888, \"#fdca26\"], [1.0, \"#f0f921\"]], \"type\": \"histogram2dcontour\"}], \"mesh3d\": [{\"colorbar\": {\"outlinewidth\": 0, \"ticks\": \"\"}, \"type\": \"mesh3d\"}], \"parcoords\": [{\"line\": {\"colorbar\": {\"outlinewidth\": 0, \"ticks\": \"\"}}, \"type\": \"parcoords\"}], \"pie\": [{\"automargin\": true, \"type\": \"pie\"}], \"scatter\": [{\"marker\": {\"colorbar\": {\"outlinewidth\": 0, \"ticks\": \"\"}}, \"type\": \"scatter\"}], \"scatter3d\": [{\"line\": {\"colorbar\": {\"outlinewidth\": 0, \"ticks\": \"\"}}, \"marker\": {\"colorbar\": {\"outlinewidth\": 0, \"ticks\": \"\"}}, \"type\": \"scatter3d\"}], \"scattercarpet\": [{\"marker\": {\"colorbar\": {\"outlinewidth\": 0, \"ticks\": \"\"}}, \"type\": \"scattercarpet\"}], \"scattergeo\": [{\"marker\": {\"colorbar\": {\"outlinewidth\": 0, \"ticks\": \"\"}}, \"type\": \"scattergeo\"}], \"scattergl\": [{\"marker\": {\"colorbar\": {\"outlinewidth\": 0, \"ticks\": \"\"}}, \"type\": \"scattergl\"}], \"scattermapbox\": [{\"marker\": {\"colorbar\": {\"outlinewidth\": 0, \"ticks\": \"\"}}, \"type\": \"scattermapbox\"}], \"scatterpolar\": [{\"marker\": {\"colorbar\": {\"outlinewidth\": 0, \"ticks\": \"\"}}, \"type\": \"scatterpolar\"}], \"scatterpolargl\": [{\"marker\": {\"colorbar\": {\"outlinewidth\": 0, \"ticks\": \"\"}}, \"type\": \"scatterpolargl\"}], \"scatterternary\": [{\"marker\": {\"colorbar\": {\"outlinewidth\": 0, \"ticks\": \"\"}}, \"type\": \"scatterternary\"}], \"surface\": [{\"colorbar\": {\"outlinewidth\": 0, \"ticks\": \"\"}, \"colorscale\": [[0.0, \"#0d0887\"], [0.1111111111111111, \"#46039f\"], [0.2222222222222222, \"#7201a8\"], [0.3333333333333333, \"#9c179e\"], [0.4444444444444444, \"#bd3786\"], [0.5555555555555556, \"#d8576b\"], [0.6666666666666666, \"#ed7953\"], [0.7777777777777778, \"#fb9f3a\"], [0.8888888888888888, \"#fdca26\"], [1.0, \"#f0f921\"]], \"type\": \"surface\"}], \"table\": [{\"cells\": {\"fill\": {\"color\": \"#EBF0F8\"}, \"line\": {\"color\": \"white\"}}, \"header\": {\"fill\": {\"color\": \"#C8D4E3\"}, \"line\": {\"color\": \"white\"}}, \"type\": \"table\"}]}, \"layout\": {\"annotationdefaults\": {\"arrowcolor\": \"#2a3f5f\", \"arrowhead\": 0, \"arrowwidth\": 1}, \"coloraxis\": {\"colorbar\": {\"outlinewidth\": 0, \"ticks\": \"\"}}, \"colorscale\": {\"diverging\": [[0, \"#8e0152\"], [0.1, \"#c51b7d\"], [0.2, \"#de77ae\"], [0.3, \"#f1b6da\"], [0.4, \"#fde0ef\"], [0.5, \"#f7f7f7\"], [0.6, \"#e6f5d0\"], [0.7, \"#b8e186\"], [0.8, \"#7fbc41\"], [0.9, \"#4d9221\"], [1, \"#276419\"]], \"sequential\": [[0.0, \"#0d0887\"], [0.1111111111111111, \"#46039f\"], [0.2222222222222222, \"#7201a8\"], [0.3333333333333333, \"#9c179e\"], [0.4444444444444444, \"#bd3786\"], [0.5555555555555556, \"#d8576b\"], [0.6666666666666666, \"#ed7953\"], [0.7777777777777778, \"#fb9f3a\"], [0.8888888888888888, \"#fdca26\"], [1.0, \"#f0f921\"]], \"sequentialminus\": [[0.0, \"#0d0887\"], [0.1111111111111111, \"#46039f\"], [0.2222222222222222, \"#7201a8\"], [0.3333333333333333, \"#9c179e\"], [0.4444444444444444, \"#bd3786\"], [0.5555555555555556, \"#d8576b\"], [0.6666666666666666, \"#ed7953\"], [0.7777777777777778, \"#fb9f3a\"], [0.8888888888888888, \"#fdca26\"], [1.0, \"#f0f921\"]]}, \"colorway\": [\"#636efa\", \"#EF553B\", \"#00cc96\", \"#ab63fa\", \"#FFA15A\", \"#19d3f3\", \"#FF6692\", \"#B6E880\", \"#FF97FF\", \"#FECB52\"], \"font\": {\"color\": \"#2a3f5f\"}, \"geo\": {\"bgcolor\": \"white\", \"lakecolor\": \"white\", \"landcolor\": \"#E5ECF6\", \"showlakes\": true, \"showland\": true, \"subunitcolor\": \"white\"}, \"hoverlabel\": {\"align\": \"left\"}, \"hovermode\": \"closest\", \"mapbox\": {\"style\": \"light\"}, \"paper_bgcolor\": \"white\", \"plot_bgcolor\": \"#E5ECF6\", \"polar\": {\"angularaxis\": {\"gridcolor\": \"white\", \"linecolor\": \"white\", \"ticks\": \"\"}, \"bgcolor\": \"#E5ECF6\", \"radialaxis\": {\"gridcolor\": \"white\", \"linecolor\": \"white\", \"ticks\": \"\"}}, \"scene\": {\"xaxis\": {\"backgroundcolor\": \"#E5ECF6\", \"gridcolor\": \"white\", \"gridwidth\": 2, \"linecolor\": \"white\", \"showbackground\": true, \"ticks\": \"\", \"zerolinecolor\": \"white\"}, \"yaxis\": {\"backgroundcolor\": \"#E5ECF6\", \"gridcolor\": \"white\", \"gridwidth\": 2, \"linecolor\": \"white\", \"showbackground\": true, \"ticks\": \"\", \"zerolinecolor\": \"white\"}, \"zaxis\": {\"backgroundcolor\": \"#E5ECF6\", \"gridcolor\": \"white\", \"gridwidth\": 2, \"linecolor\": \"white\", \"showbackground\": true, \"ticks\": \"\", \"zerolinecolor\": \"white\"}}, \"shapedefaults\": {\"line\": {\"color\": \"#2a3f5f\"}}, \"ternary\": {\"aaxis\": {\"gridcolor\": \"white\", \"linecolor\": \"white\", \"ticks\": \"\"}, \"baxis\": {\"gridcolor\": \"white\", \"linecolor\": \"white\", \"ticks\": \"\"}, \"bgcolor\": \"#E5ECF6\", \"caxis\": {\"gridcolor\": \"white\", \"linecolor\": \"white\", \"ticks\": \"\"}}, \"title\": {\"x\": 0.05}, \"xaxis\": {\"automargin\": true, \"gridcolor\": \"white\", \"linecolor\": \"white\", \"ticks\": \"\", \"title\": {\"standoff\": 15}, \"zerolinecolor\": \"white\", \"zerolinewidth\": 2}, \"yaxis\": {\"automargin\": true, \"gridcolor\": \"white\", \"linecolor\": \"white\", \"ticks\": \"\", \"title\": {\"standoff\": 15}, \"zerolinecolor\": \"white\", \"zerolinewidth\": 2}}}, \"xaxis\": {\"anchor\": \"y\", \"domain\": [0.5166666666666667, 0.8277777777777777]}, \"xaxis2\": {\"anchor\": \"y2\", \"domain\": [0.5166666666666667, 0.8277777777777777]}, \"xaxis3\": {\"anchor\": \"y3\", \"domain\": [0.5166666666666667, 0.8277777777777777]}, \"yaxis\": {\"anchor\": \"x\", \"domain\": [0.80625, 1.0]}, \"yaxis2\": {\"anchor\": \"x2\", \"domain\": [0.5375, 0.73125]}, \"yaxis3\": {\"anchor\": \"x3\", \"domain\": [0.26875, 0.4625]}},\n",
       "                        {\"responsive\": true}\n",
       "                    ).then(function(){\n",
       "                            \n",
       "var gd = document.getElementById('ec626c19-8fee-419a-ba2f-3919c86ac150');\n",
       "var x = new MutationObserver(function (mutations, observer) {{\n",
       "        var display = window.getComputedStyle(gd).display;\n",
       "        if (!display || display === 'none') {{\n",
       "            console.log([gd, 'removed!']);\n",
       "            Plotly.purge(gd);\n",
       "            observer.disconnect();\n",
       "        }}\n",
       "}});\n",
       "\n",
       "// Listen for the removal of the full notebook cells\n",
       "var notebookContainer = gd.closest('#notebook-container');\n",
       "if (notebookContainer) {{\n",
       "    x.observe(notebookContainer, {childList: true});\n",
       "}}\n",
       "\n",
       "// Listen for the clearing of the current output cell\n",
       "var outputEl = gd.closest('.output');\n",
       "if (outputEl) {{\n",
       "    x.observe(outputEl, {childList: true});\n",
       "}}\n",
       "\n",
       "                        })\n",
       "                };\n",
       "                });\n",
       "            </script>\n",
       "        </div>"
      ]
     },
     "metadata": {},
     "output_type": "display_data"
    }
   ],
   "source": [
    "fig.add_trace(\n",
    "    go.Scatter(\n",
    "        x=top10_states_confirm,\n",
    "        y=top10_confirmed, \n",
    "        name= \"Confirmed Cases\",\n",
    "        marker=dict(color=\"Orange\"), \n",
    "        showlegend=True,\n",
    "    ),\n",
    "    row=1, col=4\n",
    ")\n",
    "\n",
    "fig.add_trace(\n",
    "    go.Scatter(\n",
    "        x=top10_states_recovered,\n",
    "        y=top10_recovered, \n",
    "        name= \"Recovered Cases\",\n",
    "        marker=dict(color=\"Green\"), \n",
    "        showlegend=True),\n",
    "    row=2, col=4\n",
    ")\n",
    "\n",
    "fig.add_trace(\n",
    "    go.Scatter(\n",
    "        x=top10_states_deaths,\n",
    "        y=top10_death, \n",
    "        name= \"Deaths Cases\",\n",
    "        marker=dict(color=\"crimson\"), \n",
    "        showlegend=True),\n",
    "    row=3, col=4\n",
    ")\n"
   ]
  },
  {
   "cell_type": "code",
   "execution_count": 73,
   "metadata": {},
   "outputs": [],
   "source": [
    "\n",
    "fig.update_layout(\n",
    "    template=\"plotly_dark\",\n",
    "    title = \"COVID-19 INDIA Cases (Last Updated: \" + str(covid[\"lastupdatedtime\"][0]) + \")\",\n",
    "    showlegend=False,\n",
    "    legend_orientation=\"h\",\n",
    "    legend=dict(x=0.65, y=0.8),\n",
    "    geo = dict(\n",
    "            projection_type=\"natural earth\",\n",
    "            showcoastlines=True,\n",
    "            landcolor=\"LightGreen\", \n",
    "            showland= True,\n",
    "            showocean = True,\n",
    "            lakecolor=\"LightBlue\"\n",
    "    ),\n",
    "\n",
    "    annotations=[\n",
    "        dict(\n",
    "            text=\"Source: https://api.covid19india.org/\",\n",
    "            showarrow=False,\n",
    "            xref=\"paper\",\n",
    "            yref=\"paper\",\n",
    "            x=0.35,\n",
    "            y=0)\n",
    "    ]\n",
    ")\n",
    "\n",
    "fig.write_html('covid_19_india_dashboard_by_shaili_jain.html', auto_open=True)"
   ]
  },
  {
   "cell_type": "code",
   "execution_count": null,
   "metadata": {},
   "outputs": [],
   "source": []
  },
  {
   "cell_type": "code",
   "execution_count": null,
   "metadata": {},
   "outputs": [],
   "source": []
  }
 ],
 "metadata": {
  "kernelspec": {
   "display_name": "Python 3",
   "language": "python",
   "name": "python3"
  },
  "language_info": {
   "codemirror_mode": {
    "name": "ipython",
    "version": 3
   },
   "file_extension": ".py",
   "mimetype": "text/x-python",
   "name": "python",
   "nbconvert_exporter": "python",
   "pygments_lexer": "ipython3",
   "version": "3.7.4"
  }
 },
 "nbformat": 4,
 "nbformat_minor": 4
}
